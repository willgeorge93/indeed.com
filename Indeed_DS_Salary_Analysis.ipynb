{
 "cells": [
  {
   "cell_type": "markdown",
   "metadata": {
    "focus": false,
    "id": "69b9a648-bcc7-490d-9f9b-ea244d156bd6"
   },
   "source": [
    "# Web Scraping for Indeed.com and Predicting Salaries"
   ]
  },
  {
   "cell_type": "markdown",
   "metadata": {},
   "source": [
    "## Project Overview"
   ]
  },
  {
   "cell_type": "markdown",
   "metadata": {},
   "source": [
    "### Business Case Overview\n",
    "\n",
    "The aim of the project is to leverage data to help a rapidly expanding contracting firm win more bids for contracts. The firm offers technology and scientific solutions and wants to be competitive in the hiring market and take on more experts in the Data Science field. \n",
    "\n",
    "**Main Objective:**\n",
    "   - Determine the industry factors that are most important in predicting the salary amounts for the data to be scraped from www.indeed.com.\n",
    "\n",
    "The specific job roles to be targeted are data scientist, data analyst, research scientist, business intelligence, and more."
   ]
  },
  {
   "cell_type": "markdown",
   "metadata": {},
   "source": [
    "### Factors that impact salary\n",
    "\n",
    "The aim is to estimate which factors (like location, job title, job level, industry sector) lead to high or low salary via classification model, and from there conduct some analysis to investigate the impacts of these factors. \n",
    "\n",
    "To do so, the salary is to be split into two groups of high and low salary, using the median salary as a threshold."
   ]
  },
  {
   "cell_type": "markdown",
   "metadata": {
    "focus": false,
    "id": "a948d79c-5527-4c0d-ab23-f5d43ce72056"
   },
   "source": [
    "### Scraping job listings from Indeed.com"
   ]
  },
  {
   "cell_type": "markdown",
   "metadata": {
    "focus": true,
    "id": "7203e0c9-e437-4802-a6ad-7dc464f94436"
   },
   "source": [
    "We will be scraping job listings from Indeed.com using BeautifulSoup. Luckily, Indeed.com is a simple text page where we can easily find relevant entries."
   ]
  },
  {
   "cell_type": "code",
   "execution_count": 2,
   "metadata": {
    "focus": false,
    "id": "2efefc73-064a-482d-b3b5-ddf5508cb4ec"
   },
   "outputs": [],
   "source": [
    "import requests\n",
    "import bs4\n",
    "from bs4 import BeautifulSoup\n",
    "import time\n",
    "from tqdm import tqdm\n",
    "import numpy as np\n",
    "import pandas as pd\n",
    "import math"
   ]
  },
  {
   "cell_type": "markdown",
   "metadata": {
    "focus": false,
    "id": "f1eddb90-4ba8-483c-a229-77e93aa53119"
   },
   "source": [
    "### Information Extraction Functions\n",
    "\n",
    "The functions below will be used to parse out the 4 fields - location, title, company and salary."
   ]
  },
  {
   "cell_type": "code",
   "execution_count": 3,
   "metadata": {},
   "outputs": [],
   "source": [
    "def extract_location(result):\n",
    "    try:\n",
    "        return result.find('span', attrs={'class': 'location'}).text\n",
    "    except:\n",
    "        return np.nan"
   ]
  },
  {
   "cell_type": "code",
   "execution_count": 4,
   "metadata": {},
   "outputs": [],
   "source": [
    "def extract_company(result):\n",
    "    try:\n",
    "        return result.find('span', attrs={'class': 'company'}).text.strip('\\n')\n",
    "    except:\n",
    "        return np.nan"
   ]
  },
  {
   "cell_type": "code",
   "execution_count": 5,
   "metadata": {},
   "outputs": [],
   "source": [
    "def extract_job_title(result):\n",
    "    try:\n",
    "        return result.find('a', attrs={'class': 'jobtitle', 'data-tn-element': 'jobTitle'}).text.replace('\\n', ' ').strip()\n",
    "    except:\n",
    "        return np.nan"
   ]
  },
  {
   "cell_type": "code",
   "execution_count": 6,
   "metadata": {},
   "outputs": [],
   "source": [
    "def extract_salary(result):\n",
    "    try:\n",
    "        return result.find('span', attrs={'class': 'salaryText'}).text.replace('$', '').replace(',', '').strip('\\n')\n",
    "    except:\n",
    "        return np.nan"
   ]
  },
  {
   "cell_type": "code",
   "execution_count": 190,
   "metadata": {},
   "outputs": [],
   "source": [
    "def page_total(city):\n",
    "    url = url = f\"http://www.indeed.com/jobs?q=data+scientist+%2420%2C000&l={city}&start=0\"\n",
    "    results = requests.get(url)\n",
    "    soup = BeautifulSoup(results.text, 'html.parser')\n",
    "    return math.ceil(int(soup.find('div', attrs={'id': 'searchCountPages'}).text.split('of')[1].strip('jobs').strip(' ').replace(',', ''))/15)"
   ]
  },
  {
   "cell_type": "markdown",
   "metadata": {},
   "source": [
    "#### For the UK"
   ]
  },
  {
   "cell_type": "code",
   "execution_count": 10,
   "metadata": {},
   "outputs": [
    {
     "name": "stderr",
     "output_type": "stream",
     "text": [
      "100%|██████████| 500/500 [5:47:36<00:00, 41.71s/it]    \n",
      "100%|██████████| 500/500 [5:33:41<00:00, 40.04s/it]    \n"
     ]
    },
    {
     "ename": "NameError",
     "evalue": "name 'city_cursor' is not defined",
     "output_type": "error",
     "traceback": [
      "\u001b[0;31m---------------------------------------------------------------------------\u001b[0m",
      "\u001b[0;31mNameError\u001b[0m                                 Traceback (most recent call last)",
      "\u001b[0;32m<ipython-input-10-de893b15a402>\u001b[0m in \u001b[0;36m<module>\u001b[0;34m\u001b[0m\n\u001b[1;32m     43\u001b[0m \u001b[0;34m\u001b[0m\u001b[0m\n\u001b[1;32m     44\u001b[0m \u001b[0;34m\u001b[0m\u001b[0m\n\u001b[0;32m---> 45\u001b[0;31m \u001b[0mprint\u001b[0m\u001b[0;34m(\u001b[0m\u001b[0;34mf'Stopped at {city_cursor}, page {int(page_cursor/10)}'\u001b[0m\u001b[0;34m)\u001b[0m\u001b[0;34m\u001b[0m\u001b[0;34m\u001b[0m\u001b[0m\n\u001b[0m\u001b[1;32m     46\u001b[0m \u001b[0;34m\u001b[0m\u001b[0m\n",
      "\u001b[0;31mNameError\u001b[0m: name 'city_cursor' is not defined"
     ]
    }
   ],
   "source": [
    "from collections import defaultdict\n",
    "from IPython.display import clear_output\n",
    "\n",
    "max_results_per_city = 5000 # Set this to a high-value (5000) to generate more results. \n",
    "# Crawling more results, will also take much longer. First test your code on a small number of results and then expand.\n",
    "\n",
    "results = defaultdict(list)\n",
    "status = defaultdict(list)\n",
    "\n",
    "captcha=False\n",
    "\n",
    "# while loop for repeating until certain amount of data is scraped - storing the city and result each time so we can continue from this point\n",
    "# countries = [england, united_states, singapore]\n",
    "# england = ['Chester' 'London', 'Manchester', 'Liverpool', 'Leeds', 'York', 'Bradford', \n",
    "#     'Milton+Keynes', 'Reading', 'Birmingham', 'Cardiff', 'Wolverhampton', \n",
    "#     'Edinburgh', 'Glasgow', 'Huddersfield', 'Crewe', 'Warwick', 'Oxford', \n",
    "#     'Cambridge', 'Bournemouth']\n",
    "\n",
    "for city in set(['London', 'Liverpool']):\n",
    "#     pages = page_total(city)\n",
    "    for start in tqdm(range(0, max_results_per_city, 10)):\n",
    "        url = f\"https://uk.indeed.com/jobs?q=data+scientist&l={city}&start={start}\"\n",
    "        result = requests.get(url)\n",
    "        status[city].append(result.status_code)\n",
    "        soup = BeautifulSoup(result.text, 'html.parser')\n",
    "        if 'hCaptcha' not in str(soup.prettify):\n",
    "            for post in soup.find_all('div', attrs={'class':'jobsearch-SerpJobCard'}):\n",
    "                results['title'].append(extract_job_title(post))\n",
    "                results['company'].append(extract_company(post))\n",
    "                results['location'].append(extract_location(post))\n",
    "                results['currency'].append('GBP')\n",
    "                results['country'].append('britain')\n",
    "                results['salary'].append(extract_salary(post))\n",
    "            time.sleep(30)\n",
    "        else:\n",
    "            print('Caught')\n",
    "            city_cursor = city\n",
    "            page_cursor = start\n",
    "            captcha=True\n",
    "            break\n",
    "    if captcha==True:\n",
    "        break\n",
    "    time.sleep(20)\n",
    "\n",
    "\n",
    "print(f'Stopped at {city_cursor}, page {int(page_cursor/10)}')\n",
    "\n"
   ]
  },
  {
   "cell_type": "markdown",
   "metadata": {},
   "source": [
    "#### For the US"
   ]
  },
  {
   "cell_type": "code",
   "execution_count": 197,
   "metadata": {
    "focus": false,
    "id": "04b0f9af-540e-402f-8292-81748707c676"
   },
   "outputs": [
    {
     "name": "stderr",
     "output_type": "stream",
     "text": [
      " 72%|███████▏  | 359/500 [3:07:05<1:13:28, 31.27s/it]"
     ]
    },
    {
     "name": "stdout",
     "output_type": "stream",
     "text": [
      "Caught\n",
      "Stopped at Portland, page 359\n"
     ]
    },
    {
     "name": "stderr",
     "output_type": "stream",
     "text": [
      "\n"
     ]
    }
   ],
   "source": [
    "from collections import defaultdict\n",
    "from IPython.display import clear_output\n",
    "\n",
    "max_results_per_city = 5000 # Set this to a high-value (5000) to generate more results. \n",
    "# Crawling more results, will also take much longer. First test your code on a small number of results and then expand.\n",
    "\n",
    "results = defaultdict(list)\n",
    "status = defaultdict(list)\n",
    "\n",
    "captcha=False\n",
    "\n",
    "# while loop for repeating until certain amount of data is scraped - storing the city and result each time so we can continue from this point\n",
    "# countries = [england, united_states, singapore]\n",
    "# england = ['Chester' 'London', 'Manchester', 'Liverpool', 'Leeds', 'York', 'Bradford', \n",
    "#     'Milton+Keynes', 'Reading', 'Birmingham', 'Cardiff', 'Wolverhampton', \n",
    "#     'Edinburgh', 'Glasgow', 'Huddersfield', 'Crewe', 'Warwick', 'Oxford', \n",
    "#     'Cambridge', 'Bournemouth']\n",
    "\n",
    "for city in set(['Seattle']):\n",
    "#     pages = page_total(city)\n",
    "    for start in tqdm(range(0, max_results_per_city, 10)):\n",
    "        url = f\"http://www.indeed.com/jobs?q=data+scientist+%2420%2C000&l={city}&start={start}\"\n",
    "        result = requests.get(url)\n",
    "        status[city].append(result.status_code)\n",
    "        soup = BeautifulSoup(result.text, 'html.parser')\n",
    "        if 'hCaptcha' not in str(soup.prettify):\n",
    "            for post in soup.find_all('div', attrs={'class':'jobsearch-SerpJobCard'}):\n",
    "                results['title'].append(extract_job_title(post))\n",
    "                results['company'].append(extract_company(post))\n",
    "                results['location'].append(extract_location(post))\n",
    "                results['currency'].append('USD')\n",
    "                results['country'].append('usa')\n",
    "                results['salary'].append(extract_salary(post))\n",
    "            time.sleep(40)\n",
    "        else:\n",
    "            print('Caught')\n",
    "            city_cursor = city\n",
    "            page_cursor = start\n",
    "            captcha=True\n",
    "            break\n",
    "    if captcha==True:\n",
    "        break\n",
    "    time.sleep(20)\n",
    "\n",
    "\n",
    "print(f'Stopped at {city_cursor}, page {int(page_cursor/10)}')"
   ]
  },
  {
   "cell_type": "markdown",
   "metadata": {},
   "source": [
    "#### For Singapore"
   ]
  },
  {
   "cell_type": "code",
   "execution_count": 160,
   "metadata": {},
   "outputs": [
    {
     "name": "stderr",
     "output_type": "stream",
     "text": [
      " 32%|███▏      | 159/500 [1:11:19<2:32:58, 26.92s/it]\n"
     ]
    },
    {
     "ename": "ConnectionError",
     "evalue": "HTTPSConnectionPool(host='sg.indeed.com', port=443): Max retries exceeded with url: /jobs?q=Data+Scientist&start=1590 (Caused by NewConnectionError('<urllib3.connection.HTTPSConnection object at 0x7ff509a3d1f0>: Failed to establish a new connection: [Errno 60] Operation timed out'))",
     "output_type": "error",
     "traceback": [
      "\u001b[0;31m---------------------------------------------------------------------------\u001b[0m",
      "\u001b[0;31mTimeoutError\u001b[0m                              Traceback (most recent call last)",
      "\u001b[0;32m~/opt/anaconda3/lib/python3.8/site-packages/urllib3/connection.py\u001b[0m in \u001b[0;36m_new_conn\u001b[0;34m(self)\u001b[0m\n\u001b[1;32m    158\u001b[0m         \u001b[0;32mtry\u001b[0m\u001b[0;34m:\u001b[0m\u001b[0;34m\u001b[0m\u001b[0;34m\u001b[0m\u001b[0m\n\u001b[0;32m--> 159\u001b[0;31m             conn = connection.create_connection(\n\u001b[0m\u001b[1;32m    160\u001b[0m                 \u001b[0;34m(\u001b[0m\u001b[0mself\u001b[0m\u001b[0;34m.\u001b[0m\u001b[0m_dns_host\u001b[0m\u001b[0;34m,\u001b[0m \u001b[0mself\u001b[0m\u001b[0;34m.\u001b[0m\u001b[0mport\u001b[0m\u001b[0;34m)\u001b[0m\u001b[0;34m,\u001b[0m \u001b[0mself\u001b[0m\u001b[0;34m.\u001b[0m\u001b[0mtimeout\u001b[0m\u001b[0;34m,\u001b[0m \u001b[0;34m**\u001b[0m\u001b[0mextra_kw\u001b[0m\u001b[0;34m\u001b[0m\u001b[0;34m\u001b[0m\u001b[0m\n",
      "\u001b[0;32m~/opt/anaconda3/lib/python3.8/site-packages/urllib3/util/connection.py\u001b[0m in \u001b[0;36mcreate_connection\u001b[0;34m(address, timeout, source_address, socket_options)\u001b[0m\n\u001b[1;32m     83\u001b[0m     \u001b[0;32mif\u001b[0m \u001b[0merr\u001b[0m \u001b[0;32mis\u001b[0m \u001b[0;32mnot\u001b[0m \u001b[0;32mNone\u001b[0m\u001b[0;34m:\u001b[0m\u001b[0;34m\u001b[0m\u001b[0;34m\u001b[0m\u001b[0m\n\u001b[0;32m---> 84\u001b[0;31m         \u001b[0;32mraise\u001b[0m \u001b[0merr\u001b[0m\u001b[0;34m\u001b[0m\u001b[0;34m\u001b[0m\u001b[0m\n\u001b[0m\u001b[1;32m     85\u001b[0m \u001b[0;34m\u001b[0m\u001b[0m\n",
      "\u001b[0;32m~/opt/anaconda3/lib/python3.8/site-packages/urllib3/util/connection.py\u001b[0m in \u001b[0;36mcreate_connection\u001b[0;34m(address, timeout, source_address, socket_options)\u001b[0m\n\u001b[1;32m     73\u001b[0m                 \u001b[0msock\u001b[0m\u001b[0;34m.\u001b[0m\u001b[0mbind\u001b[0m\u001b[0;34m(\u001b[0m\u001b[0msource_address\u001b[0m\u001b[0;34m)\u001b[0m\u001b[0;34m\u001b[0m\u001b[0;34m\u001b[0m\u001b[0m\n\u001b[0;32m---> 74\u001b[0;31m             \u001b[0msock\u001b[0m\u001b[0;34m.\u001b[0m\u001b[0mconnect\u001b[0m\u001b[0;34m(\u001b[0m\u001b[0msa\u001b[0m\u001b[0;34m)\u001b[0m\u001b[0;34m\u001b[0m\u001b[0;34m\u001b[0m\u001b[0m\n\u001b[0m\u001b[1;32m     75\u001b[0m             \u001b[0;32mreturn\u001b[0m \u001b[0msock\u001b[0m\u001b[0;34m\u001b[0m\u001b[0;34m\u001b[0m\u001b[0m\n",
      "\u001b[0;31mTimeoutError\u001b[0m: [Errno 60] Operation timed out",
      "\nDuring handling of the above exception, another exception occurred:\n",
      "\u001b[0;31mNewConnectionError\u001b[0m                        Traceback (most recent call last)",
      "\u001b[0;32m~/opt/anaconda3/lib/python3.8/site-packages/urllib3/connectionpool.py\u001b[0m in \u001b[0;36murlopen\u001b[0;34m(self, method, url, body, headers, retries, redirect, assert_same_host, timeout, pool_timeout, release_conn, chunked, body_pos, **response_kw)\u001b[0m\n\u001b[1;32m    669\u001b[0m             \u001b[0;31m# Make the request on the httplib connection object.\u001b[0m\u001b[0;34m\u001b[0m\u001b[0;34m\u001b[0m\u001b[0;34m\u001b[0m\u001b[0m\n\u001b[0;32m--> 670\u001b[0;31m             httplib_response = self._make_request(\n\u001b[0m\u001b[1;32m    671\u001b[0m                 \u001b[0mconn\u001b[0m\u001b[0;34m,\u001b[0m\u001b[0;34m\u001b[0m\u001b[0;34m\u001b[0m\u001b[0m\n",
      "\u001b[0;32m~/opt/anaconda3/lib/python3.8/site-packages/urllib3/connectionpool.py\u001b[0m in \u001b[0;36m_make_request\u001b[0;34m(self, conn, method, url, timeout, chunked, **httplib_request_kw)\u001b[0m\n\u001b[1;32m    380\u001b[0m         \u001b[0;32mtry\u001b[0m\u001b[0;34m:\u001b[0m\u001b[0;34m\u001b[0m\u001b[0;34m\u001b[0m\u001b[0m\n\u001b[0;32m--> 381\u001b[0;31m             \u001b[0mself\u001b[0m\u001b[0;34m.\u001b[0m\u001b[0m_validate_conn\u001b[0m\u001b[0;34m(\u001b[0m\u001b[0mconn\u001b[0m\u001b[0;34m)\u001b[0m\u001b[0;34m\u001b[0m\u001b[0;34m\u001b[0m\u001b[0m\n\u001b[0m\u001b[1;32m    382\u001b[0m         \u001b[0;32mexcept\u001b[0m \u001b[0;34m(\u001b[0m\u001b[0mSocketTimeout\u001b[0m\u001b[0;34m,\u001b[0m \u001b[0mBaseSSLError\u001b[0m\u001b[0;34m)\u001b[0m \u001b[0;32mas\u001b[0m \u001b[0me\u001b[0m\u001b[0;34m:\u001b[0m\u001b[0;34m\u001b[0m\u001b[0;34m\u001b[0m\u001b[0m\n",
      "\u001b[0;32m~/opt/anaconda3/lib/python3.8/site-packages/urllib3/connectionpool.py\u001b[0m in \u001b[0;36m_validate_conn\u001b[0;34m(self, conn)\u001b[0m\n\u001b[1;32m    977\u001b[0m         \u001b[0;32mif\u001b[0m \u001b[0;32mnot\u001b[0m \u001b[0mgetattr\u001b[0m\u001b[0;34m(\u001b[0m\u001b[0mconn\u001b[0m\u001b[0;34m,\u001b[0m \u001b[0;34m\"sock\"\u001b[0m\u001b[0;34m,\u001b[0m \u001b[0;32mNone\u001b[0m\u001b[0;34m)\u001b[0m\u001b[0;34m:\u001b[0m  \u001b[0;31m# AppEngine might not have  `.sock`\u001b[0m\u001b[0;34m\u001b[0m\u001b[0;34m\u001b[0m\u001b[0m\n\u001b[0;32m--> 978\u001b[0;31m             \u001b[0mconn\u001b[0m\u001b[0;34m.\u001b[0m\u001b[0mconnect\u001b[0m\u001b[0;34m(\u001b[0m\u001b[0;34m)\u001b[0m\u001b[0;34m\u001b[0m\u001b[0;34m\u001b[0m\u001b[0m\n\u001b[0m\u001b[1;32m    979\u001b[0m \u001b[0;34m\u001b[0m\u001b[0m\n",
      "\u001b[0;32m~/opt/anaconda3/lib/python3.8/site-packages/urllib3/connection.py\u001b[0m in \u001b[0;36mconnect\u001b[0;34m(self)\u001b[0m\n\u001b[1;32m    308\u001b[0m         \u001b[0;31m# Add certificate verification\u001b[0m\u001b[0;34m\u001b[0m\u001b[0;34m\u001b[0m\u001b[0;34m\u001b[0m\u001b[0m\n\u001b[0;32m--> 309\u001b[0;31m         \u001b[0mconn\u001b[0m \u001b[0;34m=\u001b[0m \u001b[0mself\u001b[0m\u001b[0;34m.\u001b[0m\u001b[0m_new_conn\u001b[0m\u001b[0;34m(\u001b[0m\u001b[0;34m)\u001b[0m\u001b[0;34m\u001b[0m\u001b[0;34m\u001b[0m\u001b[0m\n\u001b[0m\u001b[1;32m    310\u001b[0m         \u001b[0mhostname\u001b[0m \u001b[0;34m=\u001b[0m \u001b[0mself\u001b[0m\u001b[0;34m.\u001b[0m\u001b[0mhost\u001b[0m\u001b[0;34m\u001b[0m\u001b[0;34m\u001b[0m\u001b[0m\n",
      "\u001b[0;32m~/opt/anaconda3/lib/python3.8/site-packages/urllib3/connection.py\u001b[0m in \u001b[0;36m_new_conn\u001b[0;34m(self)\u001b[0m\n\u001b[1;32m    170\u001b[0m         \u001b[0;32mexcept\u001b[0m \u001b[0mSocketError\u001b[0m \u001b[0;32mas\u001b[0m \u001b[0me\u001b[0m\u001b[0;34m:\u001b[0m\u001b[0;34m\u001b[0m\u001b[0;34m\u001b[0m\u001b[0m\n\u001b[0;32m--> 171\u001b[0;31m             raise NewConnectionError(\n\u001b[0m\u001b[1;32m    172\u001b[0m                 \u001b[0mself\u001b[0m\u001b[0;34m,\u001b[0m \u001b[0;34m\"Failed to establish a new connection: %s\"\u001b[0m \u001b[0;34m%\u001b[0m \u001b[0me\u001b[0m\u001b[0;34m\u001b[0m\u001b[0;34m\u001b[0m\u001b[0m\n",
      "\u001b[0;31mNewConnectionError\u001b[0m: <urllib3.connection.HTTPSConnection object at 0x7ff509a3d1f0>: Failed to establish a new connection: [Errno 60] Operation timed out",
      "\nDuring handling of the above exception, another exception occurred:\n",
      "\u001b[0;31mMaxRetryError\u001b[0m                             Traceback (most recent call last)",
      "\u001b[0;32m~/opt/anaconda3/lib/python3.8/site-packages/requests/adapters.py\u001b[0m in \u001b[0;36msend\u001b[0;34m(self, request, stream, timeout, verify, cert, proxies)\u001b[0m\n\u001b[1;32m    438\u001b[0m             \u001b[0;32mif\u001b[0m \u001b[0;32mnot\u001b[0m \u001b[0mchunked\u001b[0m\u001b[0;34m:\u001b[0m\u001b[0;34m\u001b[0m\u001b[0;34m\u001b[0m\u001b[0m\n\u001b[0;32m--> 439\u001b[0;31m                 resp = conn.urlopen(\n\u001b[0m\u001b[1;32m    440\u001b[0m                     \u001b[0mmethod\u001b[0m\u001b[0;34m=\u001b[0m\u001b[0mrequest\u001b[0m\u001b[0;34m.\u001b[0m\u001b[0mmethod\u001b[0m\u001b[0;34m,\u001b[0m\u001b[0;34m\u001b[0m\u001b[0;34m\u001b[0m\u001b[0m\n",
      "\u001b[0;32m~/opt/anaconda3/lib/python3.8/site-packages/urllib3/connectionpool.py\u001b[0m in \u001b[0;36murlopen\u001b[0;34m(self, method, url, body, headers, retries, redirect, assert_same_host, timeout, pool_timeout, release_conn, chunked, body_pos, **response_kw)\u001b[0m\n\u001b[1;32m    725\u001b[0m \u001b[0;34m\u001b[0m\u001b[0m\n\u001b[0;32m--> 726\u001b[0;31m             retries = retries.increment(\n\u001b[0m\u001b[1;32m    727\u001b[0m                 \u001b[0mmethod\u001b[0m\u001b[0;34m,\u001b[0m \u001b[0murl\u001b[0m\u001b[0;34m,\u001b[0m \u001b[0merror\u001b[0m\u001b[0;34m=\u001b[0m\u001b[0me\u001b[0m\u001b[0;34m,\u001b[0m \u001b[0m_pool\u001b[0m\u001b[0;34m=\u001b[0m\u001b[0mself\u001b[0m\u001b[0;34m,\u001b[0m \u001b[0m_stacktrace\u001b[0m\u001b[0;34m=\u001b[0m\u001b[0msys\u001b[0m\u001b[0;34m.\u001b[0m\u001b[0mexc_info\u001b[0m\u001b[0;34m(\u001b[0m\u001b[0;34m)\u001b[0m\u001b[0;34m[\u001b[0m\u001b[0;36m2\u001b[0m\u001b[0;34m]\u001b[0m\u001b[0;34m\u001b[0m\u001b[0;34m\u001b[0m\u001b[0m\n",
      "\u001b[0;32m~/opt/anaconda3/lib/python3.8/site-packages/urllib3/util/retry.py\u001b[0m in \u001b[0;36mincrement\u001b[0;34m(self, method, url, response, error, _pool, _stacktrace)\u001b[0m\n\u001b[1;32m    445\u001b[0m         \u001b[0;32mif\u001b[0m \u001b[0mnew_retry\u001b[0m\u001b[0;34m.\u001b[0m\u001b[0mis_exhausted\u001b[0m\u001b[0;34m(\u001b[0m\u001b[0;34m)\u001b[0m\u001b[0;34m:\u001b[0m\u001b[0;34m\u001b[0m\u001b[0;34m\u001b[0m\u001b[0m\n\u001b[0;32m--> 446\u001b[0;31m             \u001b[0;32mraise\u001b[0m \u001b[0mMaxRetryError\u001b[0m\u001b[0;34m(\u001b[0m\u001b[0m_pool\u001b[0m\u001b[0;34m,\u001b[0m \u001b[0murl\u001b[0m\u001b[0;34m,\u001b[0m \u001b[0merror\u001b[0m \u001b[0;32mor\u001b[0m \u001b[0mResponseError\u001b[0m\u001b[0;34m(\u001b[0m\u001b[0mcause\u001b[0m\u001b[0;34m)\u001b[0m\u001b[0;34m)\u001b[0m\u001b[0;34m\u001b[0m\u001b[0;34m\u001b[0m\u001b[0m\n\u001b[0m\u001b[1;32m    447\u001b[0m \u001b[0;34m\u001b[0m\u001b[0m\n",
      "\u001b[0;31mMaxRetryError\u001b[0m: HTTPSConnectionPool(host='sg.indeed.com', port=443): Max retries exceeded with url: /jobs?q=Data+Scientist&start=1590 (Caused by NewConnectionError('<urllib3.connection.HTTPSConnection object at 0x7ff509a3d1f0>: Failed to establish a new connection: [Errno 60] Operation timed out'))",
      "\nDuring handling of the above exception, another exception occurred:\n",
      "\u001b[0;31mConnectionError\u001b[0m                           Traceback (most recent call last)",
      "\u001b[0;32m<ipython-input-160-8408a3aafa51>\u001b[0m in \u001b[0;36m<module>\u001b[0;34m\u001b[0m\n\u001b[1;32m     12\u001b[0m \u001b[0;32mfor\u001b[0m \u001b[0mstart\u001b[0m \u001b[0;32min\u001b[0m \u001b[0mtqdm\u001b[0m\u001b[0;34m(\u001b[0m\u001b[0mrange\u001b[0m\u001b[0;34m(\u001b[0m\u001b[0;36m0\u001b[0m\u001b[0;34m,\u001b[0m \u001b[0mmax_results_per_city\u001b[0m\u001b[0;34m,\u001b[0m \u001b[0;36m10\u001b[0m\u001b[0;34m)\u001b[0m\u001b[0;34m)\u001b[0m\u001b[0;34m:\u001b[0m\u001b[0;34m\u001b[0m\u001b[0;34m\u001b[0m\u001b[0m\n\u001b[1;32m     13\u001b[0m     \u001b[0murl\u001b[0m \u001b[0;34m=\u001b[0m \u001b[0;34mf\"https://sg.indeed.com/jobs?q=Data+Scientist&start={start}\"\u001b[0m\u001b[0;34m\u001b[0m\u001b[0;34m\u001b[0m\u001b[0m\n\u001b[0;32m---> 14\u001b[0;31m     \u001b[0mresult\u001b[0m \u001b[0;34m=\u001b[0m \u001b[0mrequests\u001b[0m\u001b[0;34m.\u001b[0m\u001b[0mget\u001b[0m\u001b[0;34m(\u001b[0m\u001b[0murl\u001b[0m\u001b[0;34m)\u001b[0m\u001b[0;34m\u001b[0m\u001b[0;34m\u001b[0m\u001b[0m\n\u001b[0m\u001b[1;32m     15\u001b[0m     \u001b[0msoup\u001b[0m \u001b[0;34m=\u001b[0m \u001b[0mBeautifulSoup\u001b[0m\u001b[0;34m(\u001b[0m\u001b[0mresult\u001b[0m\u001b[0;34m.\u001b[0m\u001b[0mtext\u001b[0m\u001b[0;34m,\u001b[0m \u001b[0;34m'html.parser'\u001b[0m\u001b[0;34m)\u001b[0m\u001b[0;34m\u001b[0m\u001b[0;34m\u001b[0m\u001b[0m\n\u001b[1;32m     16\u001b[0m     \u001b[0;32mif\u001b[0m \u001b[0;34m'hCaptcha'\u001b[0m \u001b[0;32mnot\u001b[0m \u001b[0;32min\u001b[0m \u001b[0mstr\u001b[0m\u001b[0;34m(\u001b[0m\u001b[0msoup\u001b[0m\u001b[0;34m.\u001b[0m\u001b[0mprettify\u001b[0m\u001b[0;34m)\u001b[0m\u001b[0;34m:\u001b[0m\u001b[0;34m\u001b[0m\u001b[0;34m\u001b[0m\u001b[0m\n",
      "\u001b[0;32m~/opt/anaconda3/lib/python3.8/site-packages/requests/api.py\u001b[0m in \u001b[0;36mget\u001b[0;34m(url, params, **kwargs)\u001b[0m\n\u001b[1;32m     74\u001b[0m \u001b[0;34m\u001b[0m\u001b[0m\n\u001b[1;32m     75\u001b[0m     \u001b[0mkwargs\u001b[0m\u001b[0;34m.\u001b[0m\u001b[0msetdefault\u001b[0m\u001b[0;34m(\u001b[0m\u001b[0;34m'allow_redirects'\u001b[0m\u001b[0;34m,\u001b[0m \u001b[0;32mTrue\u001b[0m\u001b[0;34m)\u001b[0m\u001b[0;34m\u001b[0m\u001b[0;34m\u001b[0m\u001b[0m\n\u001b[0;32m---> 76\u001b[0;31m     \u001b[0;32mreturn\u001b[0m \u001b[0mrequest\u001b[0m\u001b[0;34m(\u001b[0m\u001b[0;34m'get'\u001b[0m\u001b[0;34m,\u001b[0m \u001b[0murl\u001b[0m\u001b[0;34m,\u001b[0m \u001b[0mparams\u001b[0m\u001b[0;34m=\u001b[0m\u001b[0mparams\u001b[0m\u001b[0;34m,\u001b[0m \u001b[0;34m**\u001b[0m\u001b[0mkwargs\u001b[0m\u001b[0;34m)\u001b[0m\u001b[0;34m\u001b[0m\u001b[0;34m\u001b[0m\u001b[0m\n\u001b[0m\u001b[1;32m     77\u001b[0m \u001b[0;34m\u001b[0m\u001b[0m\n\u001b[1;32m     78\u001b[0m \u001b[0;34m\u001b[0m\u001b[0m\n",
      "\u001b[0;32m~/opt/anaconda3/lib/python3.8/site-packages/requests/api.py\u001b[0m in \u001b[0;36mrequest\u001b[0;34m(method, url, **kwargs)\u001b[0m\n\u001b[1;32m     59\u001b[0m     \u001b[0;31m# cases, and look like a memory leak in others.\u001b[0m\u001b[0;34m\u001b[0m\u001b[0;34m\u001b[0m\u001b[0;34m\u001b[0m\u001b[0m\n\u001b[1;32m     60\u001b[0m     \u001b[0;32mwith\u001b[0m \u001b[0msessions\u001b[0m\u001b[0;34m.\u001b[0m\u001b[0mSession\u001b[0m\u001b[0;34m(\u001b[0m\u001b[0;34m)\u001b[0m \u001b[0;32mas\u001b[0m \u001b[0msession\u001b[0m\u001b[0;34m:\u001b[0m\u001b[0;34m\u001b[0m\u001b[0;34m\u001b[0m\u001b[0m\n\u001b[0;32m---> 61\u001b[0;31m         \u001b[0;32mreturn\u001b[0m \u001b[0msession\u001b[0m\u001b[0;34m.\u001b[0m\u001b[0mrequest\u001b[0m\u001b[0;34m(\u001b[0m\u001b[0mmethod\u001b[0m\u001b[0;34m=\u001b[0m\u001b[0mmethod\u001b[0m\u001b[0;34m,\u001b[0m \u001b[0murl\u001b[0m\u001b[0;34m=\u001b[0m\u001b[0murl\u001b[0m\u001b[0;34m,\u001b[0m \u001b[0;34m**\u001b[0m\u001b[0mkwargs\u001b[0m\u001b[0;34m)\u001b[0m\u001b[0;34m\u001b[0m\u001b[0;34m\u001b[0m\u001b[0m\n\u001b[0m\u001b[1;32m     62\u001b[0m \u001b[0;34m\u001b[0m\u001b[0m\n\u001b[1;32m     63\u001b[0m \u001b[0;34m\u001b[0m\u001b[0m\n",
      "\u001b[0;32m~/opt/anaconda3/lib/python3.8/site-packages/requests/sessions.py\u001b[0m in \u001b[0;36mrequest\u001b[0;34m(self, method, url, params, data, headers, cookies, files, auth, timeout, allow_redirects, proxies, hooks, stream, verify, cert, json)\u001b[0m\n\u001b[1;32m    528\u001b[0m         }\n\u001b[1;32m    529\u001b[0m         \u001b[0msend_kwargs\u001b[0m\u001b[0;34m.\u001b[0m\u001b[0mupdate\u001b[0m\u001b[0;34m(\u001b[0m\u001b[0msettings\u001b[0m\u001b[0;34m)\u001b[0m\u001b[0;34m\u001b[0m\u001b[0;34m\u001b[0m\u001b[0m\n\u001b[0;32m--> 530\u001b[0;31m         \u001b[0mresp\u001b[0m \u001b[0;34m=\u001b[0m \u001b[0mself\u001b[0m\u001b[0;34m.\u001b[0m\u001b[0msend\u001b[0m\u001b[0;34m(\u001b[0m\u001b[0mprep\u001b[0m\u001b[0;34m,\u001b[0m \u001b[0;34m**\u001b[0m\u001b[0msend_kwargs\u001b[0m\u001b[0;34m)\u001b[0m\u001b[0;34m\u001b[0m\u001b[0;34m\u001b[0m\u001b[0m\n\u001b[0m\u001b[1;32m    531\u001b[0m \u001b[0;34m\u001b[0m\u001b[0m\n\u001b[1;32m    532\u001b[0m         \u001b[0;32mreturn\u001b[0m \u001b[0mresp\u001b[0m\u001b[0;34m\u001b[0m\u001b[0;34m\u001b[0m\u001b[0m\n",
      "\u001b[0;32m~/opt/anaconda3/lib/python3.8/site-packages/requests/sessions.py\u001b[0m in \u001b[0;36msend\u001b[0;34m(self, request, **kwargs)\u001b[0m\n\u001b[1;32m    641\u001b[0m \u001b[0;34m\u001b[0m\u001b[0m\n\u001b[1;32m    642\u001b[0m         \u001b[0;31m# Send the request\u001b[0m\u001b[0;34m\u001b[0m\u001b[0;34m\u001b[0m\u001b[0;34m\u001b[0m\u001b[0m\n\u001b[0;32m--> 643\u001b[0;31m         \u001b[0mr\u001b[0m \u001b[0;34m=\u001b[0m \u001b[0madapter\u001b[0m\u001b[0;34m.\u001b[0m\u001b[0msend\u001b[0m\u001b[0;34m(\u001b[0m\u001b[0mrequest\u001b[0m\u001b[0;34m,\u001b[0m \u001b[0;34m**\u001b[0m\u001b[0mkwargs\u001b[0m\u001b[0;34m)\u001b[0m\u001b[0;34m\u001b[0m\u001b[0;34m\u001b[0m\u001b[0m\n\u001b[0m\u001b[1;32m    644\u001b[0m \u001b[0;34m\u001b[0m\u001b[0m\n\u001b[1;32m    645\u001b[0m         \u001b[0;31m# Total elapsed time of the request (approximately)\u001b[0m\u001b[0;34m\u001b[0m\u001b[0;34m\u001b[0m\u001b[0;34m\u001b[0m\u001b[0m\n",
      "\u001b[0;32m~/opt/anaconda3/lib/python3.8/site-packages/requests/adapters.py\u001b[0m in \u001b[0;36msend\u001b[0;34m(self, request, stream, timeout, verify, cert, proxies)\u001b[0m\n\u001b[1;32m    514\u001b[0m                 \u001b[0;32mraise\u001b[0m \u001b[0mSSLError\u001b[0m\u001b[0;34m(\u001b[0m\u001b[0me\u001b[0m\u001b[0;34m,\u001b[0m \u001b[0mrequest\u001b[0m\u001b[0;34m=\u001b[0m\u001b[0mrequest\u001b[0m\u001b[0;34m)\u001b[0m\u001b[0;34m\u001b[0m\u001b[0;34m\u001b[0m\u001b[0m\n\u001b[1;32m    515\u001b[0m \u001b[0;34m\u001b[0m\u001b[0m\n\u001b[0;32m--> 516\u001b[0;31m             \u001b[0;32mraise\u001b[0m \u001b[0mConnectionError\u001b[0m\u001b[0;34m(\u001b[0m\u001b[0me\u001b[0m\u001b[0;34m,\u001b[0m \u001b[0mrequest\u001b[0m\u001b[0;34m=\u001b[0m\u001b[0mrequest\u001b[0m\u001b[0;34m)\u001b[0m\u001b[0;34m\u001b[0m\u001b[0;34m\u001b[0m\u001b[0m\n\u001b[0m\u001b[1;32m    517\u001b[0m \u001b[0;34m\u001b[0m\u001b[0m\n\u001b[1;32m    518\u001b[0m         \u001b[0;32mexcept\u001b[0m \u001b[0mClosedPoolError\u001b[0m \u001b[0;32mas\u001b[0m \u001b[0me\u001b[0m\u001b[0;34m:\u001b[0m\u001b[0;34m\u001b[0m\u001b[0;34m\u001b[0m\u001b[0m\n",
      "\u001b[0;31mConnectionError\u001b[0m: HTTPSConnectionPool(host='sg.indeed.com', port=443): Max retries exceeded with url: /jobs?q=Data+Scientist&start=1590 (Caused by NewConnectionError('<urllib3.connection.HTTPSConnection object at 0x7ff509a3d1f0>: Failed to establish a new connection: [Errno 60] Operation timed out'))"
     ]
    }
   ],
   "source": [
    "from collections import defaultdict\n",
    "from IPython.display import clear_output\n",
    "\n",
    "max_results_per_city = 5000 # Set this to a high-value (5000) to generate more results. \n",
    "# Crawling more results, will also take much longer. First test your code on a small number of results and then expand.\n",
    "\n",
    "results = defaultdict(list)\n",
    "status = defaultdict(list)\n",
    "\n",
    "captcha=False\n",
    "\n",
    "for start in tqdm(range(0, max_results_per_city, 10)):\n",
    "    url = f\"https://sg.indeed.com/jobs?q=Data+Scientist&start={start}\"\n",
    "    result = requests.get(url)\n",
    "    soup = BeautifulSoup(result.text, 'html.parser')\n",
    "    if 'hCaptcha' not in str(soup.prettify):\n",
    "        for post in soup.find_all('div', attrs={'class':'jobsearch-SerpJobCard'}):\n",
    "            results['title'].append(extract_job_title(post))\n",
    "            results['company'].append(extract_company(post))\n",
    "            results['location'].append(extract_location(post))\n",
    "            results['currency'].append('SGD')\n",
    "            results['country'].append('singapore')\n",
    "            results['salary'].append(extract_salary(post))\n",
    "        time.sleep(25)\n",
    "    else:\n",
    "        print('Caught')\n",
    "        city_cursor = city\n",
    "        page_cursor = start\n",
    "        captcha=True\n",
    "        break\n",
    "if captcha==True:\n",
    "    break\n",
    "time.sleep(20)\n",
    "\n",
    "\n",
    "print(f'Stopped at {city_cursor}, page {int(page_cursor/10)}')"
   ]
  },
  {
   "cell_type": "code",
   "execution_count": 1503,
   "metadata": {
    "scrolled": true
   },
   "outputs": [],
   "source": [
    "# results.head()"
   ]
  },
  {
   "cell_type": "code",
   "execution_count": 1504,
   "metadata": {},
   "outputs": [],
   "source": [
    "# pd.DataFrame(results).shape"
   ]
  },
  {
   "cell_type": "markdown",
   "metadata": {},
   "source": [
    "<!-- # cities = ['New+York', 'Chicago', 'San+Francisco', 'Austin', 'Seattle', \n",
    "#     'Los+Angeles', 'Philadelphia', 'Atlanta', 'Dallas', 'Pittsburgh', \n",
    "#     'Portland', 'Phoenix', 'Denver', 'Houston', 'Miami']\n",
    "\n",
    "# from collections import defaultdict\n",
    "# from IPython.display import clear_output\n",
    "\n",
    "# max_results_per_city = 400 # Set this to a high-value (5000) to generate more results. \n",
    "# # Crawling more results, will also take much longer. First test your code on a small number of results and then expand.\n",
    "\n",
    "# results = defaultdict(list)\n",
    "# status = defaultdict(list) -->"
   ]
  },
  {
   "cell_type": "markdown",
   "metadata": {},
   "source": [
    "<!-- # def scraper(cities, city_tracker, cursor):\n",
    "#     captcha = False\n",
    "#     results = defaultdict(list)\n",
    "#     for i in range(city_tracker, len(cities)):\n",
    "#         print(f'Scraping for {cities[i]}')\n",
    "#         for start in tqdm(range(cursor, max_results_per_city, 10)):\n",
    "#             cursor=0\n",
    "#             url = f\"http://www.indeed.com/jobs?q=data+scientist+%2420%2C000&l={city}&start={start}\"\n",
    "#             result = requests.get(url)\n",
    "#             soup = BeautifulSoup(result.text, 'html.parser')\n",
    "#             if 'hCaptcha' not in str(soup.prettify):\n",
    "#                 for post in soup.find_all('div', attrs={'class':'jobsearch-SerpJobCard'}):\n",
    "#                     results['title'].append(extract_job_title(post))\n",
    "#                     results['company'].append(extract_company(post))\n",
    "#                     results['location'].append(extract_location(post))\n",
    "#                     results['salary'].append(extract_salary(post))\n",
    "#                 time.sleep(3)\n",
    "#             else:\n",
    "#                 print('caught')\n",
    "#                 city_cursor = city\n",
    "#                 page_cursor = start\n",
    "#                 captcha = True\n",
    "#                 break\n",
    "#         if captcha == True:\n",
    "#             break\n",
    "#         time.sleep(15)\n",
    "#     return results, city_cursor, page_cursor -->"
   ]
  },
  {
   "cell_type": "markdown",
   "metadata": {},
   "source": [
    "<!-- # #intialise page and city trackers\n",
    "# max_results_per_city = 300\n",
    "# page = 0\n",
    "# city = 0\n",
    "# page = 0\n",
    "# first_set = True\n",
    "# while (page < max_results_per_city) and (city != len(cities)):\n",
    "#     results, city, page = scraper(cities, city, page)\n",
    "#     if first_set==True:\n",
    "#         results_main = results\n",
    "#     else:\n",
    "#         results_main.update(results)\n",
    "#     time.sleep(120) -->"
   ]
  },
  {
   "cell_type": "code",
   "execution_count": 205,
   "metadata": {},
   "outputs": [],
   "source": [
    "spare_res = results.copy()"
   ]
  },
  {
   "cell_type": "markdown",
   "metadata": {
    "focus": false,
    "id": "20339c09-5032-4e27-91be-286e9b46cd13"
   },
   "source": [
    "#### Create a dataframe from the results with the parsed information."
   ]
  },
  {
   "cell_type": "code",
   "execution_count": 207,
   "metadata": {
    "focus": false,
    "id": "6e259594-1c52-436b-ab9e-527e071941c1"
   },
   "outputs": [],
   "source": [
    "jobs_all = pd.DataFrame(results, columns = ['title', 'company', 'location', 'salary', 'country', 'currency'])"
   ]
  },
  {
   "cell_type": "code",
   "execution_count": 208,
   "metadata": {},
   "outputs": [
    {
     "data": {
      "text/plain": [
       "(2405, 6)"
      ]
     },
     "execution_count": 208,
     "metadata": {},
     "output_type": "execute_result"
    }
   ],
   "source": [
    "jobs_all.shape"
   ]
  },
  {
   "cell_type": "markdown",
   "metadata": {
    "focus": false,
    "id": "ff98ce64-78a7-441f-a675-63464e32c834"
   },
   "source": [
    "Lastly, we need to clean up salary data. \n",
    "\n",
    "1. Only a small number of the scraped results have salary information - only these will be used for modeling.\n",
    "1. Some of the salaries are not yearly but hourly or weekly, these will not be useful to us for now.\n",
    "1. Some of the entries may be duplicated.\n",
    "1. The salaries are given as text and usually with ranges."
   ]
  },
  {
   "cell_type": "markdown",
   "metadata": {
    "focus": false,
    "id": "ff98ce64-78a7-441f-a675-63464e32c834"
   },
   "source": [
    "#### Find the entries with annual salary entries, by filtering the entries without salaries or salaries that are not yearly (filter those that refer to hour or week). Also, remove duplicate entries."
   ]
  },
  {
   "cell_type": "code",
   "execution_count": 209,
   "metadata": {
    "focus": false,
    "id": "58533e57-f86b-494a-b841-e7b59c6229c6"
   },
   "outputs": [
    {
     "name": "stderr",
     "output_type": "stream",
     "text": [
      "<ipython-input-209-d3b47e6ef2d1>:3: SettingWithCopyWarning: \n",
      "A value is trying to be set on a copy of a slice from a DataFrame\n",
      "\n",
      "See the caveats in the documentation: https://pandas.pydata.org/pandas-docs/stable/user_guide/indexing.html#returning-a-view-versus-a-copy\n",
      "  jobs.dropna(inplace=True)\n"
     ]
    },
    {
     "data": {
      "text/html": [
       "<div>\n",
       "<style scoped>\n",
       "    .dataframe tbody tr th:only-of-type {\n",
       "        vertical-align: middle;\n",
       "    }\n",
       "\n",
       "    .dataframe tbody tr th {\n",
       "        vertical-align: top;\n",
       "    }\n",
       "\n",
       "    .dataframe thead th {\n",
       "        text-align: right;\n",
       "    }\n",
       "</style>\n",
       "<table border=\"1\" class=\"dataframe\">\n",
       "  <thead>\n",
       "    <tr style=\"text-align: right;\">\n",
       "      <th></th>\n",
       "      <th>title</th>\n",
       "      <th>company</th>\n",
       "      <th>location</th>\n",
       "      <th>salary</th>\n",
       "      <th>country</th>\n",
       "      <th>currency</th>\n",
       "    </tr>\n",
       "  </thead>\n",
       "  <tbody>\n",
       "    <tr>\n",
       "      <th>0</th>\n",
       "      <td>Data Scientist - Nationwide Opportunities</td>\n",
       "      <td>Amazon Web Services, Inc.</td>\n",
       "      <td>Portland, OR</td>\n",
       "      <td>114700 a year</td>\n",
       "      <td>usa</td>\n",
       "      <td>USD</td>\n",
       "    </tr>\n",
       "  </tbody>\n",
       "</table>\n",
       "</div>"
      ],
      "text/plain": [
       "                                       title                    company  \\\n",
       "0  Data Scientist - Nationwide Opportunities  Amazon Web Services, Inc.   \n",
       "\n",
       "       location         salary country currency  \n",
       "0  Portland, OR  114700 a year     usa      USD  "
      ]
     },
     "execution_count": 209,
     "metadata": {},
     "output_type": "execute_result"
    }
   ],
   "source": [
    "jobs = jobs_all.drop_duplicates()\n",
    "jobs.dropna(inplace=True)\n",
    "jobs = jobs[jobs.salary.str.contains('year')]\n",
    "jobs.reset_index(drop=True, inplace=True)\n",
    "jobs.tail()"
   ]
  },
  {
   "cell_type": "code",
   "execution_count": 210,
   "metadata": {},
   "outputs": [
    {
     "data": {
      "text/plain": [
       "array(['Portland, OR'], dtype=object)"
      ]
     },
     "execution_count": 210,
     "metadata": {},
     "output_type": "execute_result"
    }
   ],
   "source": [
    "jobs.location.unique()[:5]"
   ]
  },
  {
   "cell_type": "markdown",
   "metadata": {
    "focus": false,
    "id": "7d4bc860-b214-4f75-9cd0-b234830b1ec2"
   },
   "source": [
    "#### Write a function that takes a salary string and converts it to a number, averaging a salary range if necessary."
   ]
  },
  {
   "cell_type": "code",
   "execution_count": 211,
   "metadata": {
    "focus": false,
    "id": "a0f701e0-80bd-40ba-9101-4535860c0968"
   },
   "outputs": [
    {
     "data": {
      "text/plain": [
       "117350.0"
      ]
     },
     "execution_count": 211,
     "metadata": {},
     "output_type": "execute_result"
    }
   ],
   "source": [
    "import re\n",
    "\n",
    "def salary_formatter(sal):\n",
    "    split = re.findall(r'[0-9]+', sal)\n",
    "    if len(split)>1:\n",
    "        return sum([float(val) for val in split])/len(split)\n",
    "    return float(split[0])\n",
    "\n",
    "salary_formatter('$114700 - £120000 a year')"
   ]
  },
  {
   "cell_type": "code",
   "execution_count": 212,
   "metadata": {},
   "outputs": [],
   "source": [
    "jobs.salary = jobs.salary.apply(salary_formatter)"
   ]
  },
  {
   "cell_type": "code",
   "execution_count": 213,
   "metadata": {},
   "outputs": [
    {
     "data": {
      "text/html": [
       "<div>\n",
       "<style scoped>\n",
       "    .dataframe tbody tr th:only-of-type {\n",
       "        vertical-align: middle;\n",
       "    }\n",
       "\n",
       "    .dataframe tbody tr th {\n",
       "        vertical-align: top;\n",
       "    }\n",
       "\n",
       "    .dataframe thead th {\n",
       "        text-align: right;\n",
       "    }\n",
       "</style>\n",
       "<table border=\"1\" class=\"dataframe\">\n",
       "  <thead>\n",
       "    <tr style=\"text-align: right;\">\n",
       "      <th></th>\n",
       "      <th>title</th>\n",
       "      <th>company</th>\n",
       "      <th>location</th>\n",
       "      <th>salary</th>\n",
       "      <th>country</th>\n",
       "      <th>currency</th>\n",
       "    </tr>\n",
       "  </thead>\n",
       "  <tbody>\n",
       "    <tr>\n",
       "      <th>0</th>\n",
       "      <td>Data Scientist - Nationwide Opportunities</td>\n",
       "      <td>Amazon Web Services, Inc.</td>\n",
       "      <td>Portland, OR</td>\n",
       "      <td>114700.0</td>\n",
       "      <td>usa</td>\n",
       "      <td>USD</td>\n",
       "    </tr>\n",
       "  </tbody>\n",
       "</table>\n",
       "</div>"
      ],
      "text/plain": [
       "                                       title                    company  \\\n",
       "0  Data Scientist - Nationwide Opportunities  Amazon Web Services, Inc.   \n",
       "\n",
       "       location    salary country currency  \n",
       "0  Portland, OR  114700.0     usa      USD  "
      ]
     },
     "execution_count": 213,
     "metadata": {},
     "output_type": "execute_result"
    }
   ],
   "source": [
    "jobs.head()"
   ]
  },
  {
   "cell_type": "markdown",
   "metadata": {
    "focus": false,
    "id": "43e71edd-210e-42b1-9336-70a931f048af"
   },
   "source": [
    "### Save results as a CSV"
   ]
  },
  {
   "cell_type": "code",
   "execution_count": 267,
   "metadata": {},
   "outputs": [],
   "source": [
    "jobsdb = pd.read_csv('./jobs.csv')\n",
    "jobsdb.reset_index(drop=True)\n",
    "jobs.reset_index(drop=True)\n",
    "jobs_new = pd.concat([jobsdb, jobs], axis=0)\n",
    "jobs_new.drop(['Unnamed: 0'], axis=1, inplace=True)\n",
    "jobs_new.drop_duplicates(inplace=True)\n",
    "jobs_new.to_csv(path_or_buf='./jobs.csv')"
   ]
  },
  {
   "cell_type": "markdown",
   "metadata": {
    "focus": false,
    "id": "243e949e-2742-40af-872e-fec475fd306c"
   },
   "source": [
    "### Load in the data of scraped salaries"
   ]
  },
  {
   "cell_type": "code",
   "execution_count": 560,
   "metadata": {},
   "outputs": [],
   "source": [
    "jobs_load = pd.read_csv('./jobs.csv')\n",
    "jobs_load.drop(['Unnamed: 0'], axis=1, inplace=True)"
   ]
  },
  {
   "cell_type": "code",
   "execution_count": 563,
   "metadata": {},
   "outputs": [
    {
     "data": {
      "text/html": [
       "<div>\n",
       "<style scoped>\n",
       "    .dataframe tbody tr th:only-of-type {\n",
       "        vertical-align: middle;\n",
       "    }\n",
       "\n",
       "    .dataframe tbody tr th {\n",
       "        vertical-align: top;\n",
       "    }\n",
       "\n",
       "    .dataframe thead th {\n",
       "        text-align: right;\n",
       "    }\n",
       "</style>\n",
       "<table border=\"1\" class=\"dataframe\">\n",
       "  <thead>\n",
       "    <tr style=\"text-align: right;\">\n",
       "      <th></th>\n",
       "      <th>title</th>\n",
       "      <th>company</th>\n",
       "      <th>location</th>\n",
       "      <th>salary</th>\n",
       "      <th>country</th>\n",
       "      <th>currency</th>\n",
       "    </tr>\n",
       "  </thead>\n",
       "  <tbody>\n",
       "    <tr>\n",
       "      <th>523</th>\n",
       "      <td>Data Scientist for an AI Fintech Company</td>\n",
       "      <td>Finest People</td>\n",
       "      <td>Singapore</td>\n",
       "      <td>96000.0</td>\n",
       "      <td>singapore</td>\n",
       "      <td>SGD</td>\n",
       "    </tr>\n",
       "    <tr>\n",
       "      <th>524</th>\n",
       "      <td>Data Scientist</td>\n",
       "      <td>Top20Talent</td>\n",
       "      <td>Singapore</td>\n",
       "      <td>90150.0</td>\n",
       "      <td>singapore</td>\n",
       "      <td>SGD</td>\n",
       "    </tr>\n",
       "    <tr>\n",
       "      <th>525</th>\n",
       "      <td>Software Engineering Senior Manager - Applicat...</td>\n",
       "      <td>Indeed</td>\n",
       "      <td>Singapore</td>\n",
       "      <td>202000.0</td>\n",
       "      <td>singapore</td>\n",
       "      <td>SGD</td>\n",
       "    </tr>\n",
       "    <tr>\n",
       "      <th>526</th>\n",
       "      <td>Senior Software Engineer (International Busine...</td>\n",
       "      <td>Indeed</td>\n",
       "      <td>Singapore</td>\n",
       "      <td>128500.0</td>\n",
       "      <td>singapore</td>\n",
       "      <td>SGD</td>\n",
       "    </tr>\n",
       "    <tr>\n",
       "      <th>527</th>\n",
       "      <td>Amazon Web Services, Inc.</td>\n",
       "      <td>Data Scientist - Nationwide Opportunities</td>\n",
       "      <td>Portland, OR</td>\n",
       "      <td>114700.0</td>\n",
       "      <td>usa</td>\n",
       "      <td>USD</td>\n",
       "    </tr>\n",
       "  </tbody>\n",
       "</table>\n",
       "</div>"
      ],
      "text/plain": [
       "                                                 title  \\\n",
       "523           Data Scientist for an AI Fintech Company   \n",
       "524                                     Data Scientist   \n",
       "525  Software Engineering Senior Manager - Applicat...   \n",
       "526  Senior Software Engineer (International Busine...   \n",
       "527                          Amazon Web Services, Inc.   \n",
       "\n",
       "                                       company      location    salary  \\\n",
       "523                              Finest People     Singapore   96000.0   \n",
       "524                                Top20Talent     Singapore   90150.0   \n",
       "525                                     Indeed     Singapore  202000.0   \n",
       "526                                     Indeed     Singapore  128500.0   \n",
       "527  Data Scientist - Nationwide Opportunities  Portland, OR  114700.0   \n",
       "\n",
       "       country currency  \n",
       "523  singapore      SGD  \n",
       "524  singapore      SGD  \n",
       "525  singapore      SGD  \n",
       "526  singapore      SGD  \n",
       "527        usa      USD  "
      ]
     },
     "execution_count": 563,
     "metadata": {},
     "output_type": "execute_result"
    }
   ],
   "source": [
    "jobs_load.tail()"
   ]
  },
  {
   "cell_type": "code",
   "execution_count": 564,
   "metadata": {},
   "outputs": [],
   "source": [
    "# pip install --user currencyconverter"
   ]
  },
  {
   "cell_type": "code",
   "execution_count": 565,
   "metadata": {},
   "outputs": [],
   "source": [
    "from currency_converter import CurrencyConverter"
   ]
  },
  {
   "cell_type": "code",
   "execution_count": 566,
   "metadata": {},
   "outputs": [],
   "source": [
    "def currency(amount, FROM='GBP', TO='USD'):\n",
    "    currency = CurrencyConverter()\n",
    "    return currency.convert(amount, FROM, TO)"
   ]
  },
  {
   "cell_type": "code",
   "execution_count": 567,
   "metadata": {},
   "outputs": [],
   "source": [
    "jobs_load_sort = jobs_load.sort_values(by=['country', 'location', 'title'], ascending=True)"
   ]
  },
  {
   "cell_type": "code",
   "execution_count": 568,
   "metadata": {},
   "outputs": [],
   "source": [
    "jobs_load_sort.reset_index(drop=True, inplace=True)"
   ]
  },
  {
   "cell_type": "code",
   "execution_count": 569,
   "metadata": {},
   "outputs": [
    {
     "data": {
      "text/plain": [
       "title       0\n",
       "company     0\n",
       "location    0\n",
       "salary      0\n",
       "country     0\n",
       "currency    0\n",
       "dtype: int64"
      ]
     },
     "execution_count": 569,
     "metadata": {},
     "output_type": "execute_result"
    }
   ],
   "source": [
    "jobs_load_sort.isnull().sum()"
   ]
  },
  {
   "cell_type": "code",
   "execution_count": 570,
   "metadata": {},
   "outputs": [],
   "source": [
    "jobs = jobs_load_sort.copy()"
   ]
  },
  {
   "cell_type": "code",
   "execution_count": 571,
   "metadata": {},
   "outputs": [],
   "source": [
    "jobs.salary = jobs.apply(lambda x: round(currency(x[3], FROM=x[-1]), 2), axis=1)"
   ]
  },
  {
   "cell_type": "code",
   "execution_count": 572,
   "metadata": {},
   "outputs": [
    {
     "data": {
      "text/plain": [
       "(528, 6)"
      ]
     },
     "execution_count": 572,
     "metadata": {},
     "output_type": "execute_result"
    }
   ],
   "source": [
    "jobs.shape"
   ]
  },
  {
   "cell_type": "markdown",
   "metadata": {
    "focus": false,
    "id": "c7631f51-07f2-4c79-a093-3e9bc7849a48"
   },
   "source": [
    "### We want to predict a binary variable - whether the salary was low or high. Below we will compute the median salary and create a new binary variable that is true when the salary is high (above the median).\n",
    "\n",
    "We could also perform Linear Regression (or any regression) to predict the salary value here. Instead, we are going to convert this into a _binary_ classification problem, by predicting two classes, HIGH vs LOW salary.\n",
    "\n",
    "While performing regression may be better, performing classification may help remove some of the noise of the extreme salaries. We don't have to choose the `median` as the splitting point - we could also split on the 75th percentile or any other reasonable breaking point.\n",
    "\n",
    "In fact, the ideal scenario may be to predict many levels of salaries.\n",
    "\n",
    "However, in this case I have opted to move forward with analysis of the two categories of Higher than Median, and Lower than Median."
   ]
  },
  {
   "cell_type": "code",
   "execution_count": 1,
   "metadata": {},
   "outputs": [
    {
     "ename": "NameError",
     "evalue": "name 'jobs' is not defined",
     "output_type": "error",
     "traceback": [
      "\u001b[0;31m---------------------------------------------------------------------------\u001b[0m",
      "\u001b[0;31mNameError\u001b[0m                                 Traceback (most recent call last)",
      "\u001b[0;32m<ipython-input-1-390dc52ff96b>\u001b[0m in \u001b[0;36m<module>\u001b[0;34m\u001b[0m\n\u001b[0;32m----> 1\u001b[0;31m \u001b[0mmedian\u001b[0m \u001b[0;34m=\u001b[0m \u001b[0mjobs\u001b[0m\u001b[0;34m.\u001b[0m\u001b[0msalary\u001b[0m\u001b[0;34m.\u001b[0m\u001b[0mmedian\u001b[0m\u001b[0;34m(\u001b[0m\u001b[0;34m)\u001b[0m\u001b[0;34m\u001b[0m\u001b[0;34m\u001b[0m\u001b[0m\n\u001b[0m\u001b[1;32m      2\u001b[0m \u001b[0;34m\u001b[0m\u001b[0m\n\u001b[1;32m      3\u001b[0m \u001b[0;32mdef\u001b[0m \u001b[0mhi_or_lo\u001b[0m\u001b[0;34m(\u001b[0m\u001b[0msalary\u001b[0m\u001b[0;34m)\u001b[0m\u001b[0;34m:\u001b[0m\u001b[0;34m\u001b[0m\u001b[0;34m\u001b[0m\u001b[0m\n\u001b[1;32m      4\u001b[0m     \u001b[0;32mif\u001b[0m \u001b[0msalary\u001b[0m \u001b[0;34m<\u001b[0m \u001b[0mmedian\u001b[0m\u001b[0;34m:\u001b[0m\u001b[0;34m\u001b[0m\u001b[0;34m\u001b[0m\u001b[0m\n\u001b[1;32m      5\u001b[0m         \u001b[0;32mreturn\u001b[0m \u001b[0;34m'Lower'\u001b[0m\u001b[0;34m\u001b[0m\u001b[0;34m\u001b[0m\u001b[0m\n",
      "\u001b[0;31mNameError\u001b[0m: name 'jobs' is not defined"
     ]
    }
   ],
   "source": [
    "median = jobs.salary.median()\n",
    "\n",
    "def hi_or_lo(salary):\n",
    "    if salary < median:\n",
    "        return 'Lower'\n",
    "    return 'Higher'"
   ]
  },
  {
   "cell_type": "code",
   "execution_count": null,
   "metadata": {
    "focus": false,
    "id": "c20d2498-151c-44c3-a453-3a333c79a0ac"
   },
   "outputs": [],
   "source": [
    "jobs['median_high_low'] = jobs.salary.apply(hi_or_lo)"
   ]
  },
  {
   "cell_type": "code",
   "execution_count": 576,
   "metadata": {},
   "outputs": [
    {
     "data": {
      "text/html": [
       "<div>\n",
       "<style scoped>\n",
       "    .dataframe tbody tr th:only-of-type {\n",
       "        vertical-align: middle;\n",
       "    }\n",
       "\n",
       "    .dataframe tbody tr th {\n",
       "        vertical-align: top;\n",
       "    }\n",
       "\n",
       "    .dataframe thead th {\n",
       "        text-align: right;\n",
       "    }\n",
       "</style>\n",
       "<table border=\"1\" class=\"dataframe\">\n",
       "  <thead>\n",
       "    <tr style=\"text-align: right;\">\n",
       "      <th></th>\n",
       "      <th>title</th>\n",
       "      <th>company</th>\n",
       "      <th>location</th>\n",
       "      <th>salary</th>\n",
       "      <th>country</th>\n",
       "      <th>currency</th>\n",
       "      <th>median_high_low</th>\n",
       "    </tr>\n",
       "  </thead>\n",
       "  <tbody>\n",
       "    <tr>\n",
       "      <th>0</th>\n",
       "      <td>Senior Data Engineer (Machine Learning &amp; AI us...</td>\n",
       "      <td>Nuvola Resourcing</td>\n",
       "      <td>Chertsey</td>\n",
       "      <td>91549.61</td>\n",
       "      <td>england</td>\n",
       "      <td>GBP</td>\n",
       "      <td>Low</td>\n",
       "    </tr>\n",
       "    <tr>\n",
       "      <th>1</th>\n",
       "      <td>Data Scientist</td>\n",
       "      <td>Sykes Cottages</td>\n",
       "      <td>Chester CH1 3BQ</td>\n",
       "      <td>63380.50</td>\n",
       "      <td>england</td>\n",
       "      <td>GBP</td>\n",
       "      <td>Low</td>\n",
       "    </tr>\n",
       "    <tr>\n",
       "      <th>2</th>\n",
       "      <td>Data Scientist</td>\n",
       "      <td>Public Health England</td>\n",
       "      <td>Colindale NW9</td>\n",
       "      <td>50719.89</td>\n",
       "      <td>england</td>\n",
       "      <td>GBP</td>\n",
       "      <td>Low</td>\n",
       "    </tr>\n",
       "    <tr>\n",
       "      <th>3</th>\n",
       "      <td>Higher Statistical Data Scientist - across the...</td>\n",
       "      <td>UK Government - Government Statistical Service</td>\n",
       "      <td>Croydon</td>\n",
       "      <td>37184.64</td>\n",
       "      <td>england</td>\n",
       "      <td>GBP</td>\n",
       "      <td>Low</td>\n",
       "    </tr>\n",
       "    <tr>\n",
       "      <th>4</th>\n",
       "      <td>Senior Statistical Data Scientist - across the...</td>\n",
       "      <td>UK Government - Government Statistical Service</td>\n",
       "      <td>Croydon</td>\n",
       "      <td>48014.25</td>\n",
       "      <td>england</td>\n",
       "      <td>GBP</td>\n",
       "      <td>Low</td>\n",
       "    </tr>\n",
       "    <tr>\n",
       "      <th>5</th>\n",
       "      <td>Junior data science engineer</td>\n",
       "      <td>KC TECH PVT LTD</td>\n",
       "      <td>Dartford DA1 5GA</td>\n",
       "      <td>32394.48</td>\n",
       "      <td>england</td>\n",
       "      <td>GBP</td>\n",
       "      <td>Low</td>\n",
       "    </tr>\n",
       "    <tr>\n",
       "      <th>6</th>\n",
       "      <td>Data Scientist</td>\n",
       "      <td>NHS Midlands and Lancashire Commissioning Supp...</td>\n",
       "      <td>Leyland PR26 6TR</td>\n",
       "      <td>68606.58</td>\n",
       "      <td>england</td>\n",
       "      <td>GBP</td>\n",
       "      <td>Low</td>\n",
       "    </tr>\n",
       "    <tr>\n",
       "      <th>7</th>\n",
       "      <td>AI Advisory / Data Science Advisory, Senior Ma...</td>\n",
       "      <td>Lawrence Harvey</td>\n",
       "      <td>London</td>\n",
       "      <td>169014.67</td>\n",
       "      <td>england</td>\n",
       "      <td>GBP</td>\n",
       "      <td>High</td>\n",
       "    </tr>\n",
       "    <tr>\n",
       "      <th>8</th>\n",
       "      <td>AI Architect – London</td>\n",
       "      <td>kdr Recruitment</td>\n",
       "      <td>London</td>\n",
       "      <td>119718.73</td>\n",
       "      <td>england</td>\n",
       "      <td>GBP</td>\n",
       "      <td>High</td>\n",
       "    </tr>\n",
       "    <tr>\n",
       "      <th>9</th>\n",
       "      <td>Agile Project Manager - Data Analytics</td>\n",
       "      <td>ShareForce</td>\n",
       "      <td>London</td>\n",
       "      <td>95070.75</td>\n",
       "      <td>england</td>\n",
       "      <td>GBP</td>\n",
       "      <td>Low</td>\n",
       "    </tr>\n",
       "    <tr>\n",
       "      <th>10</th>\n",
       "      <td>Analytics Consultant</td>\n",
       "      <td>Harnham</td>\n",
       "      <td>London</td>\n",
       "      <td>63380.50</td>\n",
       "      <td>england</td>\n",
       "      <td>GBP</td>\n",
       "      <td>Low</td>\n",
       "    </tr>\n",
       "    <tr>\n",
       "      <th>11</th>\n",
       "      <td>Big Data DevOps Engineer</td>\n",
       "      <td>Ripjar</td>\n",
       "      <td>London</td>\n",
       "      <td>63380.50</td>\n",
       "      <td>england</td>\n",
       "      <td>GBP</td>\n",
       "      <td>Low</td>\n",
       "    </tr>\n",
       "    <tr>\n",
       "      <th>12</th>\n",
       "      <td>Big Data Engineer - Hadoop, Spark, AWS</td>\n",
       "      <td>Vertus Partners</td>\n",
       "      <td>London</td>\n",
       "      <td>147887.84</td>\n",
       "      <td>england</td>\n",
       "      <td>GBP</td>\n",
       "      <td>High</td>\n",
       "    </tr>\n",
       "    <tr>\n",
       "      <th>13</th>\n",
       "      <td>Big Data Engineer - Hadoop, Spark, Cloud</td>\n",
       "      <td>Vertus Partners</td>\n",
       "      <td>London</td>\n",
       "      <td>147887.84</td>\n",
       "      <td>england</td>\n",
       "      <td>GBP</td>\n",
       "      <td>High</td>\n",
       "    </tr>\n",
       "    <tr>\n",
       "      <th>14</th>\n",
       "      <td>Big Data Engineering Lead</td>\n",
       "      <td>Touchpoint Resource Ltd</td>\n",
       "      <td>London</td>\n",
       "      <td>140845.56</td>\n",
       "      <td>england</td>\n",
       "      <td>GBP</td>\n",
       "      <td>High</td>\n",
       "    </tr>\n",
       "    <tr>\n",
       "      <th>15</th>\n",
       "      <td>Big Data Lead</td>\n",
       "      <td>Linux Recruit</td>\n",
       "      <td>London</td>\n",
       "      <td>123239.87</td>\n",
       "      <td>england</td>\n",
       "      <td>GBP</td>\n",
       "      <td>High</td>\n",
       "    </tr>\n",
       "    <tr>\n",
       "      <th>16</th>\n",
       "      <td>Big Data Solutions Architect – London</td>\n",
       "      <td>kdr Recruitment</td>\n",
       "      <td>London</td>\n",
       "      <td>126761.00</td>\n",
       "      <td>england</td>\n",
       "      <td>GBP</td>\n",
       "      <td>High</td>\n",
       "    </tr>\n",
       "    <tr>\n",
       "      <th>17</th>\n",
       "      <td>Big Data and Data Science Platforms - Tech lea...</td>\n",
       "      <td>Lorien</td>\n",
       "      <td>London</td>\n",
       "      <td>105634.17</td>\n",
       "      <td>england</td>\n",
       "      <td>GBP</td>\n",
       "      <td>High</td>\n",
       "    </tr>\n",
       "    <tr>\n",
       "      <th>18</th>\n",
       "      <td>C++ Developer - Risk, Machine Learning - London</td>\n",
       "      <td>Linux Recruit</td>\n",
       "      <td>London</td>\n",
       "      <td>126761.00</td>\n",
       "      <td>england</td>\n",
       "      <td>GBP</td>\n",
       "      <td>High</td>\n",
       "    </tr>\n",
       "    <tr>\n",
       "      <th>19</th>\n",
       "      <td>Computer Vision Machine Learning Engineer</td>\n",
       "      <td>GCS Recruitment Specialists Ltd</td>\n",
       "      <td>London</td>\n",
       "      <td>91549.61</td>\n",
       "      <td>england</td>\n",
       "      <td>GBP</td>\n",
       "      <td>Low</td>\n",
       "    </tr>\n",
       "  </tbody>\n",
       "</table>\n",
       "</div>"
      ],
      "text/plain": [
       "                                                title  \\\n",
       "0   Senior Data Engineer (Machine Learning & AI us...   \n",
       "1                                      Data Scientist   \n",
       "2                                      Data Scientist   \n",
       "3   Higher Statistical Data Scientist - across the...   \n",
       "4   Senior Statistical Data Scientist - across the...   \n",
       "5                        Junior data science engineer   \n",
       "6                                      Data Scientist   \n",
       "7   AI Advisory / Data Science Advisory, Senior Ma...   \n",
       "8                               AI Architect – London   \n",
       "9              Agile Project Manager - Data Analytics   \n",
       "10                               Analytics Consultant   \n",
       "11                           Big Data DevOps Engineer   \n",
       "12             Big Data Engineer - Hadoop, Spark, AWS   \n",
       "13           Big Data Engineer - Hadoop, Spark, Cloud   \n",
       "14                          Big Data Engineering Lead   \n",
       "15                                      Big Data Lead   \n",
       "16              Big Data Solutions Architect – London   \n",
       "17  Big Data and Data Science Platforms - Tech lea...   \n",
       "18    C++ Developer - Risk, Machine Learning - London   \n",
       "19          Computer Vision Machine Learning Engineer   \n",
       "\n",
       "                                              company          location  \\\n",
       "0                                   Nuvola Resourcing          Chertsey   \n",
       "1                                      Sykes Cottages   Chester CH1 3BQ   \n",
       "2                               Public Health England     Colindale NW9   \n",
       "3      UK Government - Government Statistical Service           Croydon   \n",
       "4      UK Government - Government Statistical Service           Croydon   \n",
       "5                                     KC TECH PVT LTD  Dartford DA1 5GA   \n",
       "6   NHS Midlands and Lancashire Commissioning Supp...  Leyland PR26 6TR   \n",
       "7                                     Lawrence Harvey            London   \n",
       "8                                     kdr Recruitment            London   \n",
       "9                                          ShareForce            London   \n",
       "10                                            Harnham            London   \n",
       "11                                             Ripjar            London   \n",
       "12                                    Vertus Partners            London   \n",
       "13                                    Vertus Partners            London   \n",
       "14                            Touchpoint Resource Ltd            London   \n",
       "15                                      Linux Recruit            London   \n",
       "16                                    kdr Recruitment            London   \n",
       "17                                             Lorien            London   \n",
       "18                                      Linux Recruit            London   \n",
       "19                    GCS Recruitment Specialists Ltd            London   \n",
       "\n",
       "       salary  country currency median_high_low  \n",
       "0    91549.61  england      GBP             Low  \n",
       "1    63380.50  england      GBP             Low  \n",
       "2    50719.89  england      GBP             Low  \n",
       "3    37184.64  england      GBP             Low  \n",
       "4    48014.25  england      GBP             Low  \n",
       "5    32394.48  england      GBP             Low  \n",
       "6    68606.58  england      GBP             Low  \n",
       "7   169014.67  england      GBP            High  \n",
       "8   119718.73  england      GBP            High  \n",
       "9    95070.75  england      GBP             Low  \n",
       "10   63380.50  england      GBP             Low  \n",
       "11   63380.50  england      GBP             Low  \n",
       "12  147887.84  england      GBP            High  \n",
       "13  147887.84  england      GBP            High  \n",
       "14  140845.56  england      GBP            High  \n",
       "15  123239.87  england      GBP            High  \n",
       "16  126761.00  england      GBP            High  \n",
       "17  105634.17  england      GBP            High  \n",
       "18  126761.00  england      GBP            High  \n",
       "19   91549.61  england      GBP             Low  "
      ]
     },
     "execution_count": 576,
     "metadata": {},
     "output_type": "execute_result"
    }
   ],
   "source": [
    "jobs.head(20)"
   ]
  },
  {
   "cell_type": "code",
   "execution_count": 577,
   "metadata": {},
   "outputs": [],
   "source": [
    "from geopy import Nominatim"
   ]
  },
  {
   "cell_type": "code",
   "execution_count": 578,
   "metadata": {},
   "outputs": [],
   "source": [
    "def geo_loc(loc):\n",
    "    try:\n",
    "        geolocation = Nominatim(user_agent=\"app\").geocode(loc)\n",
    "        return geolocation.longitude, geolocation.latitude\n",
    "    except:\n",
    "        return np.nan"
   ]
  },
  {
   "cell_type": "code",
   "execution_count": 579,
   "metadata": {},
   "outputs": [],
   "source": [
    "def geo_lon(loc):\n",
    "    try:\n",
    "        geolocation = Nominatim(user_agent=\"app\").geocode(loc)\n",
    "        return geolocation.longitude\n",
    "    except:\n",
    "        return np.nan"
   ]
  },
  {
   "cell_type": "code",
   "execution_count": 580,
   "metadata": {},
   "outputs": [],
   "source": [
    "def geo_lat(loc):\n",
    "    try:\n",
    "        geolocation = Nominatim(user_agent=\"app\").geocode(loc)\n",
    "        return geolocation.latitude\n",
    "    except:\n",
    "        return np.nan"
   ]
  },
  {
   "cell_type": "code",
   "execution_count": 581,
   "metadata": {},
   "outputs": [
    {
     "data": {
      "text/plain": [
       "(-73.9495823, 40.6501038)"
      ]
     },
     "execution_count": 581,
     "metadata": {},
     "output_type": "execute_result"
    }
   ],
   "source": [
    "geo_loc('brooklyn, ny 11201')"
   ]
  },
  {
   "cell_type": "code",
   "execution_count": 582,
   "metadata": {},
   "outputs": [],
   "source": [
    "jobs_geo = jobs.copy()"
   ]
  },
  {
   "cell_type": "code",
   "execution_count": 583,
   "metadata": {},
   "outputs": [],
   "source": [
    "jobs_geo['geo'] = jobs_geo.location.apply(geo_loc)\n",
    "jobs_geo['longitude'] = jobs_geo.location.apply(geo_lon)\n",
    "jobs_geo['latitude'] = jobs_geo.location.apply(geo_lat)"
   ]
  },
  {
   "cell_type": "code",
   "execution_count": 584,
   "metadata": {},
   "outputs": [
    {
     "data": {
      "text/plain": [
       "title               0\n",
       "company             0\n",
       "location            0\n",
       "salary              0\n",
       "country             0\n",
       "currency            0\n",
       "median_high_low     0\n",
       "geo                35\n",
       "longitude          35\n",
       "latitude           35\n",
       "dtype: int64"
      ]
     },
     "execution_count": 584,
     "metadata": {},
     "output_type": "execute_result"
    }
   ],
   "source": [
    "jobs_geo.isnull().sum()"
   ]
  },
  {
   "cell_type": "markdown",
   "metadata": {},
   "source": [
    "As we can see above, some of the location data could not be processed by the geolocator. Therefore it may not be optimal to try to build a model in this way since some valuable data is lost and it may not be applicable to some of the data we might like to make predictions for. Regardless, we will fit a model using this data and observe any difference in scores."
   ]
  },
  {
   "cell_type": "code",
   "execution_count": 585,
   "metadata": {},
   "outputs": [],
   "source": [
    "jobs_geo.dropna(inplace=True)"
   ]
  },
  {
   "cell_type": "markdown",
   "metadata": {
    "focus": false,
    "id": "a7afb2c0-d41e-4779-8216-91cd8dd4473f"
   },
   "source": [
    "#### What is the baseline accuracy for this model?"
   ]
  },
  {
   "cell_type": "code",
   "execution_count": 586,
   "metadata": {
    "focus": false,
    "id": "87a17d3d-b7f4-4747-9f75-f9af1d18a174"
   },
   "outputs": [
    {
     "data": {
      "text/plain": [
       "High    0.524621\n",
       "Low     0.475379\n",
       "Name: median_high_low, dtype: float64"
      ]
     },
     "execution_count": 586,
     "metadata": {},
     "output_type": "execute_result"
    }
   ],
   "source": [
    "jobs.median_high_low.value_counts(normalize=True)"
   ]
  },
  {
   "cell_type": "code",
   "execution_count": 587,
   "metadata": {},
   "outputs": [
    {
     "name": "stdout",
     "output_type": "stream",
     "text": [
      "baseline score is 0.5246\n"
     ]
    }
   ],
   "source": [
    "print(f'baseline score is {round(jobs.median_high_low.value_counts(normalize=True)[0], 4)}')"
   ]
  },
  {
   "cell_type": "markdown",
   "metadata": {},
   "source": [
    "<!--     The baseline accuracy for the model is 0.538. -->"
   ]
  },
  {
   "cell_type": "markdown",
   "metadata": {
    "focus": false,
    "id": "4fb29de2-5b98-474c-a4ad-5170b72b9aea"
   },
   "source": [
    "### Classification model to predict High/Low salary. \n",
    "\n",
    "Initially ONLY using the location as a feature, we will investigate the effect on roles that differing cities and countries has.\n",
    "\n",
    "Following this we will generate some new features, tune the models' parameter ranges and regularization strengths and predict based on all features to test for added value, and investigate coefficients and feature importances."
   ]
  },
  {
   "cell_type": "code",
   "execution_count": 588,
   "metadata": {},
   "outputs": [],
   "source": [
    "def lower(string):\n",
    "    if type(string)==str:\n",
    "        return string.lower()\n",
    "    return string\n",
    "\n",
    "jobs = jobs.applymap(lower)"
   ]
  },
  {
   "cell_type": "code",
   "execution_count": 1501,
   "metadata": {
    "scrolled": false
   },
   "outputs": [
    {
     "data": {
      "text/html": [
       "<div>\n",
       "<style scoped>\n",
       "    .dataframe tbody tr th:only-of-type {\n",
       "        vertical-align: middle;\n",
       "    }\n",
       "\n",
       "    .dataframe tbody tr th {\n",
       "        vertical-align: top;\n",
       "    }\n",
       "\n",
       "    .dataframe thead th {\n",
       "        text-align: right;\n",
       "    }\n",
       "</style>\n",
       "<table border=\"1\" class=\"dataframe\">\n",
       "  <thead>\n",
       "    <tr style=\"text-align: right;\">\n",
       "      <th></th>\n",
       "      <th>title</th>\n",
       "      <th>company</th>\n",
       "      <th>location</th>\n",
       "      <th>salary</th>\n",
       "      <th>country</th>\n",
       "      <th>currency</th>\n",
       "      <th>median_high_low</th>\n",
       "    </tr>\n",
       "  </thead>\n",
       "  <tbody>\n",
       "    <tr>\n",
       "      <th>0</th>\n",
       "      <td>senior data engineer (machine learning &amp; ai us...</td>\n",
       "      <td>nuvola resourcing</td>\n",
       "      <td>chertsey</td>\n",
       "      <td>91549.61</td>\n",
       "      <td>england</td>\n",
       "      <td>gbp</td>\n",
       "      <td>low</td>\n",
       "    </tr>\n",
       "    <tr>\n",
       "      <th>1</th>\n",
       "      <td>data scientist</td>\n",
       "      <td>sykes cottages</td>\n",
       "      <td>chester ch1 3bq</td>\n",
       "      <td>63380.50</td>\n",
       "      <td>england</td>\n",
       "      <td>gbp</td>\n",
       "      <td>low</td>\n",
       "    </tr>\n",
       "    <tr>\n",
       "      <th>2</th>\n",
       "      <td>data scientist</td>\n",
       "      <td>public health england</td>\n",
       "      <td>colindale nw9</td>\n",
       "      <td>50719.89</td>\n",
       "      <td>england</td>\n",
       "      <td>gbp</td>\n",
       "      <td>low</td>\n",
       "    </tr>\n",
       "    <tr>\n",
       "      <th>3</th>\n",
       "      <td>higher statistical data scientist - across the...</td>\n",
       "      <td>uk government - government statistical service</td>\n",
       "      <td>croydon</td>\n",
       "      <td>37184.64</td>\n",
       "      <td>england</td>\n",
       "      <td>gbp</td>\n",
       "      <td>low</td>\n",
       "    </tr>\n",
       "    <tr>\n",
       "      <th>4</th>\n",
       "      <td>senior statistical data scientist - across the...</td>\n",
       "      <td>uk government - government statistical service</td>\n",
       "      <td>croydon</td>\n",
       "      <td>48014.25</td>\n",
       "      <td>england</td>\n",
       "      <td>gbp</td>\n",
       "      <td>low</td>\n",
       "    </tr>\n",
       "  </tbody>\n",
       "</table>\n",
       "</div>"
      ],
      "text/plain": [
       "                                               title  \\\n",
       "0  senior data engineer (machine learning & ai us...   \n",
       "1                                     data scientist   \n",
       "2                                     data scientist   \n",
       "3  higher statistical data scientist - across the...   \n",
       "4  senior statistical data scientist - across the...   \n",
       "\n",
       "                                          company         location    salary  \\\n",
       "0                               nuvola resourcing         chertsey  91549.61   \n",
       "1                                  sykes cottages  chester ch1 3bq  63380.50   \n",
       "2                           public health england    colindale nw9  50719.89   \n",
       "3  uk government - government statistical service          croydon  37184.64   \n",
       "4  uk government - government statistical service          croydon  48014.25   \n",
       "\n",
       "   country currency median_high_low  \n",
       "0  england      gbp             low  \n",
       "1  england      gbp             low  \n",
       "2  england      gbp             low  \n",
       "3  england      gbp             low  \n",
       "4  england      gbp             low  "
      ]
     },
     "execution_count": 1501,
     "metadata": {},
     "output_type": "execute_result"
    }
   ],
   "source": [
    "jobs.head()"
   ]
  },
  {
   "cell_type": "code",
   "execution_count": 1500,
   "metadata": {},
   "outputs": [
    {
     "data": {
      "text/plain": [
       "array(['1st franklin financial corporation', '720 management',\n",
       "       '9th networks inc', 'additional resources', 'adlib'], dtype=object)"
      ]
     },
     "execution_count": 1500,
     "metadata": {},
     "output_type": "execute_result"
    }
   ],
   "source": [
    "pd.DataFrame(pd.DataFrame(jobs.company.unique()).sort_values(by=0))[0].unique()[:5]"
   ]
  },
  {
   "cell_type": "code",
   "execution_count": 591,
   "metadata": {},
   "outputs": [],
   "source": [
    "# def key_words(title):\n",
    "#     \n",
    "\n",
    "def title_cleaner(title):\n",
    "    return title.replace('sr.', 'senior').replace('sr', 'senior')\n",
    "\n",
    "# def senior(title):\n",
    "#     if ('senior' in title) or ('sr' in title):\n",
    "#         return 1\n",
    "#     return 0\n",
    "\n",
    "# def manager(title):\n",
    "#     if 'manag' in title:\n",
    "#         return 1\n",
    "#     return 0\n",
    "\n",
    "# def lead(title):\n",
    "#     if 'lead' in title:\n",
    "#         return 1\n",
    "#     return 0\n",
    "\n",
    "# ['senior', 'manager', 'lead']"
   ]
  },
  {
   "cell_type": "code",
   "execution_count": 592,
   "metadata": {},
   "outputs": [],
   "source": [
    "jobs.title = jobs.title.apply(title_cleaner)\n",
    "# jobs['senior'] = jobs['title'].apply(senior)\n",
    "# jobs['manager'] = jobs['title'].apply(manager)\n",
    "# jobs['lead'] = jobs['title'].apply(lead)"
   ]
  },
  {
   "cell_type": "markdown",
   "metadata": {},
   "source": [
    "### For the models, I am going to test Decision Trees and Logistic Regression. I will then test both voting and stacking ensemble methods using a RandomForestClassifier, as well as a GradientBoostClassifier."
   ]
  },
  {
   "cell_type": "code",
   "execution_count": 594,
   "metadata": {},
   "outputs": [],
   "source": [
    "from sklearn.model_selection import train_test_split\n",
    "from sklearn.feature_extraction.text import CountVectorizer\n",
    "from sklearn.preprocessing import OneHotEncoder\n",
    "from sklearn.compose import ColumnTransformer\n",
    "from sklearn.pipeline import make_pipeline\n",
    "from sklearn.tree import DecisionTreeClassifier\n",
    "from sklearn.model_selection import cross_val_score\n",
    "from sklearn.linear_model import LogisticRegression"
   ]
  },
  {
   "cell_type": "markdown",
   "metadata": {},
   "source": [
    "In terms of feature scaling, since there are no numeric columns bar salary which is not included in the predictor data, column transformers will be used to extract features."
   ]
  },
  {
   "cell_type": "markdown",
   "metadata": {},
   "source": [
    "It is also noted that there is an imbalance issue in the country column, with England having far more datapoints than Singapore.\n",
    "Oversampling may lead to biased data regarding Singapore jobs, whereas Undersampling would remove the majority of the data required for proper training of the model."
   ]
  },
  {
   "cell_type": "markdown",
   "metadata": {},
   "source": [
    "#### Test using the longitude and latitude extracted by geopy's Nominatim"
   ]
  },
  {
   "cell_type": "markdown",
   "metadata": {},
   "source": [
    "##### set up the X, y and train-test sets"
   ]
  },
  {
   "cell_type": "code",
   "execution_count": 595,
   "metadata": {},
   "outputs": [],
   "source": [
    "y = jobs_geo['median_high_low']"
   ]
  },
  {
   "cell_type": "code",
   "execution_count": 596,
   "metadata": {},
   "outputs": [],
   "source": [
    "X = jobs_geo[['longitude', 'latitude']]"
   ]
  },
  {
   "cell_type": "code",
   "execution_count": 597,
   "metadata": {},
   "outputs": [],
   "source": [
    "X_train, X_test, y_train, y_test = train_test_split(X, y, test_size=0.2, random_state=1, stratify=y)"
   ]
  },
  {
   "cell_type": "markdown",
   "metadata": {},
   "source": [
    "##### decision tree classifier"
   ]
  },
  {
   "cell_type": "code",
   "execution_count": 598,
   "metadata": {},
   "outputs": [],
   "source": [
    "dtc_ll = DecisionTreeClassifier().fit(X_train, y_train)"
   ]
  },
  {
   "cell_type": "code",
   "execution_count": 599,
   "metadata": {},
   "outputs": [
    {
     "data": {
      "text/plain": [
       "0.6928934010152284"
      ]
     },
     "execution_count": 599,
     "metadata": {},
     "output_type": "execute_result"
    }
   ],
   "source": [
    "dtc_ll.score(X_train, y_train)"
   ]
  },
  {
   "cell_type": "code",
   "execution_count": 600,
   "metadata": {},
   "outputs": [
    {
     "data": {
      "text/plain": [
       "0.6060606060606061"
      ]
     },
     "execution_count": 600,
     "metadata": {},
     "output_type": "execute_result"
    }
   ],
   "source": [
    "dtc_ll.score(X_test, y_test)"
   ]
  },
  {
   "cell_type": "code",
   "execution_count": 601,
   "metadata": {},
   "outputs": [
    {
     "data": {
      "text/plain": [
       "array([0.27, 0.73])"
      ]
     },
     "execution_count": 601,
     "metadata": {},
     "output_type": "execute_result"
    }
   ],
   "source": [
    "dtc_ll.feature_importances_"
   ]
  },
  {
   "cell_type": "markdown",
   "metadata": {},
   "source": [
    "##### logistic regression"
   ]
  },
  {
   "cell_type": "code",
   "execution_count": 602,
   "metadata": {},
   "outputs": [],
   "source": [
    "log_ll = LogisticRegression().fit(X_train, y_train)"
   ]
  },
  {
   "cell_type": "code",
   "execution_count": 603,
   "metadata": {},
   "outputs": [
    {
     "data": {
      "text/plain": [
       "0.6091370558375635"
      ]
     },
     "execution_count": 603,
     "metadata": {},
     "output_type": "execute_result"
    }
   ],
   "source": [
    "log_ll.score(X_train, y_train)"
   ]
  },
  {
   "cell_type": "code",
   "execution_count": 604,
   "metadata": {},
   "outputs": [
    {
     "data": {
      "text/plain": [
       "0.5858585858585859"
      ]
     },
     "execution_count": 604,
     "metadata": {},
     "output_type": "execute_result"
    }
   ],
   "source": [
    "log_ll.score(X_test, y_test)"
   ]
  },
  {
   "cell_type": "markdown",
   "metadata": {},
   "source": [
    "#### Test using the location variable, countvectorized to find commonalities"
   ]
  },
  {
   "cell_type": "markdown",
   "metadata": {},
   "source": [
    "##### set up the X, y and train-test sets"
   ]
  },
  {
   "cell_type": "code",
   "execution_count": 605,
   "metadata": {},
   "outputs": [],
   "source": [
    "jobs_restricted = jobs[(jobs.country=='usa')|(jobs.country=='england')]"
   ]
  },
  {
   "cell_type": "code",
   "execution_count": 606,
   "metadata": {},
   "outputs": [
    {
     "data": {
      "text/plain": [
       "(519, 7)"
      ]
     },
     "execution_count": 606,
     "metadata": {},
     "output_type": "execute_result"
    }
   ],
   "source": [
    "jobs_restricted.shape"
   ]
  },
  {
   "cell_type": "code",
   "execution_count": 607,
   "metadata": {},
   "outputs": [],
   "source": [
    "y = jobs_restricted['median_high_low']"
   ]
  },
  {
   "cell_type": "code",
   "execution_count": 608,
   "metadata": {},
   "outputs": [],
   "source": [
    "X = jobs_restricted[['location']]"
   ]
  },
  {
   "cell_type": "code",
   "execution_count": 609,
   "metadata": {},
   "outputs": [],
   "source": [
    "X_train, X_test, y_train, y_test = train_test_split(X, y, test_size=0.2, random_state=1, stratify=y)"
   ]
  },
  {
   "cell_type": "markdown",
   "metadata": {},
   "source": [
    "##### pipeline with a decision tree classifier"
   ]
  },
  {
   "cell_type": "code",
   "execution_count": 610,
   "metadata": {},
   "outputs": [],
   "source": [
    "cvec_location = CountVectorizer(stop_words='english', max_df=0.9, min_df=1)\n",
    "dtc_loc = DecisionTreeClassifier()"
   ]
  },
  {
   "cell_type": "code",
   "execution_count": 611,
   "metadata": {},
   "outputs": [],
   "source": [
    "col_trans = ColumnTransformer([('location', cvec_location, 'location')], remainder='passthrough')"
   ]
  },
  {
   "cell_type": "code",
   "execution_count": 612,
   "metadata": {},
   "outputs": [],
   "source": [
    "pipe_loc_dtc = make_pipeline(col_trans, dtc_loc)"
   ]
  },
  {
   "cell_type": "code",
   "execution_count": 613,
   "metadata": {},
   "outputs": [
    {
     "data": {
      "text/plain": [
       "Pipeline(steps=[('columntransformer',\n",
       "                 ColumnTransformer(remainder='passthrough',\n",
       "                                   transformers=[('location',\n",
       "                                                  CountVectorizer(max_df=0.9,\n",
       "                                                                  stop_words='english'),\n",
       "                                                  'location')])),\n",
       "                ('decisiontreeclassifier', DecisionTreeClassifier())])"
      ]
     },
     "execution_count": 613,
     "metadata": {},
     "output_type": "execute_result"
    }
   ],
   "source": [
    "pipe_loc_dtc.fit(X_train, y_train)"
   ]
  },
  {
   "cell_type": "code",
   "execution_count": 614,
   "metadata": {},
   "outputs": [
    {
     "data": {
      "text/plain": [
       "0.7325301204819277"
      ]
     },
     "execution_count": 614,
     "metadata": {},
     "output_type": "execute_result"
    }
   ],
   "source": [
    "pipe_loc_dtc.score(X_train, y_train)"
   ]
  },
  {
   "cell_type": "code",
   "execution_count": 615,
   "metadata": {},
   "outputs": [
    {
     "data": {
      "text/plain": [
       "0.6346153846153846"
      ]
     },
     "execution_count": 615,
     "metadata": {},
     "output_type": "execute_result"
    }
   ],
   "source": [
    "pipe_loc_dtc.score(X_test, y_test)"
   ]
  },
  {
   "cell_type": "markdown",
   "metadata": {},
   "source": [
    "##### pipeline with a logistic regression model"
   ]
  },
  {
   "cell_type": "code",
   "execution_count": 616,
   "metadata": {},
   "outputs": [],
   "source": [
    "log_loc = LogisticRegression()"
   ]
  },
  {
   "cell_type": "code",
   "execution_count": 617,
   "metadata": {},
   "outputs": [],
   "source": [
    "pipe_loc_log = make_pipeline(col_trans, log_loc)"
   ]
  },
  {
   "cell_type": "code",
   "execution_count": 618,
   "metadata": {},
   "outputs": [
    {
     "data": {
      "text/plain": [
       "Pipeline(steps=[('columntransformer',\n",
       "                 ColumnTransformer(remainder='passthrough',\n",
       "                                   transformers=[('location',\n",
       "                                                  CountVectorizer(max_df=0.9,\n",
       "                                                                  stop_words='english'),\n",
       "                                                  'location')])),\n",
       "                ('logisticregression', LogisticRegression())])"
      ]
     },
     "execution_count": 618,
     "metadata": {},
     "output_type": "execute_result"
    }
   ],
   "source": [
    "pipe_loc_log.fit(X_train, y_train)"
   ]
  },
  {
   "cell_type": "code",
   "execution_count": 619,
   "metadata": {},
   "outputs": [
    {
     "data": {
      "text/plain": [
       "0.7108433734939759"
      ]
     },
     "execution_count": 619,
     "metadata": {},
     "output_type": "execute_result"
    }
   ],
   "source": [
    "pipe_loc_log.score(X_train, y_train)"
   ]
  },
  {
   "cell_type": "code",
   "execution_count": 620,
   "metadata": {},
   "outputs": [
    {
     "data": {
      "text/plain": [
       "0.6153846153846154"
      ]
     },
     "execution_count": 620,
     "metadata": {},
     "output_type": "execute_result"
    }
   ],
   "source": [
    "pipe_loc_log.score(X_test, y_test)"
   ]
  },
  {
   "cell_type": "code",
   "execution_count": 621,
   "metadata": {},
   "outputs": [],
   "source": [
    "feature_columns = pipe_loc_log['columntransformer'].get_feature_names()"
   ]
  },
  {
   "cell_type": "code",
   "execution_count": 622,
   "metadata": {},
   "outputs": [
    {
     "data": {
      "text/plain": [
       "['location__11101',\n",
       " 'location__11201',\n",
       " 'location__12206',\n",
       " 'location__1jd',\n",
       " 'location__1rt']"
      ]
     },
     "execution_count": 622,
     "metadata": {},
     "output_type": "execute_result"
    }
   ],
   "source": [
    "feature_columns[:5]"
   ]
  },
  {
   "cell_type": "code",
   "execution_count": 623,
   "metadata": {},
   "outputs": [
    {
     "data": {
      "text/plain": [
       "10"
      ]
     },
     "execution_count": 623,
     "metadata": {},
     "output_type": "execute_result"
    }
   ],
   "source": [
    "len('location__')"
   ]
  },
  {
   "cell_type": "code",
   "execution_count": 624,
   "metadata": {},
   "outputs": [],
   "source": [
    "feature_names = [col[len('location__'):] for col in feature_columns]"
   ]
  },
  {
   "cell_type": "code",
   "execution_count": 625,
   "metadata": {},
   "outputs": [
    {
     "data": {
      "text/plain": [
       "['11101',\n",
       " '11201',\n",
       " '12206',\n",
       " '1jd',\n",
       " '1rt',\n",
       " '30030',\n",
       " '30071',\n",
       " '30308',\n",
       " '30324',\n",
       " '30326',\n",
       " '3bq',\n",
       " '3qg',\n",
       " '5ga',\n",
       " '5jj',\n",
       " '60601',\n",
       " '60614',\n",
       " '6jh',\n",
       " '6tr',\n",
       " '73301',\n",
       " '75023',\n",
       " '75024',\n",
       " '75038',\n",
       " '75201',\n",
       " '75207',\n",
       " '78701',\n",
       " '78741',\n",
       " '78757',\n",
       " '78758',\n",
       " '7jr',\n",
       " '7rl',\n",
       " '80021',\n",
       " '80027',\n",
       " '80111',\n",
       " '80112',\n",
       " '80120',\n",
       " '80124',\n",
       " '80202',\n",
       " '80204',\n",
       " '80225',\n",
       " '80230',\n",
       " '80237',\n",
       " '80301',\n",
       " '80305',\n",
       " '80309',\n",
       " '85007',\n",
       " '85284',\n",
       " '85308',\n",
       " '8bh',\n",
       " '8jt',\n",
       " '8qs',\n",
       " '8sd',\n",
       " '90023',\n",
       " '94070',\n",
       " '94080',\n",
       " '94108',\n",
       " '94720',\n",
       " '98052',\n",
       " '98101',\n",
       " '98104',\n",
       " '9bj',\n",
       " 'albany',\n",
       " 'angeles',\n",
       " 'area',\n",
       " 'atlanta',\n",
       " 'auraria',\n",
       " 'austin',\n",
       " 'az',\n",
       " 'b15',\n",
       " 'b75',\n",
       " 'berkeley',\n",
       " 'birmingham',\n",
       " 'boulder',\n",
       " 'boulevard',\n",
       " 'boyle',\n",
       " 'brooklyn',\n",
       " 'broomfield',\n",
       " 'buckhead',\n",
       " 'burnett',\n",
       " 'business',\n",
       " 'ca',\n",
       " 'campus',\n",
       " 'carlos',\n",
       " 'central',\n",
       " 'ch1',\n",
       " 'chertsey',\n",
       " 'chester',\n",
       " 'chicago',\n",
       " 'city',\n",
       " 'coldfield',\n",
       " 'colindale',\n",
       " 'colorado',\n",
       " 'corners',\n",
       " 'cottonwood',\n",
       " 'coventry',\n",
       " 'creek',\n",
       " 'croydon',\n",
       " 'da1',\n",
       " 'dallas',\n",
       " 'dartford',\n",
       " 'decatur',\n",
       " 'deer',\n",
       " 'denver',\n",
       " 'district',\n",
       " 'downtown',\n",
       " 'e1',\n",
       " 'ec1v',\n",
       " 'edwards',\n",
       " 'englewood',\n",
       " 'field',\n",
       " 'financial',\n",
       " 'francisco',\n",
       " 'ga',\n",
       " 'glendale',\n",
       " 'golden',\n",
       " 'government',\n",
       " 'greenwood',\n",
       " 'hampden',\n",
       " 'heights',\n",
       " 'historic',\n",
       " 'houston',\n",
       " 'il',\n",
       " 'interlocken',\n",
       " 'irving',\n",
       " 'kensington',\n",
       " 'lakewood',\n",
       " 'lane',\n",
       " 'leamington',\n",
       " 'leeds',\n",
       " 'leyland',\n",
       " 'lindbergh',\n",
       " 'littleton',\n",
       " 'london',\n",
       " 'lone',\n",
       " 'loop',\n",
       " 'los',\n",
       " 'louisville',\n",
       " 'lowry',\n",
       " 'ls1',\n",
       " 'ls11',\n",
       " 'm60',\n",
       " 'manchester',\n",
       " 'midlands',\n",
       " 'monica',\n",
       " 'neighbors',\n",
       " 'new',\n",
       " 'north',\n",
       " 'northbrook',\n",
       " 'nw1',\n",
       " 'nw9',\n",
       " 'ny',\n",
       " 'oakland',\n",
       " 'park',\n",
       " 'parker',\n",
       " 'peachtree',\n",
       " 'phoenix',\n",
       " 'pioneer',\n",
       " 'plano',\n",
       " 'portland',\n",
       " 'pr26',\n",
       " 'queens',\n",
       " 'redmond',\n",
       " 'reigate',\n",
       " 'row',\n",
       " 'san',\n",
       " 'santa',\n",
       " 'se1',\n",
       " 'seattle',\n",
       " 'shoal',\n",
       " 'slough',\n",
       " 'soho',\n",
       " 'south',\n",
       " 'southeastern',\n",
       " 'spa',\n",
       " 'square',\n",
       " 'st',\n",
       " 'stafford',\n",
       " 'sutton',\n",
       " 'sw15',\n",
       " 'tempe',\n",
       " 'tree',\n",
       " 'tx',\n",
       " 'university',\n",
       " 'valley',\n",
       " 'village',\n",
       " 'w10',\n",
       " 'w1d',\n",
       " 'w1f',\n",
       " 'wa',\n",
       " 'west',\n",
       " 'westminster',\n",
       " 'wrightwood',\n",
       " 'york',\n",
       " 'yorkshire']"
      ]
     },
     "execution_count": 625,
     "metadata": {},
     "output_type": "execute_result"
    }
   ],
   "source": [
    "feature_names"
   ]
  },
  {
   "cell_type": "code",
   "execution_count": 626,
   "metadata": {},
   "outputs": [
    {
     "data": {
      "text/plain": [
       "array([ 0.46,  0.3 , -0.55,  0.29,  0.52, -0.26, -0.21, -0.28,  0.39,\n",
       "        0.39,  0.3 , -0.34,  0.3 ,  0.34, -0.36, -0.2 ,  0.23,  0.44,\n",
       "       -0.11, -0.46,  0.35,  0.23,  0.59, -0.32,  0.59,  0.38, -0.2 ,\n",
       "       -0.47, -0.34,  0.27, -0.82, -0.56,  0.44, -0.33,  0.02, -0.28,\n",
       "       -0.13,  0.45, -0.33,  0.65,  0.43, -0.37,  0.6 ,  0.31,  0.13,\n",
       "       -0.35,  0.19, -0.42,  0.23,  0.34,  0.29, -0.15, -0.19,  0.44,\n",
       "       -0.22,  0.47, -0.23, -0.17, -0.17,  0.28, -0.55, -0.54,  0.58,\n",
       "       -0.2 ,  0.45, -0.73,  0.16,  0.26,  0.27,  0.47,  0.84, -1.06,\n",
       "       -0.32, -0.15,  0.3 , -0.66,  0.39, -0.47, -0.13, -0.76, -0.55,\n",
       "       -0.19,  0.6 ,  0.3 ,  0.7 ,  0.3 , -0.76,  0.13,  0.27,  0.54,\n",
       "        0.31, -0.21,  0.23,  0.7 , -0.2 ,  0.7 ,  0.3 , -0.1 ,  0.3 ,\n",
       "       -0.26,  0.19, -1.2 , -0.31, -0.35,  0.34,  0.63, -0.11, -0.33,\n",
       "        0.65, -0.22, -0.03, -0.67,  0.19,  0.41,  0.59,  0.44,  0.03,\n",
       "       -0.15, -0.32, -0.96, -0.56, -0.66,  0.62,  0.72, -0.33,  0.38,\n",
       "        0.35,  0.78,  0.44,  0.39,  0.02,  0.08, -0.28, -0.36, -0.54,\n",
       "       -0.85,  0.65,  0.23,  0.23,  0.53,  1.4 ,  0.3 , -0.22, -0.2 ,\n",
       "        0.12, -0.14,  0.21, -0.34,  0.54,  0.33, -0.25, -0.32,  0.38,\n",
       "       -0.21,  0.32, -0.17,  0.75, -0.65,  0.44,  0.46, -0.23, -0.85,\n",
       "       -0.32, -0.23, -0.22,  0.58, -0.67, -0.2 ,  0.41, -0.42,  0.87,\n",
       "       -0.3 ,  0.35, -0.17, -0.11,  0.41,  0.27,  0.52, -0.35, -0.28,\n",
       "       -0.41,  0.73,  0.19,  0.44,  0.34, -0.34, -0.42, -0.9 ,  0.64,\n",
       "       -0.77, -0.2 ,  0.12,  0.41])"
      ]
     },
     "execution_count": 626,
     "metadata": {},
     "output_type": "execute_result"
    }
   ],
   "source": [
    "pipe_loc_log['logisticregression'].coef_[0]"
   ]
  },
  {
   "cell_type": "code",
   "execution_count": 627,
   "metadata": {},
   "outputs": [],
   "source": [
    "coefficients = pd.DataFrame(zip(feature_names, pipe_loc_log['logisticregression'].coef_[0]), columns=['name', 'coef'])"
   ]
  },
  {
   "cell_type": "code",
   "execution_count": 628,
   "metadata": {},
   "outputs": [
    {
     "data": {
      "text/html": [
       "<div>\n",
       "<style scoped>\n",
       "    .dataframe tbody tr th:only-of-type {\n",
       "        vertical-align: middle;\n",
       "    }\n",
       "\n",
       "    .dataframe tbody tr th {\n",
       "        vertical-align: top;\n",
       "    }\n",
       "\n",
       "    .dataframe thead th {\n",
       "        text-align: right;\n",
       "    }\n",
       "</style>\n",
       "<table border=\"1\" class=\"dataframe\">\n",
       "  <thead>\n",
       "    <tr style=\"text-align: right;\">\n",
       "      <th></th>\n",
       "      <th>name</th>\n",
       "      <th>coef</th>\n",
       "    </tr>\n",
       "  </thead>\n",
       "  <tbody>\n",
       "    <tr>\n",
       "      <th>140</th>\n",
       "      <td>manchester</td>\n",
       "      <td>1.403466</td>\n",
       "    </tr>\n",
       "    <tr>\n",
       "      <th>170</th>\n",
       "      <td>south</td>\n",
       "      <td>0.869096</td>\n",
       "    </tr>\n",
       "    <tr>\n",
       "      <th>70</th>\n",
       "      <td>birmingham</td>\n",
       "      <td>0.839752</td>\n",
       "    </tr>\n",
       "    <tr>\n",
       "      <th>127</th>\n",
       "      <td>leeds</td>\n",
       "      <td>0.781550</td>\n",
       "    </tr>\n",
       "    <tr>\n",
       "      <th>156</th>\n",
       "      <td>plano</td>\n",
       "      <td>0.754249</td>\n",
       "    </tr>\n",
       "    <tr>\n",
       "      <th>...</th>\n",
       "      <td>...</td>\n",
       "      <td>...</td>\n",
       "    </tr>\n",
       "    <tr>\n",
       "      <th>161</th>\n",
       "      <td>reigate</td>\n",
       "      <td>-0.854700</td>\n",
       "    </tr>\n",
       "    <tr>\n",
       "      <th>187</th>\n",
       "      <td>wa</td>\n",
       "      <td>-0.901728</td>\n",
       "    </tr>\n",
       "    <tr>\n",
       "      <th>119</th>\n",
       "      <td>houston</td>\n",
       "      <td>-0.960330</td>\n",
       "    </tr>\n",
       "    <tr>\n",
       "      <th>71</th>\n",
       "      <td>boulder</td>\n",
       "      <td>-1.062113</td>\n",
       "    </tr>\n",
       "    <tr>\n",
       "      <th>101</th>\n",
       "      <td>denver</td>\n",
       "      <td>-1.203621</td>\n",
       "    </tr>\n",
       "  </tbody>\n",
       "</table>\n",
       "<p>193 rows × 2 columns</p>\n",
       "</div>"
      ],
      "text/plain": [
       "           name      coef\n",
       "140  manchester  1.403466\n",
       "170       south  0.869096\n",
       "70   birmingham  0.839752\n",
       "127       leeds  0.781550\n",
       "156       plano  0.754249\n",
       "..          ...       ...\n",
       "161     reigate -0.854700\n",
       "187          wa -0.901728\n",
       "119     houston -0.960330\n",
       "71      boulder -1.062113\n",
       "101      denver -1.203621\n",
       "\n",
       "[193 rows x 2 columns]"
      ]
     },
     "execution_count": 628,
     "metadata": {},
     "output_type": "execute_result"
    }
   ],
   "source": [
    "coefficients.sort_values(by='coef', ascending=False)"
   ]
  },
  {
   "cell_type": "markdown",
   "metadata": {},
   "source": [
    "##### test using all available variables"
   ]
  },
  {
   "cell_type": "markdown",
   "metadata": {},
   "source": [
    "##### set up the X, y and train-test sets"
   ]
  },
  {
   "cell_type": "code",
   "execution_count": 629,
   "metadata": {},
   "outputs": [],
   "source": [
    "jobs_test = jobs.copy()"
   ]
  },
  {
   "cell_type": "code",
   "execution_count": 630,
   "metadata": {},
   "outputs": [],
   "source": [
    "y = jobs_test.pop('median_high_low')"
   ]
  },
  {
   "cell_type": "code",
   "execution_count": 631,
   "metadata": {},
   "outputs": [],
   "source": [
    "X = jobs_test[['title', 'company', 'location']]"
   ]
  },
  {
   "cell_type": "code",
   "execution_count": 632,
   "metadata": {},
   "outputs": [],
   "source": [
    "X = jobs_test[['title', 'company', 'location', 'country']]"
   ]
  },
  {
   "cell_type": "code",
   "execution_count": 633,
   "metadata": {},
   "outputs": [
    {
     "data": {
      "text/html": [
       "<div>\n",
       "<style scoped>\n",
       "    .dataframe tbody tr th:only-of-type {\n",
       "        vertical-align: middle;\n",
       "    }\n",
       "\n",
       "    .dataframe tbody tr th {\n",
       "        vertical-align: top;\n",
       "    }\n",
       "\n",
       "    .dataframe thead th {\n",
       "        text-align: right;\n",
       "    }\n",
       "</style>\n",
       "<table border=\"1\" class=\"dataframe\">\n",
       "  <thead>\n",
       "    <tr style=\"text-align: right;\">\n",
       "      <th></th>\n",
       "      <th>title</th>\n",
       "      <th>company</th>\n",
       "      <th>location</th>\n",
       "      <th>country</th>\n",
       "    </tr>\n",
       "  </thead>\n",
       "  <tbody>\n",
       "    <tr>\n",
       "      <th>0</th>\n",
       "      <td>senior data engineer (machine learning &amp; ai us...</td>\n",
       "      <td>nuvola resourcing</td>\n",
       "      <td>chertsey</td>\n",
       "      <td>england</td>\n",
       "    </tr>\n",
       "    <tr>\n",
       "      <th>1</th>\n",
       "      <td>data scientist</td>\n",
       "      <td>sykes cottages</td>\n",
       "      <td>chester ch1 3bq</td>\n",
       "      <td>england</td>\n",
       "    </tr>\n",
       "    <tr>\n",
       "      <th>2</th>\n",
       "      <td>data scientist</td>\n",
       "      <td>public health england</td>\n",
       "      <td>colindale nw9</td>\n",
       "      <td>england</td>\n",
       "    </tr>\n",
       "    <tr>\n",
       "      <th>3</th>\n",
       "      <td>higher statistical data scientist - across the...</td>\n",
       "      <td>uk government - government statistical service</td>\n",
       "      <td>croydon</td>\n",
       "      <td>england</td>\n",
       "    </tr>\n",
       "    <tr>\n",
       "      <th>4</th>\n",
       "      <td>senior statistical data scientist - across the...</td>\n",
       "      <td>uk government - government statistical service</td>\n",
       "      <td>croydon</td>\n",
       "      <td>england</td>\n",
       "    </tr>\n",
       "    <tr>\n",
       "      <th>...</th>\n",
       "      <td>...</td>\n",
       "      <td>...</td>\n",
       "      <td>...</td>\n",
       "      <td>...</td>\n",
       "    </tr>\n",
       "    <tr>\n",
       "      <th>523</th>\n",
       "      <td>data scientist</td>\n",
       "      <td>omnivis</td>\n",
       "      <td>south san francisco, ca 94080</td>\n",
       "      <td>usa</td>\n",
       "    </tr>\n",
       "    <tr>\n",
       "      <th>524</th>\n",
       "      <td>senior data scientist | fte</td>\n",
       "      <td>martian wall pvt ltd</td>\n",
       "      <td>tempe, az</td>\n",
       "      <td>usa</td>\n",
       "    </tr>\n",
       "    <tr>\n",
       "      <th>525</th>\n",
       "      <td>senior data scientist</td>\n",
       "      <td>global nephrology solutions</td>\n",
       "      <td>tempe, az 85284</td>\n",
       "      <td>usa</td>\n",
       "    </tr>\n",
       "    <tr>\n",
       "      <th>526</th>\n",
       "      <td>data scientist</td>\n",
       "      <td>innovar group</td>\n",
       "      <td>westminster, co</td>\n",
       "      <td>usa</td>\n",
       "    </tr>\n",
       "    <tr>\n",
       "      <th>527</th>\n",
       "      <td>engineer senior - machine learning/ deep learn...</td>\n",
       "      <td>ball aerospace</td>\n",
       "      <td>westminster, co 80021</td>\n",
       "      <td>usa</td>\n",
       "    </tr>\n",
       "  </tbody>\n",
       "</table>\n",
       "<p>528 rows × 4 columns</p>\n",
       "</div>"
      ],
      "text/plain": [
       "                                                 title  \\\n",
       "0    senior data engineer (machine learning & ai us...   \n",
       "1                                       data scientist   \n",
       "2                                       data scientist   \n",
       "3    higher statistical data scientist - across the...   \n",
       "4    senior statistical data scientist - across the...   \n",
       "..                                                 ...   \n",
       "523                                     data scientist   \n",
       "524                        senior data scientist | fte   \n",
       "525                              senior data scientist   \n",
       "526                                     data scientist   \n",
       "527  engineer senior - machine learning/ deep learn...   \n",
       "\n",
       "                                            company  \\\n",
       "0                                 nuvola resourcing   \n",
       "1                                    sykes cottages   \n",
       "2                             public health england   \n",
       "3    uk government - government statistical service   \n",
       "4    uk government - government statistical service   \n",
       "..                                              ...   \n",
       "523                                         omnivis   \n",
       "524                            martian wall pvt ltd   \n",
       "525                     global nephrology solutions   \n",
       "526                                   innovar group   \n",
       "527                                  ball aerospace   \n",
       "\n",
       "                          location  country  \n",
       "0                         chertsey  england  \n",
       "1                  chester ch1 3bq  england  \n",
       "2                    colindale nw9  england  \n",
       "3                          croydon  england  \n",
       "4                          croydon  england  \n",
       "..                             ...      ...  \n",
       "523  south san francisco, ca 94080      usa  \n",
       "524                      tempe, az      usa  \n",
       "525                tempe, az 85284      usa  \n",
       "526                westminster, co      usa  \n",
       "527          westminster, co 80021      usa  \n",
       "\n",
       "[528 rows x 4 columns]"
      ]
     },
     "execution_count": 633,
     "metadata": {},
     "output_type": "execute_result"
    }
   ],
   "source": [
    "X"
   ]
  },
  {
   "cell_type": "code",
   "execution_count": 634,
   "metadata": {},
   "outputs": [],
   "source": [
    "X_train, X_test, y_train, y_test = train_test_split(X, y, test_size=0.2, random_state=1, stratify=y)"
   ]
  },
  {
   "cell_type": "markdown",
   "metadata": {},
   "source": [
    "Since there is much variance in related job titles for the job posts, and also post codes, NLP will be used to harness any variation in input of information to the job posts.\n",
    "\n",
    "Upon looking at unique values for the Company column, they seemed to be well standardised and there didn't seem much need to use NLP on the column since all instances of the same company would be recognised under one dummy heading. \n",
    "\n",
    "However, after reviewing the difference in scores between OneHotEncoder and CountVectorizer used on the company columns, both test and train scores whereby the Company column has been CountVectorized turn out better. Therefore NLP has been used on all text columns: Title, Company and Location. "
   ]
  },
  {
   "cell_type": "markdown",
   "metadata": {},
   "source": [
    "##### decision tree pipeline"
   ]
  },
  {
   "cell_type": "code",
   "execution_count": 635,
   "metadata": {},
   "outputs": [],
   "source": [
    "cvec_title = CountVectorizer(stop_words='english')\n",
    "cvec_company = CountVectorizer(stop_words='english')\n",
    "cvec_location = CountVectorizer(stop_words='english', max_df=0.9, min_df=1)\n",
    "ohe = OneHotEncoder(handle_unknown='ignore')\n",
    "dtc = DecisionTreeClassifier()"
   ]
  },
  {
   "cell_type": "code",
   "execution_count": 636,
   "metadata": {},
   "outputs": [],
   "source": [
    "col_trans = ColumnTransformer([('title', cvec_title, 'title'), ('company', cvec_company, 'company'), ('location', cvec_location, 'location'), ('country', ohe, ['country'])], remainder='passthrough')"
   ]
  },
  {
   "cell_type": "code",
   "execution_count": 637,
   "metadata": {},
   "outputs": [],
   "source": [
    "pipe_dtc = make_pipeline(col_trans, dtc)"
   ]
  },
  {
   "cell_type": "code",
   "execution_count": 638,
   "metadata": {},
   "outputs": [
    {
     "data": {
      "text/plain": [
       "Pipeline(steps=[('columntransformer',\n",
       "                 ColumnTransformer(remainder='passthrough',\n",
       "                                   transformers=[('title',\n",
       "                                                  CountVectorizer(stop_words='english'),\n",
       "                                                  'title'),\n",
       "                                                 ('company',\n",
       "                                                  CountVectorizer(stop_words='english'),\n",
       "                                                  'company'),\n",
       "                                                 ('location',\n",
       "                                                  CountVectorizer(max_df=0.9,\n",
       "                                                                  stop_words='english'),\n",
       "                                                  'location'),\n",
       "                                                 ('country',\n",
       "                                                  OneHotEncoder(handle_unknown='ignore'),\n",
       "                                                  ['country'])])),\n",
       "                ('decisiontreeclassifier', DecisionTreeClassifier())])"
      ]
     },
     "execution_count": 638,
     "metadata": {},
     "output_type": "execute_result"
    }
   ],
   "source": [
    "pipe_dtc.fit(X_train, y_train)"
   ]
  },
  {
   "cell_type": "code",
   "execution_count": 639,
   "metadata": {},
   "outputs": [
    {
     "data": {
      "text/plain": [
       "0.9976303317535545"
      ]
     },
     "execution_count": 639,
     "metadata": {},
     "output_type": "execute_result"
    }
   ],
   "source": [
    "pipe_dtc.score(X_train, y_train)"
   ]
  },
  {
   "cell_type": "code",
   "execution_count": 640,
   "metadata": {},
   "outputs": [
    {
     "data": {
      "text/plain": [
       "0.8207547169811321"
      ]
     },
     "execution_count": 640,
     "metadata": {},
     "output_type": "execute_result"
    }
   ],
   "source": [
    "pipe_dtc.score(X_test, y_test)"
   ]
  },
  {
   "cell_type": "code",
   "execution_count": 2,
   "metadata": {},
   "outputs": [],
   "source": [
    "# CVEC\n",
    "# Train\n",
    "# 0.9961977186311787\n",
    "\n",
    "# Test\n",
    "# 0.7878787878787878\n",
    "\n",
    "# WITHOUT COUNTRY\n",
    "\n",
    "# OHE\n",
    "# Train\n",
    "# 0.9961977186311787\n",
    "\n",
    "# Test\n",
    "# 0.7727272727272727"
   ]
  },
  {
   "cell_type": "markdown",
   "metadata": {},
   "source": [
    "##### logistic regression pipeline"
   ]
  },
  {
   "cell_type": "code",
   "execution_count": 642,
   "metadata": {},
   "outputs": [],
   "source": [
    "cvec_title = CountVectorizer(stop_words='english')\n",
    "cvec_company = CountVectorizer(stop_words='english')\n",
    "cvec_location = CountVectorizer(stop_words='english', max_df=0.9, min_df=1)\n",
    "ohe = OneHotEncoder(handle_unknown='ignore')\n",
    "log = LogisticRegression()"
   ]
  },
  {
   "cell_type": "code",
   "execution_count": 643,
   "metadata": {},
   "outputs": [],
   "source": [
    "col_trans = ColumnTransformer([('title', cvec_title, 'title'), ('company', cvec_company, 'company'), ('location', cvec_location, 'location'), ('country', ohe, ['country'])], remainder='passthrough')"
   ]
  },
  {
   "cell_type": "code",
   "execution_count": 644,
   "metadata": {},
   "outputs": [],
   "source": [
    "pipe_log = make_pipeline(col_trans, log)"
   ]
  },
  {
   "cell_type": "code",
   "execution_count": 645,
   "metadata": {},
   "outputs": [
    {
     "data": {
      "text/plain": [
       "Pipeline(steps=[('columntransformer',\n",
       "                 ColumnTransformer(remainder='passthrough',\n",
       "                                   transformers=[('title',\n",
       "                                                  CountVectorizer(stop_words='english'),\n",
       "                                                  'title'),\n",
       "                                                 ('company',\n",
       "                                                  CountVectorizer(stop_words='english'),\n",
       "                                                  'company'),\n",
       "                                                 ('location',\n",
       "                                                  CountVectorizer(max_df=0.9,\n",
       "                                                                  stop_words='english'),\n",
       "                                                  'location'),\n",
       "                                                 ('country',\n",
       "                                                  OneHotEncoder(handle_unknown='ignore'),\n",
       "                                                  ['country'])])),\n",
       "                ('logisticregression', LogisticRegression())])"
      ]
     },
     "execution_count": 645,
     "metadata": {},
     "output_type": "execute_result"
    }
   ],
   "source": [
    "pipe_log.fit(X_train, y_train)"
   ]
  },
  {
   "cell_type": "code",
   "execution_count": 646,
   "metadata": {},
   "outputs": [
    {
     "data": {
      "text/plain": [
       "0.9620853080568721"
      ]
     },
     "execution_count": 646,
     "metadata": {},
     "output_type": "execute_result"
    }
   ],
   "source": [
    "pipe_log.score(X_train, y_train)"
   ]
  },
  {
   "cell_type": "code",
   "execution_count": 647,
   "metadata": {},
   "outputs": [
    {
     "data": {
      "text/plain": [
       "0.8018867924528302"
      ]
     },
     "execution_count": 647,
     "metadata": {},
     "output_type": "execute_result"
    }
   ],
   "source": [
    "pipe_log.score(X_test, y_test)"
   ]
  },
  {
   "cell_type": "code",
   "execution_count": 648,
   "metadata": {},
   "outputs": [],
   "source": [
    "# ohe company\n",
    "# train\n",
    "# 0.9581749049429658\n",
    "# test\n",
    "# 0.7424242424242424\n",
    "\n",
    "# WITHOUT COUNTRY\n",
    "\n",
    "# cvec company\n",
    "# train\n",
    "# 0.9695817490494296\n",
    "\n",
    "# test\n",
    "# 0.7575757575757576"
   ]
  },
  {
   "cell_type": "markdown",
   "metadata": {},
   "source": [
    "The addition of the new features adds a large amount of value to the models, with accuracy scores of both training and test predictions increasing immediately by a large margin given that the nature of roles, levels of seniority and the companies offering the roles now being taken into account. Prior to the new features, the model was attempting to find trends between roles that were distinctly different."
   ]
  },
  {
   "cell_type": "markdown",
   "metadata": {},
   "source": [
    "### Now onto the Ensemble Methods"
   ]
  },
  {
   "cell_type": "code",
   "execution_count": 649,
   "metadata": {},
   "outputs": [],
   "source": [
    "from sklearn.ensemble import RandomForestClassifier, GradientBoostingClassifier\n",
    "from sklearn.model_selection import GridSearchCV"
   ]
  },
  {
   "cell_type": "markdown",
   "metadata": {},
   "source": [
    "#### Gradient Boost"
   ]
  },
  {
   "cell_type": "code",
   "execution_count": 665,
   "metadata": {},
   "outputs": [],
   "source": [
    "log_gb = LogisticRegression()\n",
    "dtc_gb = DecisionTreeClassifier()"
   ]
  },
  {
   "cell_type": "markdown",
   "metadata": {},
   "source": [
    "#### using init = None"
   ]
  },
  {
   "cell_type": "code",
   "execution_count": 750,
   "metadata": {},
   "outputs": [
    {
     "data": {
      "text/plain": [
       "{'ccp_alpha': 0.0,\n",
       " 'criterion': 'friedman_mse',\n",
       " 'init': None,\n",
       " 'learning_rate': 0.1,\n",
       " 'loss': 'deviance',\n",
       " 'max_depth': 30,\n",
       " 'max_features': None,\n",
       " 'max_leaf_nodes': None,\n",
       " 'min_impurity_decrease': 0.0,\n",
       " 'min_impurity_split': None,\n",
       " 'min_samples_leaf': 1,\n",
       " 'min_samples_split': 2,\n",
       " 'min_weight_fraction_leaf': 0.0,\n",
       " 'n_estimators': 500,\n",
       " 'n_iter_no_change': None,\n",
       " 'presort': 'deprecated',\n",
       " 'random_state': 0,\n",
       " 'subsample': 1.0,\n",
       " 'tol': 0.0001,\n",
       " 'validation_fraction': 0.1,\n",
       " 'verbose': 0,\n",
       " 'warm_start': False}"
      ]
     },
     "execution_count": 750,
     "metadata": {},
     "output_type": "execute_result"
    }
   ],
   "source": [
    "gbc.get_params()"
   ]
  },
  {
   "cell_type": "code",
   "execution_count": 762,
   "metadata": {},
   "outputs": [],
   "source": [
    "gbc = GradientBoostingClassifier(random_state=0)"
   ]
  },
  {
   "cell_type": "code",
   "execution_count": 763,
   "metadata": {},
   "outputs": [],
   "source": [
    "gbc_pipe = make_pipeline(col_trans, gbc).fit(X_train, y_train)"
   ]
  },
  {
   "cell_type": "code",
   "execution_count": 764,
   "metadata": {},
   "outputs": [
    {
     "data": {
      "text/plain": [
       "0.9265402843601895"
      ]
     },
     "execution_count": 764,
     "metadata": {},
     "output_type": "execute_result"
    }
   ],
   "source": [
    "gbc_pipe.score(X_train, y_train)"
   ]
  },
  {
   "cell_type": "code",
   "execution_count": 765,
   "metadata": {},
   "outputs": [
    {
     "data": {
      "text/plain": [
       "0.7547169811320755"
      ]
     },
     "execution_count": 765,
     "metadata": {},
     "output_type": "execute_result"
    }
   ],
   "source": [
    "gbc_pipe.score(X_test, y_test)"
   ]
  },
  {
   "cell_type": "markdown",
   "metadata": {},
   "source": [
    "#### using init = LogisticRegression()"
   ]
  },
  {
   "cell_type": "code",
   "execution_count": 766,
   "metadata": {},
   "outputs": [],
   "source": [
    "gbc_log = GradientBoostingClassifier(init=log_gb, random_state=0)"
   ]
  },
  {
   "cell_type": "code",
   "execution_count": 767,
   "metadata": {},
   "outputs": [
    {
     "name": "stderr",
     "output_type": "stream",
     "text": [
      "/Users/will/opt/anaconda3/lib/python3.8/site-packages/sklearn/linear_model/_sag.py:329: ConvergenceWarning: The max_iter was reached which means the coef_ did not converge\n",
      "  warnings.warn(\"The max_iter was reached which means \"\n"
     ]
    }
   ],
   "source": [
    "gbc_pipe_log = make_pipeline(col_trans, gbc_log).fit(X_train, y_train)"
   ]
  },
  {
   "cell_type": "code",
   "execution_count": 768,
   "metadata": {},
   "outputs": [
    {
     "data": {
      "text/plain": [
       "0.9786729857819905"
      ]
     },
     "execution_count": 768,
     "metadata": {},
     "output_type": "execute_result"
    }
   ],
   "source": [
    "gbc_pipe_log.score(X_train, y_train)"
   ]
  },
  {
   "cell_type": "code",
   "execution_count": 769,
   "metadata": {},
   "outputs": [
    {
     "data": {
      "text/plain": [
       "0.7830188679245284"
      ]
     },
     "execution_count": 769,
     "metadata": {},
     "output_type": "execute_result"
    }
   ],
   "source": [
    "gbc_pipe_log.score(X_test, y_test)"
   ]
  },
  {
   "cell_type": "markdown",
   "metadata": {},
   "source": [
    "#### using init = DecisionTreeClassifier()"
   ]
  },
  {
   "cell_type": "code",
   "execution_count": 770,
   "metadata": {},
   "outputs": [],
   "source": [
    "gbc_dtc = GradientBoostingClassifier(init=dtc_gb, random_state=0)"
   ]
  },
  {
   "cell_type": "code",
   "execution_count": 771,
   "metadata": {},
   "outputs": [],
   "source": [
    "gbc_pipe_dtc = make_pipeline(col_trans, gbc_dtc).fit(X_train, y_train)"
   ]
  },
  {
   "cell_type": "code",
   "execution_count": 772,
   "metadata": {},
   "outputs": [
    {
     "data": {
      "text/plain": [
       "0.9976303317535545"
      ]
     },
     "execution_count": 772,
     "metadata": {},
     "output_type": "execute_result"
    }
   ],
   "source": [
    "gbc_pipe_dtc.score(X_train, y_train)"
   ]
  },
  {
   "cell_type": "code",
   "execution_count": 773,
   "metadata": {},
   "outputs": [
    {
     "data": {
      "text/plain": [
       "0.8018867924528302"
      ]
     },
     "execution_count": 773,
     "metadata": {},
     "output_type": "execute_result"
    }
   ],
   "source": [
    "gbc_pipe_dtc.score(X_test, y_test)"
   ]
  },
  {
   "cell_type": "markdown",
   "metadata": {},
   "source": [
    "##### Grid Search on Gradient Boost"
   ]
  },
  {
   "cell_type": "code",
   "execution_count": 782,
   "metadata": {},
   "outputs": [
    {
     "data": {
      "text/plain": [
       "{'memory': None,\n",
       " 'steps': [('columntransformer',\n",
       "   ColumnTransformer(remainder='passthrough',\n",
       "                     transformers=[('title', CountVectorizer(stop_words='english'),\n",
       "                                    'title'),\n",
       "                                   ('company',\n",
       "                                    CountVectorizer(stop_words='english'),\n",
       "                                    'company'),\n",
       "                                   ('location',\n",
       "                                    CountVectorizer(max_df=0.9,\n",
       "                                                    stop_words='english'),\n",
       "                                    'location'),\n",
       "                                   ('country',\n",
       "                                    OneHotEncoder(handle_unknown='ignore'),\n",
       "                                    ['country'])])),\n",
       "  ('gradientboostingclassifier',\n",
       "   GradientBoostingClassifier(init=DecisionTreeClassifier(), random_state=0))],\n",
       " 'verbose': False,\n",
       " 'columntransformer': ColumnTransformer(remainder='passthrough',\n",
       "                   transformers=[('title', CountVectorizer(stop_words='english'),\n",
       "                                  'title'),\n",
       "                                 ('company',\n",
       "                                  CountVectorizer(stop_words='english'),\n",
       "                                  'company'),\n",
       "                                 ('location',\n",
       "                                  CountVectorizer(max_df=0.9,\n",
       "                                                  stop_words='english'),\n",
       "                                  'location'),\n",
       "                                 ('country',\n",
       "                                  OneHotEncoder(handle_unknown='ignore'),\n",
       "                                  ['country'])]),\n",
       " 'gradientboostingclassifier': GradientBoostingClassifier(init=DecisionTreeClassifier(), random_state=0),\n",
       " 'columntransformer__n_jobs': None,\n",
       " 'columntransformer__remainder': 'passthrough',\n",
       " 'columntransformer__sparse_threshold': 0.3,\n",
       " 'columntransformer__transformer_weights': None,\n",
       " 'columntransformer__transformers': [('title',\n",
       "   CountVectorizer(stop_words='english'),\n",
       "   'title'),\n",
       "  ('company', CountVectorizer(stop_words='english'), 'company'),\n",
       "  ('location', CountVectorizer(max_df=0.9, stop_words='english'), 'location'),\n",
       "  ('country', OneHotEncoder(handle_unknown='ignore'), ['country'])],\n",
       " 'columntransformer__verbose': False,\n",
       " 'columntransformer__title': CountVectorizer(stop_words='english'),\n",
       " 'columntransformer__company': CountVectorizer(stop_words='english'),\n",
       " 'columntransformer__location': CountVectorizer(max_df=0.9, stop_words='english'),\n",
       " 'columntransformer__country': OneHotEncoder(handle_unknown='ignore'),\n",
       " 'columntransformer__title__analyzer': 'word',\n",
       " 'columntransformer__title__binary': False,\n",
       " 'columntransformer__title__decode_error': 'strict',\n",
       " 'columntransformer__title__dtype': numpy.int64,\n",
       " 'columntransformer__title__encoding': 'utf-8',\n",
       " 'columntransformer__title__input': 'content',\n",
       " 'columntransformer__title__lowercase': True,\n",
       " 'columntransformer__title__max_df': 1.0,\n",
       " 'columntransformer__title__max_features': None,\n",
       " 'columntransformer__title__min_df': 1,\n",
       " 'columntransformer__title__ngram_range': (1, 1),\n",
       " 'columntransformer__title__preprocessor': None,\n",
       " 'columntransformer__title__stop_words': 'english',\n",
       " 'columntransformer__title__strip_accents': None,\n",
       " 'columntransformer__title__token_pattern': '(?u)\\\\b\\\\w\\\\w+\\\\b',\n",
       " 'columntransformer__title__tokenizer': None,\n",
       " 'columntransformer__title__vocabulary': None,\n",
       " 'columntransformer__company__analyzer': 'word',\n",
       " 'columntransformer__company__binary': False,\n",
       " 'columntransformer__company__decode_error': 'strict',\n",
       " 'columntransformer__company__dtype': numpy.int64,\n",
       " 'columntransformer__company__encoding': 'utf-8',\n",
       " 'columntransformer__company__input': 'content',\n",
       " 'columntransformer__company__lowercase': True,\n",
       " 'columntransformer__company__max_df': 1.0,\n",
       " 'columntransformer__company__max_features': None,\n",
       " 'columntransformer__company__min_df': 1,\n",
       " 'columntransformer__company__ngram_range': (1, 1),\n",
       " 'columntransformer__company__preprocessor': None,\n",
       " 'columntransformer__company__stop_words': 'english',\n",
       " 'columntransformer__company__strip_accents': None,\n",
       " 'columntransformer__company__token_pattern': '(?u)\\\\b\\\\w\\\\w+\\\\b',\n",
       " 'columntransformer__company__tokenizer': None,\n",
       " 'columntransformer__company__vocabulary': None,\n",
       " 'columntransformer__location__analyzer': 'word',\n",
       " 'columntransformer__location__binary': False,\n",
       " 'columntransformer__location__decode_error': 'strict',\n",
       " 'columntransformer__location__dtype': numpy.int64,\n",
       " 'columntransformer__location__encoding': 'utf-8',\n",
       " 'columntransformer__location__input': 'content',\n",
       " 'columntransformer__location__lowercase': True,\n",
       " 'columntransformer__location__max_df': 0.9,\n",
       " 'columntransformer__location__max_features': None,\n",
       " 'columntransformer__location__min_df': 1,\n",
       " 'columntransformer__location__ngram_range': (1, 1),\n",
       " 'columntransformer__location__preprocessor': None,\n",
       " 'columntransformer__location__stop_words': 'english',\n",
       " 'columntransformer__location__strip_accents': None,\n",
       " 'columntransformer__location__token_pattern': '(?u)\\\\b\\\\w\\\\w+\\\\b',\n",
       " 'columntransformer__location__tokenizer': None,\n",
       " 'columntransformer__location__vocabulary': None,\n",
       " 'columntransformer__country__categories': 'auto',\n",
       " 'columntransformer__country__drop': None,\n",
       " 'columntransformer__country__dtype': numpy.float64,\n",
       " 'columntransformer__country__handle_unknown': 'ignore',\n",
       " 'columntransformer__country__sparse': True,\n",
       " 'gradientboostingclassifier__ccp_alpha': 0.0,\n",
       " 'gradientboostingclassifier__criterion': 'friedman_mse',\n",
       " 'gradientboostingclassifier__init__ccp_alpha': 0.0,\n",
       " 'gradientboostingclassifier__init__class_weight': None,\n",
       " 'gradientboostingclassifier__init__criterion': 'gini',\n",
       " 'gradientboostingclassifier__init__max_depth': None,\n",
       " 'gradientboostingclassifier__init__max_features': None,\n",
       " 'gradientboostingclassifier__init__max_leaf_nodes': None,\n",
       " 'gradientboostingclassifier__init__min_impurity_decrease': 0.0,\n",
       " 'gradientboostingclassifier__init__min_impurity_split': None,\n",
       " 'gradientboostingclassifier__init__min_samples_leaf': 1,\n",
       " 'gradientboostingclassifier__init__min_samples_split': 2,\n",
       " 'gradientboostingclassifier__init__min_weight_fraction_leaf': 0.0,\n",
       " 'gradientboostingclassifier__init__presort': 'deprecated',\n",
       " 'gradientboostingclassifier__init__random_state': None,\n",
       " 'gradientboostingclassifier__init__splitter': 'best',\n",
       " 'gradientboostingclassifier__init': DecisionTreeClassifier(),\n",
       " 'gradientboostingclassifier__learning_rate': 0.1,\n",
       " 'gradientboostingclassifier__loss': 'deviance',\n",
       " 'gradientboostingclassifier__max_depth': 3,\n",
       " 'gradientboostingclassifier__max_features': None,\n",
       " 'gradientboostingclassifier__max_leaf_nodes': None,\n",
       " 'gradientboostingclassifier__min_impurity_decrease': 0.0,\n",
       " 'gradientboostingclassifier__min_impurity_split': None,\n",
       " 'gradientboostingclassifier__min_samples_leaf': 1,\n",
       " 'gradientboostingclassifier__min_samples_split': 2,\n",
       " 'gradientboostingclassifier__min_weight_fraction_leaf': 0.0,\n",
       " 'gradientboostingclassifier__n_estimators': 100,\n",
       " 'gradientboostingclassifier__n_iter_no_change': None,\n",
       " 'gradientboostingclassifier__presort': 'deprecated',\n",
       " 'gradientboostingclassifier__random_state': 0,\n",
       " 'gradientboostingclassifier__subsample': 1.0,\n",
       " 'gradientboostingclassifier__tol': 0.0001,\n",
       " 'gradientboostingclassifier__validation_fraction': 0.1,\n",
       " 'gradientboostingclassifier__verbose': 0,\n",
       " 'gradientboostingclassifier__warm_start': False}"
      ]
     },
     "execution_count": 782,
     "metadata": {},
     "output_type": "execute_result"
    }
   ],
   "source": [
    "gbc_pipe_dtc.get_params()"
   ]
  },
  {
   "cell_type": "code",
   "execution_count": 783,
   "metadata": {},
   "outputs": [
    {
     "data": {
      "text/plain": [
       "{'ccp_alpha': 0.0,\n",
       " 'criterion': 'friedman_mse',\n",
       " 'init__ccp_alpha': 0.0,\n",
       " 'init__class_weight': None,\n",
       " 'init__criterion': 'gini',\n",
       " 'init__max_depth': None,\n",
       " 'init__max_features': None,\n",
       " 'init__max_leaf_nodes': None,\n",
       " 'init__min_impurity_decrease': 0.0,\n",
       " 'init__min_impurity_split': None,\n",
       " 'init__min_samples_leaf': 1,\n",
       " 'init__min_samples_split': 2,\n",
       " 'init__min_weight_fraction_leaf': 0.0,\n",
       " 'init__presort': 'deprecated',\n",
       " 'init__random_state': None,\n",
       " 'init__splitter': 'best',\n",
       " 'init': DecisionTreeClassifier(),\n",
       " 'learning_rate': 0.1,\n",
       " 'loss': 'deviance',\n",
       " 'max_depth': 3,\n",
       " 'max_features': None,\n",
       " 'max_leaf_nodes': None,\n",
       " 'min_impurity_decrease': 0.0,\n",
       " 'min_impurity_split': None,\n",
       " 'min_samples_leaf': 1,\n",
       " 'min_samples_split': 2,\n",
       " 'min_weight_fraction_leaf': 0.0,\n",
       " 'n_estimators': 100,\n",
       " 'n_iter_no_change': None,\n",
       " 'presort': 'deprecated',\n",
       " 'random_state': 0,\n",
       " 'subsample': 1.0,\n",
       " 'tol': 0.0001,\n",
       " 'validation_fraction': 0.1,\n",
       " 'verbose': 0,\n",
       " 'warm_start': False}"
      ]
     },
     "execution_count": 783,
     "metadata": {},
     "output_type": "execute_result"
    }
   ],
   "source": [
    "gbc_pipe_dtc['gradientboostingclassifier'].get_params()"
   ]
  },
  {
   "cell_type": "code",
   "execution_count": 1405,
   "metadata": {},
   "outputs": [],
   "source": [
    "params = {'gradientboostingclassifier__ccp_alpha': [0.0],\n",
    "          'gradientboostingclassifier__init': [dtc],\n",
    "          'gradientboostingclassifier__criterion': ['friedman_mse', 'mse'],\n",
    "          'gradientboostingclassifier__learning_rate': [0.05, 0.1],\n",
    "          'gradientboostingclassifier__max_depth': [None, 3, 5, 10, 20, 30],\n",
    "          'gradientboostingclassifier__min_samples_split': [2, 3],\n",
    "          'gradientboostingclassifier__n_estimators': [200, 500, 2000],\n",
    "          'gradientboostingclassifier__random_state': [0],          \n",
    "#           'gradientboostingclassifier__init__C': [0.1, 0.5],\n",
    "#           'gradientboostingclassifier__init__max_iter': [100],\n",
    "#           'gradientboostingclassifier__init__penalty': [None, 'l1', 'l2', 'elasticnet'],\n",
    "#           'gradientboostingclassifier__init__l1_ratio': [0.01, 1, 3, 7, 9, 0.9],\n",
    "#           'gradientboostingclassifier__init__random_state': [0],\n",
    "#           'gradientboostingclassifier__init__solver': ['lbfgs', 'saga']\n",
    "         }"
   ]
  },
  {
   "cell_type": "code",
   "execution_count": 1406,
   "metadata": {},
   "outputs": [],
   "source": [
    "gs_gbc = GridSearchCV(gbc_pipe, params, cv=5, n_jobs=-2, verbose=1)"
   ]
  },
  {
   "cell_type": "code",
   "execution_count": 1407,
   "metadata": {},
   "outputs": [
    {
     "name": "stdout",
     "output_type": "stream",
     "text": [
      "Fitting 5 folds for each of 144 candidates, totalling 720 fits\n"
     ]
    },
    {
     "name": "stderr",
     "output_type": "stream",
     "text": [
      "[Parallel(n_jobs=-2)]: Using backend LokyBackend with 3 concurrent workers.\n",
      "[Parallel(n_jobs=-2)]: Done  44 tasks      | elapsed:   44.4s\n",
      "[Parallel(n_jobs=-2)]: Done 194 tasks      | elapsed:  2.5min\n",
      "[Parallel(n_jobs=-2)]: Done 444 tasks      | elapsed:  5.6min\n",
      "[Parallel(n_jobs=-2)]: Done 720 out of 720 | elapsed:  9.3min finished\n"
     ]
    },
    {
     "data": {
      "text/plain": [
       "GridSearchCV(cv=5,\n",
       "             estimator=Pipeline(steps=[('columntransformer',\n",
       "                                        ColumnTransformer(remainder='passthrough',\n",
       "                                                          transformers=[('title',\n",
       "                                                                         CountVectorizer(stop_words='english'),\n",
       "                                                                         'title'),\n",
       "                                                                        ('company',\n",
       "                                                                         CountVectorizer(stop_words='english'),\n",
       "                                                                         'company'),\n",
       "                                                                        ('location',\n",
       "                                                                         CountVectorizer(max_df=0.9,\n",
       "                                                                                         stop_words='english'),\n",
       "                                                                         'location'),\n",
       "                                                                        ('country',\n",
       "                                                                         OneHotEncoder(handle_unknown=...\n",
       "                                                                   'mse'],\n",
       "                         'gradientboostingclassifier__init': [DecisionTreeClassifier()],\n",
       "                         'gradientboostingclassifier__learning_rate': [0.05,\n",
       "                                                                       0.1],\n",
       "                         'gradientboostingclassifier__max_depth': [None, 3, 5,\n",
       "                                                                   10, 20, 30],\n",
       "                         'gradientboostingclassifier__min_samples_split': [2,\n",
       "                                                                           3],\n",
       "                         'gradientboostingclassifier__n_estimators': [200, 500,\n",
       "                                                                      2000],\n",
       "                         'gradientboostingclassifier__random_state': [0]},\n",
       "             verbose=1)"
      ]
     },
     "execution_count": 1407,
     "metadata": {},
     "output_type": "execute_result"
    }
   ],
   "source": [
    "gs_gbc.fit(X_train, y_train)"
   ]
  },
  {
   "cell_type": "code",
   "execution_count": 1408,
   "metadata": {},
   "outputs": [
    {
     "data": {
      "text/plain": [
       "{'gradientboostingclassifier__ccp_alpha': 0.0,\n",
       " 'gradientboostingclassifier__criterion': 'mse',\n",
       " 'gradientboostingclassifier__init': DecisionTreeClassifier(),\n",
       " 'gradientboostingclassifier__learning_rate': 0.05,\n",
       " 'gradientboostingclassifier__max_depth': None,\n",
       " 'gradientboostingclassifier__min_samples_split': 2,\n",
       " 'gradientboostingclassifier__n_estimators': 200,\n",
       " 'gradientboostingclassifier__random_state': 0}"
      ]
     },
     "execution_count": 1408,
     "metadata": {},
     "output_type": "execute_result"
    }
   ],
   "source": [
    "gs_gbc.best_params_"
   ]
  },
  {
   "cell_type": "code",
   "execution_count": 1409,
   "metadata": {},
   "outputs": [
    {
     "data": {
      "text/plain": [
       "0.8792717086834735"
      ]
     },
     "execution_count": 1409,
     "metadata": {},
     "output_type": "execute_result"
    }
   ],
   "source": [
    "gs_gbc.best_score_"
   ]
  },
  {
   "cell_type": "code",
   "execution_count": 1410,
   "metadata": {},
   "outputs": [],
   "source": [
    "gbc_best = gs_gbc.best_estimator_"
   ]
  },
  {
   "cell_type": "code",
   "execution_count": 1411,
   "metadata": {},
   "outputs": [
    {
     "data": {
      "text/plain": [
       "0.9976303317535545"
      ]
     },
     "execution_count": 1411,
     "metadata": {},
     "output_type": "execute_result"
    }
   ],
   "source": [
    "gbc_best.score(X_train, y_train)"
   ]
  },
  {
   "cell_type": "code",
   "execution_count": 1412,
   "metadata": {},
   "outputs": [
    {
     "data": {
      "text/plain": [
       "0.8207547169811321"
      ]
     },
     "execution_count": 1412,
     "metadata": {},
     "output_type": "execute_result"
    }
   ],
   "source": [
    "gbc_best.score(X_test, y_test)"
   ]
  },
  {
   "cell_type": "markdown",
   "metadata": {},
   "source": [
    "#### Random Forest"
   ]
  },
  {
   "cell_type": "code",
   "execution_count": 1387,
   "metadata": {},
   "outputs": [],
   "source": [
    "rfc = RandomForestClassifier(n_jobs=-2)"
   ]
  },
  {
   "cell_type": "code",
   "execution_count": 1388,
   "metadata": {},
   "outputs": [],
   "source": [
    "rfc_pipe = make_pipeline(col_trans, rfc).fit(X_train, y_train)"
   ]
  },
  {
   "cell_type": "code",
   "execution_count": 1389,
   "metadata": {},
   "outputs": [
    {
     "data": {
      "text/plain": [
       "0.9976303317535545"
      ]
     },
     "execution_count": 1389,
     "metadata": {},
     "output_type": "execute_result"
    }
   ],
   "source": [
    "rfc_pipe.score(X_train, y_train)"
   ]
  },
  {
   "cell_type": "code",
   "execution_count": 1390,
   "metadata": {},
   "outputs": [
    {
     "data": {
      "text/plain": [
       "0.8113207547169812"
      ]
     },
     "execution_count": 1390,
     "metadata": {},
     "output_type": "execute_result"
    }
   ],
   "source": [
    "rfc_pipe.score(X_test, y_test)"
   ]
  },
  {
   "cell_type": "markdown",
   "metadata": {},
   "source": [
    "##### Grid Search on Random Forest"
   ]
  },
  {
   "cell_type": "code",
   "execution_count": 1391,
   "metadata": {},
   "outputs": [],
   "source": [
    "# rfc_pipe.get_params()"
   ]
  },
  {
   "cell_type": "code",
   "execution_count": 1395,
   "metadata": {},
   "outputs": [],
   "source": [
    "params = {'randomforestclassifier__ccp_alpha': [0.0, 0.1],\n",
    "          'randomforestclassifier__max_depth': [None, 3, 5, 7],\n",
    "          'randomforestclassifier__min_samples_leaf': [1, 2],\n",
    "          'randomforestclassifier__min_samples_split': [2, 3],\n",
    "          'randomforestclassifier__n_estimators': [200, 500, 1000, 1500],\n",
    "          'randomforestclassifier__oob_score': [True]}"
   ]
  },
  {
   "cell_type": "code",
   "execution_count": 1396,
   "metadata": {},
   "outputs": [],
   "source": [
    "gs_rfc = GridSearchCV(rfc_pipe, params, cv=5, n_jobs=-2, verbose=1)"
   ]
  },
  {
   "cell_type": "code",
   "execution_count": 1397,
   "metadata": {},
   "outputs": [
    {
     "name": "stdout",
     "output_type": "stream",
     "text": [
      "Fitting 5 folds for each of 128 candidates, totalling 640 fits\n"
     ]
    },
    {
     "name": "stderr",
     "output_type": "stream",
     "text": [
      "[Parallel(n_jobs=-2)]: Using backend LokyBackend with 3 concurrent workers.\n",
      "[Parallel(n_jobs=-2)]: Done  44 tasks      | elapsed:   45.0s\n",
      "[Parallel(n_jobs=-2)]: Done 194 tasks      | elapsed:  1.9min\n",
      "[Parallel(n_jobs=-2)]: Done 444 tasks      | elapsed:  3.9min\n",
      "[Parallel(n_jobs=-2)]: Done 640 out of 640 | elapsed:  5.5min finished\n"
     ]
    },
    {
     "data": {
      "text/plain": [
       "GridSearchCV(cv=5,\n",
       "             estimator=Pipeline(steps=[('columntransformer',\n",
       "                                        ColumnTransformer(remainder='passthrough',\n",
       "                                                          transformers=[('title',\n",
       "                                                                         CountVectorizer(stop_words='english'),\n",
       "                                                                         'title'),\n",
       "                                                                        ('company',\n",
       "                                                                         CountVectorizer(stop_words='english'),\n",
       "                                                                         'company'),\n",
       "                                                                        ('location',\n",
       "                                                                         CountVectorizer(max_df=0.9,\n",
       "                                                                                         stop_words='english'),\n",
       "                                                                         'location'),\n",
       "                                                                        ('country',\n",
       "                                                                         OneHotEncoder(handle_unknown=...\n",
       "                                        RandomForestClassifier(n_jobs=-2))]),\n",
       "             n_jobs=-2,\n",
       "             param_grid={'randomforestclassifier__ccp_alpha': [0.0, 0.1],\n",
       "                         'randomforestclassifier__max_depth': [None, 3, 5, 7],\n",
       "                         'randomforestclassifier__min_samples_leaf': [1, 2],\n",
       "                         'randomforestclassifier__min_samples_split': [2, 3],\n",
       "                         'randomforestclassifier__n_estimators': [200, 500,\n",
       "                                                                  1000, 1500],\n",
       "                         'randomforestclassifier__oob_score': [True]},\n",
       "             verbose=1)"
      ]
     },
     "execution_count": 1397,
     "metadata": {},
     "output_type": "execute_result"
    }
   ],
   "source": [
    "gs_rfc.fit(X_train, y_train)"
   ]
  },
  {
   "cell_type": "code",
   "execution_count": 1398,
   "metadata": {},
   "outputs": [
    {
     "data": {
      "text/plain": [
       "{'randomforestclassifier__ccp_alpha': 0.0,\n",
       " 'randomforestclassifier__max_depth': None,\n",
       " 'randomforestclassifier__min_samples_leaf': 1,\n",
       " 'randomforestclassifier__min_samples_split': 2,\n",
       " 'randomforestclassifier__n_estimators': 200,\n",
       " 'randomforestclassifier__oob_score': True}"
      ]
     },
     "execution_count": 1398,
     "metadata": {},
     "output_type": "execute_result"
    }
   ],
   "source": [
    "gs_rfc.best_params_"
   ]
  },
  {
   "cell_type": "code",
   "execution_count": 1399,
   "metadata": {},
   "outputs": [
    {
     "data": {
      "text/plain": [
       "0.8414285714285714"
      ]
     },
     "execution_count": 1399,
     "metadata": {},
     "output_type": "execute_result"
    }
   ],
   "source": [
    "gs_rfc.best_score_"
   ]
  },
  {
   "cell_type": "code",
   "execution_count": 1400,
   "metadata": {},
   "outputs": [],
   "source": [
    "rfc_best = gs_rfc.best_estimator_"
   ]
  },
  {
   "cell_type": "code",
   "execution_count": 1401,
   "metadata": {},
   "outputs": [
    {
     "data": {
      "text/plain": [
       "0.9976303317535545"
      ]
     },
     "execution_count": 1401,
     "metadata": {},
     "output_type": "execute_result"
    }
   ],
   "source": [
    "rfc_best.score(X_train, y_train)"
   ]
  },
  {
   "cell_type": "code",
   "execution_count": 1402,
   "metadata": {},
   "outputs": [
    {
     "data": {
      "text/plain": [
       "0.8301886792452831"
      ]
     },
     "execution_count": 1402,
     "metadata": {},
     "output_type": "execute_result"
    }
   ],
   "source": [
    "rfc_best.score(X_test, y_test)"
   ]
  },
  {
   "cell_type": "markdown",
   "metadata": {
    "focus": false,
    "id": "4fb29de2-5b98-474c-a4ad-5170b72b9aea"
   },
   "source": [
    "### Model evaluation\n",
    "\n",
    "A hiring manager would rather tell a client incorrectly that they would get a lower salary job than tell a client incorrectly that they would get a high salary job. With this in mind, adjustments will be made to one of the models, highlighted, explained and discussed for any tradeoffs.\n",
    "\n",
    "- Cross-validation will be used to evaluate the models.\n",
    "- Accuracy, AUC, precision and recall of the models will be evaluated.\n",
    "- ROC and precision-recall curves will be plotted for the prevailing model."
   ]
  },
  {
   "cell_type": "code",
   "execution_count": 1414,
   "metadata": {},
   "outputs": [],
   "source": [
    "from sklearn.model_selection import cross_val_score\n",
    "from sklearn.metrics import confusion_matrix, classification_report, accuracy_score, recall_score, precision_score, f1_score"
   ]
  },
  {
   "cell_type": "code",
   "execution_count": 1415,
   "metadata": {},
   "outputs": [
    {
     "data": {
      "text/plain": [
       "{'mean_fit_time': array([0.5 , 1.03, 2.15, 3.1 , 0.39, 0.95, 1.93, 3.1 , 0.37, 0.85, 1.7 ,\n",
       "        2.49, 0.35, 0.83, 1.72, 2.51, 0.34, 0.79, 1.57, 2.34, 0.34, 0.79,\n",
       "        1.54, 2.4 , 0.35, 0.91, 1.57, 2.42, 0.33, 0.77, 1.62, 2.31, 0.31,\n",
       "        0.78, 1.59, 2.37, 0.35, 0.76, 1.59, 2.67, 0.43, 0.79, 1.56, 2.39,\n",
       "        0.35, 0.85, 1.65, 2.38, 0.34, 0.82, 1.59, 2.3 , 0.32, 0.83, 1.6 ,\n",
       "        2.43, 0.34, 0.77, 1.56, 2.35, 0.32, 0.82, 1.55, 2.39, 0.39, 0.97,\n",
       "        2.  , 3.15, 0.41, 0.98, 2.02, 3.01, 0.38, 0.91, 1.74, 2.5 , 0.36,\n",
       "        0.91, 1.78, 2.5 , 0.34, 0.82, 1.59, 2.53, 0.36, 0.8 , 1.61, 2.42,\n",
       "        0.33, 0.82, 1.72, 2.41, 0.34, 0.79, 1.62, 2.41, 0.34, 0.82, 1.65,\n",
       "        2.44, 0.35, 0.82, 1.62, 2.54, 0.34, 0.81, 1.68, 2.42, 0.34, 0.81,\n",
       "        1.61, 2.45, 0.34, 0.84, 1.63, 2.55, 0.37, 0.85, 1.64, 2.52, 0.34,\n",
       "        0.82, 1.66, 2.51, 0.33, 0.82, 1.64, 2.43]),\n",
       " 'std_fit_time': array([0.06, 0.05, 0.05, 0.12, 0.03, 0.04, 0.02, 0.08, 0.02, 0.01, 0.04,\n",
       "        0.07, 0.02, 0.03, 0.02, 0.07, 0.01, 0.05, 0.01, 0.02, 0.02, 0.01,\n",
       "        0.02, 0.14, 0.03, 0.04, 0.01, 0.14, 0.02, 0.01, 0.05, 0.03, 0.  ,\n",
       "        0.02, 0.01, 0.05, 0.01, 0.01, 0.01, 0.21, 0.04, 0.  , 0.01, 0.09,\n",
       "        0.02, 0.03, 0.03, 0.09, 0.02, 0.05, 0.02, 0.03, 0.02, 0.06, 0.01,\n",
       "        0.03, 0.02, 0.  , 0.01, 0.03, 0.01, 0.01, 0.01, 0.08, 0.02, 0.01,\n",
       "        0.02, 0.06, 0.03, 0.01, 0.08, 0.15, 0.02, 0.02, 0.01, 0.05, 0.03,\n",
       "        0.08, 0.02, 0.04, 0.02, 0.02, 0.02, 0.09, 0.02, 0.  , 0.02, 0.05,\n",
       "        0.  , 0.02, 0.06, 0.04, 0.01, 0.02, 0.03, 0.05, 0.02, 0.02, 0.02,\n",
       "        0.03, 0.02, 0.02, 0.01, 0.13, 0.02, 0.02, 0.03, 0.04, 0.02, 0.02,\n",
       "        0.02, 0.05, 0.01, 0.03, 0.01, 0.05, 0.03, 0.03, 0.03, 0.03, 0.01,\n",
       "        0.01, 0.02, 0.09, 0.01, 0.02, 0.02, 0.06]),\n",
       " 'mean_score_time': array([0.03, 0.08, 0.16, 0.22, 0.03, 0.07, 0.13, 0.21, 0.03, 0.06, 0.12,\n",
       "        0.18, 0.03, 0.06, 0.11, 0.18, 0.03, 0.06, 0.12, 0.18, 0.03, 0.06,\n",
       "        0.11, 0.18, 0.03, 0.07, 0.13, 0.18, 0.03, 0.06, 0.12, 0.18, 0.03,\n",
       "        0.06, 0.12, 0.18, 0.03, 0.06, 0.12, 0.19, 0.04, 0.07, 0.12, 0.18,\n",
       "        0.03, 0.06, 0.13, 0.18, 0.03, 0.07, 0.13, 0.19, 0.03, 0.06, 0.12,\n",
       "        0.18, 0.03, 0.06, 0.12, 0.19, 0.03, 0.06, 0.12, 0.18, 0.03, 0.06,\n",
       "        0.12, 0.19, 0.03, 0.06, 0.13, 0.18, 0.03, 0.06, 0.12, 0.17, 0.03,\n",
       "        0.06, 0.11, 0.17, 0.03, 0.06, 0.11, 0.18, 0.03, 0.05, 0.11, 0.17,\n",
       "        0.03, 0.06, 0.11, 0.18, 0.03, 0.06, 0.12, 0.17, 0.03, 0.06, 0.12,\n",
       "        0.18, 0.03, 0.06, 0.11, 0.17, 0.03, 0.06, 0.12, 0.17, 0.03, 0.06,\n",
       "        0.12, 0.17, 0.03, 0.06, 0.11, 0.18, 0.03, 0.06, 0.12, 0.18, 0.03,\n",
       "        0.06, 0.11, 0.17, 0.03, 0.06, 0.11, 0.17]),\n",
       " 'std_score_time': array([0.  , 0.01, 0.01, 0.03, 0.  , 0.  , 0.02, 0.02, 0.  , 0.  , 0.01,\n",
       "        0.01, 0.  , 0.  , 0.01, 0.01, 0.  , 0.  , 0.01, 0.  , 0.  , 0.  ,\n",
       "        0.01, 0.01, 0.  , 0.01, 0.01, 0.01, 0.  , 0.  , 0.01, 0.  , 0.  ,\n",
       "        0.  , 0.01, 0.01, 0.  , 0.  , 0.01, 0.01, 0.02, 0.  , 0.  , 0.  ,\n",
       "        0.  , 0.01, 0.02, 0.  , 0.  , 0.  , 0.  , 0.01, 0.  , 0.01, 0.01,\n",
       "        0.01, 0.  , 0.  , 0.01, 0.  , 0.  , 0.  , 0.01, 0.01, 0.  , 0.  ,\n",
       "        0.  , 0.01, 0.  , 0.01, 0.  , 0.01, 0.  , 0.  , 0.01, 0.  , 0.  ,\n",
       "        0.  , 0.01, 0.  , 0.  , 0.  , 0.01, 0.01, 0.  , 0.  , 0.01, 0.01,\n",
       "        0.  , 0.  , 0.01, 0.  , 0.  , 0.  , 0.01, 0.01, 0.  , 0.  , 0.01,\n",
       "        0.  , 0.  , 0.  , 0.01, 0.01, 0.  , 0.  , 0.01, 0.  , 0.  , 0.  ,\n",
       "        0.01, 0.  , 0.  , 0.01, 0.  , 0.01, 0.  , 0.  , 0.01, 0.  , 0.  ,\n",
       "        0.  , 0.  , 0.01, 0.  , 0.  , 0.01, 0.02]),\n",
       " 'param_randomforestclassifier__ccp_alpha': masked_array(data=[0.0, 0.0, 0.0, 0.0, 0.0, 0.0, 0.0, 0.0, 0.0, 0.0, 0.0,\n",
       "                    0.0, 0.0, 0.0, 0.0, 0.0, 0.0, 0.0, 0.0, 0.0, 0.0, 0.0,\n",
       "                    0.0, 0.0, 0.0, 0.0, 0.0, 0.0, 0.0, 0.0, 0.0, 0.0, 0.0,\n",
       "                    0.0, 0.0, 0.0, 0.0, 0.0, 0.0, 0.0, 0.0, 0.0, 0.0, 0.0,\n",
       "                    0.0, 0.0, 0.0, 0.0, 0.0, 0.0, 0.0, 0.0, 0.0, 0.0, 0.0,\n",
       "                    0.0, 0.0, 0.0, 0.0, 0.0, 0.0, 0.0, 0.0, 0.0, 0.1, 0.1,\n",
       "                    0.1, 0.1, 0.1, 0.1, 0.1, 0.1, 0.1, 0.1, 0.1, 0.1, 0.1,\n",
       "                    0.1, 0.1, 0.1, 0.1, 0.1, 0.1, 0.1, 0.1, 0.1, 0.1, 0.1,\n",
       "                    0.1, 0.1, 0.1, 0.1, 0.1, 0.1, 0.1, 0.1, 0.1, 0.1, 0.1,\n",
       "                    0.1, 0.1, 0.1, 0.1, 0.1, 0.1, 0.1, 0.1, 0.1, 0.1, 0.1,\n",
       "                    0.1, 0.1, 0.1, 0.1, 0.1, 0.1, 0.1, 0.1, 0.1, 0.1, 0.1,\n",
       "                    0.1, 0.1, 0.1, 0.1, 0.1, 0.1, 0.1],\n",
       "              mask=[False, False, False, False, False, False, False, False,\n",
       "                    False, False, False, False, False, False, False, False,\n",
       "                    False, False, False, False, False, False, False, False,\n",
       "                    False, False, False, False, False, False, False, False,\n",
       "                    False, False, False, False, False, False, False, False,\n",
       "                    False, False, False, False, False, False, False, False,\n",
       "                    False, False, False, False, False, False, False, False,\n",
       "                    False, False, False, False, False, False, False, False,\n",
       "                    False, False, False, False, False, False, False, False,\n",
       "                    False, False, False, False, False, False, False, False,\n",
       "                    False, False, False, False, False, False, False, False,\n",
       "                    False, False, False, False, False, False, False, False,\n",
       "                    False, False, False, False, False, False, False, False,\n",
       "                    False, False, False, False, False, False, False, False,\n",
       "                    False, False, False, False, False, False, False, False,\n",
       "                    False, False, False, False, False, False, False, False],\n",
       "        fill_value='?',\n",
       "             dtype=object),\n",
       " 'param_randomforestclassifier__max_depth': masked_array(data=[None, None, None, None, None, None, None, None, None,\n",
       "                    None, None, None, None, None, None, None, 3, 3, 3, 3,\n",
       "                    3, 3, 3, 3, 3, 3, 3, 3, 3, 3, 3, 3, 5, 5, 5, 5, 5, 5,\n",
       "                    5, 5, 5, 5, 5, 5, 5, 5, 5, 5, 7, 7, 7, 7, 7, 7, 7, 7,\n",
       "                    7, 7, 7, 7, 7, 7, 7, 7, None, None, None, None, None,\n",
       "                    None, None, None, None, None, None, None, None, None,\n",
       "                    None, None, 3, 3, 3, 3, 3, 3, 3, 3, 3, 3, 3, 3, 3, 3,\n",
       "                    3, 3, 5, 5, 5, 5, 5, 5, 5, 5, 5, 5, 5, 5, 5, 5, 5, 5,\n",
       "                    7, 7, 7, 7, 7, 7, 7, 7, 7, 7, 7, 7, 7, 7, 7, 7],\n",
       "              mask=[False, False, False, False, False, False, False, False,\n",
       "                    False, False, False, False, False, False, False, False,\n",
       "                    False, False, False, False, False, False, False, False,\n",
       "                    False, False, False, False, False, False, False, False,\n",
       "                    False, False, False, False, False, False, False, False,\n",
       "                    False, False, False, False, False, False, False, False,\n",
       "                    False, False, False, False, False, False, False, False,\n",
       "                    False, False, False, False, False, False, False, False,\n",
       "                    False, False, False, False, False, False, False, False,\n",
       "                    False, False, False, False, False, False, False, False,\n",
       "                    False, False, False, False, False, False, False, False,\n",
       "                    False, False, False, False, False, False, False, False,\n",
       "                    False, False, False, False, False, False, False, False,\n",
       "                    False, False, False, False, False, False, False, False,\n",
       "                    False, False, False, False, False, False, False, False,\n",
       "                    False, False, False, False, False, False, False, False],\n",
       "        fill_value='?',\n",
       "             dtype=object),\n",
       " 'param_randomforestclassifier__min_samples_leaf': masked_array(data=[1, 1, 1, 1, 1, 1, 1, 1, 2, 2, 2, 2, 2, 2, 2, 2, 1, 1,\n",
       "                    1, 1, 1, 1, 1, 1, 2, 2, 2, 2, 2, 2, 2, 2, 1, 1, 1, 1,\n",
       "                    1, 1, 1, 1, 2, 2, 2, 2, 2, 2, 2, 2, 1, 1, 1, 1, 1, 1,\n",
       "                    1, 1, 2, 2, 2, 2, 2, 2, 2, 2, 1, 1, 1, 1, 1, 1, 1, 1,\n",
       "                    2, 2, 2, 2, 2, 2, 2, 2, 1, 1, 1, 1, 1, 1, 1, 1, 2, 2,\n",
       "                    2, 2, 2, 2, 2, 2, 1, 1, 1, 1, 1, 1, 1, 1, 2, 2, 2, 2,\n",
       "                    2, 2, 2, 2, 1, 1, 1, 1, 1, 1, 1, 1, 2, 2, 2, 2, 2, 2,\n",
       "                    2, 2],\n",
       "              mask=[False, False, False, False, False, False, False, False,\n",
       "                    False, False, False, False, False, False, False, False,\n",
       "                    False, False, False, False, False, False, False, False,\n",
       "                    False, False, False, False, False, False, False, False,\n",
       "                    False, False, False, False, False, False, False, False,\n",
       "                    False, False, False, False, False, False, False, False,\n",
       "                    False, False, False, False, False, False, False, False,\n",
       "                    False, False, False, False, False, False, False, False,\n",
       "                    False, False, False, False, False, False, False, False,\n",
       "                    False, False, False, False, False, False, False, False,\n",
       "                    False, False, False, False, False, False, False, False,\n",
       "                    False, False, False, False, False, False, False, False,\n",
       "                    False, False, False, False, False, False, False, False,\n",
       "                    False, False, False, False, False, False, False, False,\n",
       "                    False, False, False, False, False, False, False, False,\n",
       "                    False, False, False, False, False, False, False, False],\n",
       "        fill_value='?',\n",
       "             dtype=object),\n",
       " 'param_randomforestclassifier__min_samples_split': masked_array(data=[2, 2, 2, 2, 3, 3, 3, 3, 2, 2, 2, 2, 3, 3, 3, 3, 2, 2,\n",
       "                    2, 2, 3, 3, 3, 3, 2, 2, 2, 2, 3, 3, 3, 3, 2, 2, 2, 2,\n",
       "                    3, 3, 3, 3, 2, 2, 2, 2, 3, 3, 3, 3, 2, 2, 2, 2, 3, 3,\n",
       "                    3, 3, 2, 2, 2, 2, 3, 3, 3, 3, 2, 2, 2, 2, 3, 3, 3, 3,\n",
       "                    2, 2, 2, 2, 3, 3, 3, 3, 2, 2, 2, 2, 3, 3, 3, 3, 2, 2,\n",
       "                    2, 2, 3, 3, 3, 3, 2, 2, 2, 2, 3, 3, 3, 3, 2, 2, 2, 2,\n",
       "                    3, 3, 3, 3, 2, 2, 2, 2, 3, 3, 3, 3, 2, 2, 2, 2, 3, 3,\n",
       "                    3, 3],\n",
       "              mask=[False, False, False, False, False, False, False, False,\n",
       "                    False, False, False, False, False, False, False, False,\n",
       "                    False, False, False, False, False, False, False, False,\n",
       "                    False, False, False, False, False, False, False, False,\n",
       "                    False, False, False, False, False, False, False, False,\n",
       "                    False, False, False, False, False, False, False, False,\n",
       "                    False, False, False, False, False, False, False, False,\n",
       "                    False, False, False, False, False, False, False, False,\n",
       "                    False, False, False, False, False, False, False, False,\n",
       "                    False, False, False, False, False, False, False, False,\n",
       "                    False, False, False, False, False, False, False, False,\n",
       "                    False, False, False, False, False, False, False, False,\n",
       "                    False, False, False, False, False, False, False, False,\n",
       "                    False, False, False, False, False, False, False, False,\n",
       "                    False, False, False, False, False, False, False, False,\n",
       "                    False, False, False, False, False, False, False, False],\n",
       "        fill_value='?',\n",
       "             dtype=object),\n",
       " 'param_randomforestclassifier__n_estimators': masked_array(data=[200, 500, 1000, 1500, 200, 500, 1000, 1500, 200, 500,\n",
       "                    1000, 1500, 200, 500, 1000, 1500, 200, 500, 1000, 1500,\n",
       "                    200, 500, 1000, 1500, 200, 500, 1000, 1500, 200, 500,\n",
       "                    1000, 1500, 200, 500, 1000, 1500, 200, 500, 1000, 1500,\n",
       "                    200, 500, 1000, 1500, 200, 500, 1000, 1500, 200, 500,\n",
       "                    1000, 1500, 200, 500, 1000, 1500, 200, 500, 1000, 1500,\n",
       "                    200, 500, 1000, 1500, 200, 500, 1000, 1500, 200, 500,\n",
       "                    1000, 1500, 200, 500, 1000, 1500, 200, 500, 1000, 1500,\n",
       "                    200, 500, 1000, 1500, 200, 500, 1000, 1500, 200, 500,\n",
       "                    1000, 1500, 200, 500, 1000, 1500, 200, 500, 1000, 1500,\n",
       "                    200, 500, 1000, 1500, 200, 500, 1000, 1500, 200, 500,\n",
       "                    1000, 1500, 200, 500, 1000, 1500, 200, 500, 1000, 1500,\n",
       "                    200, 500, 1000, 1500, 200, 500, 1000, 1500],\n",
       "              mask=[False, False, False, False, False, False, False, False,\n",
       "                    False, False, False, False, False, False, False, False,\n",
       "                    False, False, False, False, False, False, False, False,\n",
       "                    False, False, False, False, False, False, False, False,\n",
       "                    False, False, False, False, False, False, False, False,\n",
       "                    False, False, False, False, False, False, False, False,\n",
       "                    False, False, False, False, False, False, False, False,\n",
       "                    False, False, False, False, False, False, False, False,\n",
       "                    False, False, False, False, False, False, False, False,\n",
       "                    False, False, False, False, False, False, False, False,\n",
       "                    False, False, False, False, False, False, False, False,\n",
       "                    False, False, False, False, False, False, False, False,\n",
       "                    False, False, False, False, False, False, False, False,\n",
       "                    False, False, False, False, False, False, False, False,\n",
       "                    False, False, False, False, False, False, False, False,\n",
       "                    False, False, False, False, False, False, False, False],\n",
       "        fill_value='?',\n",
       "             dtype=object),\n",
       " 'param_randomforestclassifier__oob_score': masked_array(data=[True, True, True, True, True, True, True, True, True,\n",
       "                    True, True, True, True, True, True, True, True, True,\n",
       "                    True, True, True, True, True, True, True, True, True,\n",
       "                    True, True, True, True, True, True, True, True, True,\n",
       "                    True, True, True, True, True, True, True, True, True,\n",
       "                    True, True, True, True, True, True, True, True, True,\n",
       "                    True, True, True, True, True, True, True, True, True,\n",
       "                    True, True, True, True, True, True, True, True, True,\n",
       "                    True, True, True, True, True, True, True, True, True,\n",
       "                    True, True, True, True, True, True, True, True, True,\n",
       "                    True, True, True, True, True, True, True, True, True,\n",
       "                    True, True, True, True, True, True, True, True, True,\n",
       "                    True, True, True, True, True, True, True, True, True,\n",
       "                    True, True, True, True, True, True, True, True, True,\n",
       "                    True, True],\n",
       "              mask=[False, False, False, False, False, False, False, False,\n",
       "                    False, False, False, False, False, False, False, False,\n",
       "                    False, False, False, False, False, False, False, False,\n",
       "                    False, False, False, False, False, False, False, False,\n",
       "                    False, False, False, False, False, False, False, False,\n",
       "                    False, False, False, False, False, False, False, False,\n",
       "                    False, False, False, False, False, False, False, False,\n",
       "                    False, False, False, False, False, False, False, False,\n",
       "                    False, False, False, False, False, False, False, False,\n",
       "                    False, False, False, False, False, False, False, False,\n",
       "                    False, False, False, False, False, False, False, False,\n",
       "                    False, False, False, False, False, False, False, False,\n",
       "                    False, False, False, False, False, False, False, False,\n",
       "                    False, False, False, False, False, False, False, False,\n",
       "                    False, False, False, False, False, False, False, False,\n",
       "                    False, False, False, False, False, False, False, False],\n",
       "        fill_value='?',\n",
       "             dtype=object),\n",
       " 'params': [{'randomforestclassifier__ccp_alpha': 0.0,\n",
       "   'randomforestclassifier__max_depth': None,\n",
       "   'randomforestclassifier__min_samples_leaf': 1,\n",
       "   'randomforestclassifier__min_samples_split': 2,\n",
       "   'randomforestclassifier__n_estimators': 200,\n",
       "   'randomforestclassifier__oob_score': True},\n",
       "  {'randomforestclassifier__ccp_alpha': 0.0,\n",
       "   'randomforestclassifier__max_depth': None,\n",
       "   'randomforestclassifier__min_samples_leaf': 1,\n",
       "   'randomforestclassifier__min_samples_split': 2,\n",
       "   'randomforestclassifier__n_estimators': 500,\n",
       "   'randomforestclassifier__oob_score': True},\n",
       "  {'randomforestclassifier__ccp_alpha': 0.0,\n",
       "   'randomforestclassifier__max_depth': None,\n",
       "   'randomforestclassifier__min_samples_leaf': 1,\n",
       "   'randomforestclassifier__min_samples_split': 2,\n",
       "   'randomforestclassifier__n_estimators': 1000,\n",
       "   'randomforestclassifier__oob_score': True},\n",
       "  {'randomforestclassifier__ccp_alpha': 0.0,\n",
       "   'randomforestclassifier__max_depth': None,\n",
       "   'randomforestclassifier__min_samples_leaf': 1,\n",
       "   'randomforestclassifier__min_samples_split': 2,\n",
       "   'randomforestclassifier__n_estimators': 1500,\n",
       "   'randomforestclassifier__oob_score': True},\n",
       "  {'randomforestclassifier__ccp_alpha': 0.0,\n",
       "   'randomforestclassifier__max_depth': None,\n",
       "   'randomforestclassifier__min_samples_leaf': 1,\n",
       "   'randomforestclassifier__min_samples_split': 3,\n",
       "   'randomforestclassifier__n_estimators': 200,\n",
       "   'randomforestclassifier__oob_score': True},\n",
       "  {'randomforestclassifier__ccp_alpha': 0.0,\n",
       "   'randomforestclassifier__max_depth': None,\n",
       "   'randomforestclassifier__min_samples_leaf': 1,\n",
       "   'randomforestclassifier__min_samples_split': 3,\n",
       "   'randomforestclassifier__n_estimators': 500,\n",
       "   'randomforestclassifier__oob_score': True},\n",
       "  {'randomforestclassifier__ccp_alpha': 0.0,\n",
       "   'randomforestclassifier__max_depth': None,\n",
       "   'randomforestclassifier__min_samples_leaf': 1,\n",
       "   'randomforestclassifier__min_samples_split': 3,\n",
       "   'randomforestclassifier__n_estimators': 1000,\n",
       "   'randomforestclassifier__oob_score': True},\n",
       "  {'randomforestclassifier__ccp_alpha': 0.0,\n",
       "   'randomforestclassifier__max_depth': None,\n",
       "   'randomforestclassifier__min_samples_leaf': 1,\n",
       "   'randomforestclassifier__min_samples_split': 3,\n",
       "   'randomforestclassifier__n_estimators': 1500,\n",
       "   'randomforestclassifier__oob_score': True},\n",
       "  {'randomforestclassifier__ccp_alpha': 0.0,\n",
       "   'randomforestclassifier__max_depth': None,\n",
       "   'randomforestclassifier__min_samples_leaf': 2,\n",
       "   'randomforestclassifier__min_samples_split': 2,\n",
       "   'randomforestclassifier__n_estimators': 200,\n",
       "   'randomforestclassifier__oob_score': True},\n",
       "  {'randomforestclassifier__ccp_alpha': 0.0,\n",
       "   'randomforestclassifier__max_depth': None,\n",
       "   'randomforestclassifier__min_samples_leaf': 2,\n",
       "   'randomforestclassifier__min_samples_split': 2,\n",
       "   'randomforestclassifier__n_estimators': 500,\n",
       "   'randomforestclassifier__oob_score': True},\n",
       "  {'randomforestclassifier__ccp_alpha': 0.0,\n",
       "   'randomforestclassifier__max_depth': None,\n",
       "   'randomforestclassifier__min_samples_leaf': 2,\n",
       "   'randomforestclassifier__min_samples_split': 2,\n",
       "   'randomforestclassifier__n_estimators': 1000,\n",
       "   'randomforestclassifier__oob_score': True},\n",
       "  {'randomforestclassifier__ccp_alpha': 0.0,\n",
       "   'randomforestclassifier__max_depth': None,\n",
       "   'randomforestclassifier__min_samples_leaf': 2,\n",
       "   'randomforestclassifier__min_samples_split': 2,\n",
       "   'randomforestclassifier__n_estimators': 1500,\n",
       "   'randomforestclassifier__oob_score': True},\n",
       "  {'randomforestclassifier__ccp_alpha': 0.0,\n",
       "   'randomforestclassifier__max_depth': None,\n",
       "   'randomforestclassifier__min_samples_leaf': 2,\n",
       "   'randomforestclassifier__min_samples_split': 3,\n",
       "   'randomforestclassifier__n_estimators': 200,\n",
       "   'randomforestclassifier__oob_score': True},\n",
       "  {'randomforestclassifier__ccp_alpha': 0.0,\n",
       "   'randomforestclassifier__max_depth': None,\n",
       "   'randomforestclassifier__min_samples_leaf': 2,\n",
       "   'randomforestclassifier__min_samples_split': 3,\n",
       "   'randomforestclassifier__n_estimators': 500,\n",
       "   'randomforestclassifier__oob_score': True},\n",
       "  {'randomforestclassifier__ccp_alpha': 0.0,\n",
       "   'randomforestclassifier__max_depth': None,\n",
       "   'randomforestclassifier__min_samples_leaf': 2,\n",
       "   'randomforestclassifier__min_samples_split': 3,\n",
       "   'randomforestclassifier__n_estimators': 1000,\n",
       "   'randomforestclassifier__oob_score': True},\n",
       "  {'randomforestclassifier__ccp_alpha': 0.0,\n",
       "   'randomforestclassifier__max_depth': None,\n",
       "   'randomforestclassifier__min_samples_leaf': 2,\n",
       "   'randomforestclassifier__min_samples_split': 3,\n",
       "   'randomforestclassifier__n_estimators': 1500,\n",
       "   'randomforestclassifier__oob_score': True},\n",
       "  {'randomforestclassifier__ccp_alpha': 0.0,\n",
       "   'randomforestclassifier__max_depth': 3,\n",
       "   'randomforestclassifier__min_samples_leaf': 1,\n",
       "   'randomforestclassifier__min_samples_split': 2,\n",
       "   'randomforestclassifier__n_estimators': 200,\n",
       "   'randomforestclassifier__oob_score': True},\n",
       "  {'randomforestclassifier__ccp_alpha': 0.0,\n",
       "   'randomforestclassifier__max_depth': 3,\n",
       "   'randomforestclassifier__min_samples_leaf': 1,\n",
       "   'randomforestclassifier__min_samples_split': 2,\n",
       "   'randomforestclassifier__n_estimators': 500,\n",
       "   'randomforestclassifier__oob_score': True},\n",
       "  {'randomforestclassifier__ccp_alpha': 0.0,\n",
       "   'randomforestclassifier__max_depth': 3,\n",
       "   'randomforestclassifier__min_samples_leaf': 1,\n",
       "   'randomforestclassifier__min_samples_split': 2,\n",
       "   'randomforestclassifier__n_estimators': 1000,\n",
       "   'randomforestclassifier__oob_score': True},\n",
       "  {'randomforestclassifier__ccp_alpha': 0.0,\n",
       "   'randomforestclassifier__max_depth': 3,\n",
       "   'randomforestclassifier__min_samples_leaf': 1,\n",
       "   'randomforestclassifier__min_samples_split': 2,\n",
       "   'randomforestclassifier__n_estimators': 1500,\n",
       "   'randomforestclassifier__oob_score': True},\n",
       "  {'randomforestclassifier__ccp_alpha': 0.0,\n",
       "   'randomforestclassifier__max_depth': 3,\n",
       "   'randomforestclassifier__min_samples_leaf': 1,\n",
       "   'randomforestclassifier__min_samples_split': 3,\n",
       "   'randomforestclassifier__n_estimators': 200,\n",
       "   'randomforestclassifier__oob_score': True},\n",
       "  {'randomforestclassifier__ccp_alpha': 0.0,\n",
       "   'randomforestclassifier__max_depth': 3,\n",
       "   'randomforestclassifier__min_samples_leaf': 1,\n",
       "   'randomforestclassifier__min_samples_split': 3,\n",
       "   'randomforestclassifier__n_estimators': 500,\n",
       "   'randomforestclassifier__oob_score': True},\n",
       "  {'randomforestclassifier__ccp_alpha': 0.0,\n",
       "   'randomforestclassifier__max_depth': 3,\n",
       "   'randomforestclassifier__min_samples_leaf': 1,\n",
       "   'randomforestclassifier__min_samples_split': 3,\n",
       "   'randomforestclassifier__n_estimators': 1000,\n",
       "   'randomforestclassifier__oob_score': True},\n",
       "  {'randomforestclassifier__ccp_alpha': 0.0,\n",
       "   'randomforestclassifier__max_depth': 3,\n",
       "   'randomforestclassifier__min_samples_leaf': 1,\n",
       "   'randomforestclassifier__min_samples_split': 3,\n",
       "   'randomforestclassifier__n_estimators': 1500,\n",
       "   'randomforestclassifier__oob_score': True},\n",
       "  {'randomforestclassifier__ccp_alpha': 0.0,\n",
       "   'randomforestclassifier__max_depth': 3,\n",
       "   'randomforestclassifier__min_samples_leaf': 2,\n",
       "   'randomforestclassifier__min_samples_split': 2,\n",
       "   'randomforestclassifier__n_estimators': 200,\n",
       "   'randomforestclassifier__oob_score': True},\n",
       "  {'randomforestclassifier__ccp_alpha': 0.0,\n",
       "   'randomforestclassifier__max_depth': 3,\n",
       "   'randomforestclassifier__min_samples_leaf': 2,\n",
       "   'randomforestclassifier__min_samples_split': 2,\n",
       "   'randomforestclassifier__n_estimators': 500,\n",
       "   'randomforestclassifier__oob_score': True},\n",
       "  {'randomforestclassifier__ccp_alpha': 0.0,\n",
       "   'randomforestclassifier__max_depth': 3,\n",
       "   'randomforestclassifier__min_samples_leaf': 2,\n",
       "   'randomforestclassifier__min_samples_split': 2,\n",
       "   'randomforestclassifier__n_estimators': 1000,\n",
       "   'randomforestclassifier__oob_score': True},\n",
       "  {'randomforestclassifier__ccp_alpha': 0.0,\n",
       "   'randomforestclassifier__max_depth': 3,\n",
       "   'randomforestclassifier__min_samples_leaf': 2,\n",
       "   'randomforestclassifier__min_samples_split': 2,\n",
       "   'randomforestclassifier__n_estimators': 1500,\n",
       "   'randomforestclassifier__oob_score': True},\n",
       "  {'randomforestclassifier__ccp_alpha': 0.0,\n",
       "   'randomforestclassifier__max_depth': 3,\n",
       "   'randomforestclassifier__min_samples_leaf': 2,\n",
       "   'randomforestclassifier__min_samples_split': 3,\n",
       "   'randomforestclassifier__n_estimators': 200,\n",
       "   'randomforestclassifier__oob_score': True},\n",
       "  {'randomforestclassifier__ccp_alpha': 0.0,\n",
       "   'randomforestclassifier__max_depth': 3,\n",
       "   'randomforestclassifier__min_samples_leaf': 2,\n",
       "   'randomforestclassifier__min_samples_split': 3,\n",
       "   'randomforestclassifier__n_estimators': 500,\n",
       "   'randomforestclassifier__oob_score': True},\n",
       "  {'randomforestclassifier__ccp_alpha': 0.0,\n",
       "   'randomforestclassifier__max_depth': 3,\n",
       "   'randomforestclassifier__min_samples_leaf': 2,\n",
       "   'randomforestclassifier__min_samples_split': 3,\n",
       "   'randomforestclassifier__n_estimators': 1000,\n",
       "   'randomforestclassifier__oob_score': True},\n",
       "  {'randomforestclassifier__ccp_alpha': 0.0,\n",
       "   'randomforestclassifier__max_depth': 3,\n",
       "   'randomforestclassifier__min_samples_leaf': 2,\n",
       "   'randomforestclassifier__min_samples_split': 3,\n",
       "   'randomforestclassifier__n_estimators': 1500,\n",
       "   'randomforestclassifier__oob_score': True},\n",
       "  {'randomforestclassifier__ccp_alpha': 0.0,\n",
       "   'randomforestclassifier__max_depth': 5,\n",
       "   'randomforestclassifier__min_samples_leaf': 1,\n",
       "   'randomforestclassifier__min_samples_split': 2,\n",
       "   'randomforestclassifier__n_estimators': 200,\n",
       "   'randomforestclassifier__oob_score': True},\n",
       "  {'randomforestclassifier__ccp_alpha': 0.0,\n",
       "   'randomforestclassifier__max_depth': 5,\n",
       "   'randomforestclassifier__min_samples_leaf': 1,\n",
       "   'randomforestclassifier__min_samples_split': 2,\n",
       "   'randomforestclassifier__n_estimators': 500,\n",
       "   'randomforestclassifier__oob_score': True},\n",
       "  {'randomforestclassifier__ccp_alpha': 0.0,\n",
       "   'randomforestclassifier__max_depth': 5,\n",
       "   'randomforestclassifier__min_samples_leaf': 1,\n",
       "   'randomforestclassifier__min_samples_split': 2,\n",
       "   'randomforestclassifier__n_estimators': 1000,\n",
       "   'randomforestclassifier__oob_score': True},\n",
       "  {'randomforestclassifier__ccp_alpha': 0.0,\n",
       "   'randomforestclassifier__max_depth': 5,\n",
       "   'randomforestclassifier__min_samples_leaf': 1,\n",
       "   'randomforestclassifier__min_samples_split': 2,\n",
       "   'randomforestclassifier__n_estimators': 1500,\n",
       "   'randomforestclassifier__oob_score': True},\n",
       "  {'randomforestclassifier__ccp_alpha': 0.0,\n",
       "   'randomforestclassifier__max_depth': 5,\n",
       "   'randomforestclassifier__min_samples_leaf': 1,\n",
       "   'randomforestclassifier__min_samples_split': 3,\n",
       "   'randomforestclassifier__n_estimators': 200,\n",
       "   'randomforestclassifier__oob_score': True},\n",
       "  {'randomforestclassifier__ccp_alpha': 0.0,\n",
       "   'randomforestclassifier__max_depth': 5,\n",
       "   'randomforestclassifier__min_samples_leaf': 1,\n",
       "   'randomforestclassifier__min_samples_split': 3,\n",
       "   'randomforestclassifier__n_estimators': 500,\n",
       "   'randomforestclassifier__oob_score': True},\n",
       "  {'randomforestclassifier__ccp_alpha': 0.0,\n",
       "   'randomforestclassifier__max_depth': 5,\n",
       "   'randomforestclassifier__min_samples_leaf': 1,\n",
       "   'randomforestclassifier__min_samples_split': 3,\n",
       "   'randomforestclassifier__n_estimators': 1000,\n",
       "   'randomforestclassifier__oob_score': True},\n",
       "  {'randomforestclassifier__ccp_alpha': 0.0,\n",
       "   'randomforestclassifier__max_depth': 5,\n",
       "   'randomforestclassifier__min_samples_leaf': 1,\n",
       "   'randomforestclassifier__min_samples_split': 3,\n",
       "   'randomforestclassifier__n_estimators': 1500,\n",
       "   'randomforestclassifier__oob_score': True},\n",
       "  {'randomforestclassifier__ccp_alpha': 0.0,\n",
       "   'randomforestclassifier__max_depth': 5,\n",
       "   'randomforestclassifier__min_samples_leaf': 2,\n",
       "   'randomforestclassifier__min_samples_split': 2,\n",
       "   'randomforestclassifier__n_estimators': 200,\n",
       "   'randomforestclassifier__oob_score': True},\n",
       "  {'randomforestclassifier__ccp_alpha': 0.0,\n",
       "   'randomforestclassifier__max_depth': 5,\n",
       "   'randomforestclassifier__min_samples_leaf': 2,\n",
       "   'randomforestclassifier__min_samples_split': 2,\n",
       "   'randomforestclassifier__n_estimators': 500,\n",
       "   'randomforestclassifier__oob_score': True},\n",
       "  {'randomforestclassifier__ccp_alpha': 0.0,\n",
       "   'randomforestclassifier__max_depth': 5,\n",
       "   'randomforestclassifier__min_samples_leaf': 2,\n",
       "   'randomforestclassifier__min_samples_split': 2,\n",
       "   'randomforestclassifier__n_estimators': 1000,\n",
       "   'randomforestclassifier__oob_score': True},\n",
       "  {'randomforestclassifier__ccp_alpha': 0.0,\n",
       "   'randomforestclassifier__max_depth': 5,\n",
       "   'randomforestclassifier__min_samples_leaf': 2,\n",
       "   'randomforestclassifier__min_samples_split': 2,\n",
       "   'randomforestclassifier__n_estimators': 1500,\n",
       "   'randomforestclassifier__oob_score': True},\n",
       "  {'randomforestclassifier__ccp_alpha': 0.0,\n",
       "   'randomforestclassifier__max_depth': 5,\n",
       "   'randomforestclassifier__min_samples_leaf': 2,\n",
       "   'randomforestclassifier__min_samples_split': 3,\n",
       "   'randomforestclassifier__n_estimators': 200,\n",
       "   'randomforestclassifier__oob_score': True},\n",
       "  {'randomforestclassifier__ccp_alpha': 0.0,\n",
       "   'randomforestclassifier__max_depth': 5,\n",
       "   'randomforestclassifier__min_samples_leaf': 2,\n",
       "   'randomforestclassifier__min_samples_split': 3,\n",
       "   'randomforestclassifier__n_estimators': 500,\n",
       "   'randomforestclassifier__oob_score': True},\n",
       "  {'randomforestclassifier__ccp_alpha': 0.0,\n",
       "   'randomforestclassifier__max_depth': 5,\n",
       "   'randomforestclassifier__min_samples_leaf': 2,\n",
       "   'randomforestclassifier__min_samples_split': 3,\n",
       "   'randomforestclassifier__n_estimators': 1000,\n",
       "   'randomforestclassifier__oob_score': True},\n",
       "  {'randomforestclassifier__ccp_alpha': 0.0,\n",
       "   'randomforestclassifier__max_depth': 5,\n",
       "   'randomforestclassifier__min_samples_leaf': 2,\n",
       "   'randomforestclassifier__min_samples_split': 3,\n",
       "   'randomforestclassifier__n_estimators': 1500,\n",
       "   'randomforestclassifier__oob_score': True},\n",
       "  {'randomforestclassifier__ccp_alpha': 0.0,\n",
       "   'randomforestclassifier__max_depth': 7,\n",
       "   'randomforestclassifier__min_samples_leaf': 1,\n",
       "   'randomforestclassifier__min_samples_split': 2,\n",
       "   'randomforestclassifier__n_estimators': 200,\n",
       "   'randomforestclassifier__oob_score': True},\n",
       "  {'randomforestclassifier__ccp_alpha': 0.0,\n",
       "   'randomforestclassifier__max_depth': 7,\n",
       "   'randomforestclassifier__min_samples_leaf': 1,\n",
       "   'randomforestclassifier__min_samples_split': 2,\n",
       "   'randomforestclassifier__n_estimators': 500,\n",
       "   'randomforestclassifier__oob_score': True},\n",
       "  {'randomforestclassifier__ccp_alpha': 0.0,\n",
       "   'randomforestclassifier__max_depth': 7,\n",
       "   'randomforestclassifier__min_samples_leaf': 1,\n",
       "   'randomforestclassifier__min_samples_split': 2,\n",
       "   'randomforestclassifier__n_estimators': 1000,\n",
       "   'randomforestclassifier__oob_score': True},\n",
       "  {'randomforestclassifier__ccp_alpha': 0.0,\n",
       "   'randomforestclassifier__max_depth': 7,\n",
       "   'randomforestclassifier__min_samples_leaf': 1,\n",
       "   'randomforestclassifier__min_samples_split': 2,\n",
       "   'randomforestclassifier__n_estimators': 1500,\n",
       "   'randomforestclassifier__oob_score': True},\n",
       "  {'randomforestclassifier__ccp_alpha': 0.0,\n",
       "   'randomforestclassifier__max_depth': 7,\n",
       "   'randomforestclassifier__min_samples_leaf': 1,\n",
       "   'randomforestclassifier__min_samples_split': 3,\n",
       "   'randomforestclassifier__n_estimators': 200,\n",
       "   'randomforestclassifier__oob_score': True},\n",
       "  {'randomforestclassifier__ccp_alpha': 0.0,\n",
       "   'randomforestclassifier__max_depth': 7,\n",
       "   'randomforestclassifier__min_samples_leaf': 1,\n",
       "   'randomforestclassifier__min_samples_split': 3,\n",
       "   'randomforestclassifier__n_estimators': 500,\n",
       "   'randomforestclassifier__oob_score': True},\n",
       "  {'randomforestclassifier__ccp_alpha': 0.0,\n",
       "   'randomforestclassifier__max_depth': 7,\n",
       "   'randomforestclassifier__min_samples_leaf': 1,\n",
       "   'randomforestclassifier__min_samples_split': 3,\n",
       "   'randomforestclassifier__n_estimators': 1000,\n",
       "   'randomforestclassifier__oob_score': True},\n",
       "  {'randomforestclassifier__ccp_alpha': 0.0,\n",
       "   'randomforestclassifier__max_depth': 7,\n",
       "   'randomforestclassifier__min_samples_leaf': 1,\n",
       "   'randomforestclassifier__min_samples_split': 3,\n",
       "   'randomforestclassifier__n_estimators': 1500,\n",
       "   'randomforestclassifier__oob_score': True},\n",
       "  {'randomforestclassifier__ccp_alpha': 0.0,\n",
       "   'randomforestclassifier__max_depth': 7,\n",
       "   'randomforestclassifier__min_samples_leaf': 2,\n",
       "   'randomforestclassifier__min_samples_split': 2,\n",
       "   'randomforestclassifier__n_estimators': 200,\n",
       "   'randomforestclassifier__oob_score': True},\n",
       "  {'randomforestclassifier__ccp_alpha': 0.0,\n",
       "   'randomforestclassifier__max_depth': 7,\n",
       "   'randomforestclassifier__min_samples_leaf': 2,\n",
       "   'randomforestclassifier__min_samples_split': 2,\n",
       "   'randomforestclassifier__n_estimators': 500,\n",
       "   'randomforestclassifier__oob_score': True},\n",
       "  {'randomforestclassifier__ccp_alpha': 0.0,\n",
       "   'randomforestclassifier__max_depth': 7,\n",
       "   'randomforestclassifier__min_samples_leaf': 2,\n",
       "   'randomforestclassifier__min_samples_split': 2,\n",
       "   'randomforestclassifier__n_estimators': 1000,\n",
       "   'randomforestclassifier__oob_score': True},\n",
       "  {'randomforestclassifier__ccp_alpha': 0.0,\n",
       "   'randomforestclassifier__max_depth': 7,\n",
       "   'randomforestclassifier__min_samples_leaf': 2,\n",
       "   'randomforestclassifier__min_samples_split': 2,\n",
       "   'randomforestclassifier__n_estimators': 1500,\n",
       "   'randomforestclassifier__oob_score': True},\n",
       "  {'randomforestclassifier__ccp_alpha': 0.0,\n",
       "   'randomforestclassifier__max_depth': 7,\n",
       "   'randomforestclassifier__min_samples_leaf': 2,\n",
       "   'randomforestclassifier__min_samples_split': 3,\n",
       "   'randomforestclassifier__n_estimators': 200,\n",
       "   'randomforestclassifier__oob_score': True},\n",
       "  {'randomforestclassifier__ccp_alpha': 0.0,\n",
       "   'randomforestclassifier__max_depth': 7,\n",
       "   'randomforestclassifier__min_samples_leaf': 2,\n",
       "   'randomforestclassifier__min_samples_split': 3,\n",
       "   'randomforestclassifier__n_estimators': 500,\n",
       "   'randomforestclassifier__oob_score': True},\n",
       "  {'randomforestclassifier__ccp_alpha': 0.0,\n",
       "   'randomforestclassifier__max_depth': 7,\n",
       "   'randomforestclassifier__min_samples_leaf': 2,\n",
       "   'randomforestclassifier__min_samples_split': 3,\n",
       "   'randomforestclassifier__n_estimators': 1000,\n",
       "   'randomforestclassifier__oob_score': True},\n",
       "  {'randomforestclassifier__ccp_alpha': 0.0,\n",
       "   'randomforestclassifier__max_depth': 7,\n",
       "   'randomforestclassifier__min_samples_leaf': 2,\n",
       "   'randomforestclassifier__min_samples_split': 3,\n",
       "   'randomforestclassifier__n_estimators': 1500,\n",
       "   'randomforestclassifier__oob_score': True},\n",
       "  {'randomforestclassifier__ccp_alpha': 0.1,\n",
       "   'randomforestclassifier__max_depth': None,\n",
       "   'randomforestclassifier__min_samples_leaf': 1,\n",
       "   'randomforestclassifier__min_samples_split': 2,\n",
       "   'randomforestclassifier__n_estimators': 200,\n",
       "   'randomforestclassifier__oob_score': True},\n",
       "  {'randomforestclassifier__ccp_alpha': 0.1,\n",
       "   'randomforestclassifier__max_depth': None,\n",
       "   'randomforestclassifier__min_samples_leaf': 1,\n",
       "   'randomforestclassifier__min_samples_split': 2,\n",
       "   'randomforestclassifier__n_estimators': 500,\n",
       "   'randomforestclassifier__oob_score': True},\n",
       "  {'randomforestclassifier__ccp_alpha': 0.1,\n",
       "   'randomforestclassifier__max_depth': None,\n",
       "   'randomforestclassifier__min_samples_leaf': 1,\n",
       "   'randomforestclassifier__min_samples_split': 2,\n",
       "   'randomforestclassifier__n_estimators': 1000,\n",
       "   'randomforestclassifier__oob_score': True},\n",
       "  {'randomforestclassifier__ccp_alpha': 0.1,\n",
       "   'randomforestclassifier__max_depth': None,\n",
       "   'randomforestclassifier__min_samples_leaf': 1,\n",
       "   'randomforestclassifier__min_samples_split': 2,\n",
       "   'randomforestclassifier__n_estimators': 1500,\n",
       "   'randomforestclassifier__oob_score': True},\n",
       "  {'randomforestclassifier__ccp_alpha': 0.1,\n",
       "   'randomforestclassifier__max_depth': None,\n",
       "   'randomforestclassifier__min_samples_leaf': 1,\n",
       "   'randomforestclassifier__min_samples_split': 3,\n",
       "   'randomforestclassifier__n_estimators': 200,\n",
       "   'randomforestclassifier__oob_score': True},\n",
       "  {'randomforestclassifier__ccp_alpha': 0.1,\n",
       "   'randomforestclassifier__max_depth': None,\n",
       "   'randomforestclassifier__min_samples_leaf': 1,\n",
       "   'randomforestclassifier__min_samples_split': 3,\n",
       "   'randomforestclassifier__n_estimators': 500,\n",
       "   'randomforestclassifier__oob_score': True},\n",
       "  {'randomforestclassifier__ccp_alpha': 0.1,\n",
       "   'randomforestclassifier__max_depth': None,\n",
       "   'randomforestclassifier__min_samples_leaf': 1,\n",
       "   'randomforestclassifier__min_samples_split': 3,\n",
       "   'randomforestclassifier__n_estimators': 1000,\n",
       "   'randomforestclassifier__oob_score': True},\n",
       "  {'randomforestclassifier__ccp_alpha': 0.1,\n",
       "   'randomforestclassifier__max_depth': None,\n",
       "   'randomforestclassifier__min_samples_leaf': 1,\n",
       "   'randomforestclassifier__min_samples_split': 3,\n",
       "   'randomforestclassifier__n_estimators': 1500,\n",
       "   'randomforestclassifier__oob_score': True},\n",
       "  {'randomforestclassifier__ccp_alpha': 0.1,\n",
       "   'randomforestclassifier__max_depth': None,\n",
       "   'randomforestclassifier__min_samples_leaf': 2,\n",
       "   'randomforestclassifier__min_samples_split': 2,\n",
       "   'randomforestclassifier__n_estimators': 200,\n",
       "   'randomforestclassifier__oob_score': True},\n",
       "  {'randomforestclassifier__ccp_alpha': 0.1,\n",
       "   'randomforestclassifier__max_depth': None,\n",
       "   'randomforestclassifier__min_samples_leaf': 2,\n",
       "   'randomforestclassifier__min_samples_split': 2,\n",
       "   'randomforestclassifier__n_estimators': 500,\n",
       "   'randomforestclassifier__oob_score': True},\n",
       "  {'randomforestclassifier__ccp_alpha': 0.1,\n",
       "   'randomforestclassifier__max_depth': None,\n",
       "   'randomforestclassifier__min_samples_leaf': 2,\n",
       "   'randomforestclassifier__min_samples_split': 2,\n",
       "   'randomforestclassifier__n_estimators': 1000,\n",
       "   'randomforestclassifier__oob_score': True},\n",
       "  {'randomforestclassifier__ccp_alpha': 0.1,\n",
       "   'randomforestclassifier__max_depth': None,\n",
       "   'randomforestclassifier__min_samples_leaf': 2,\n",
       "   'randomforestclassifier__min_samples_split': 2,\n",
       "   'randomforestclassifier__n_estimators': 1500,\n",
       "   'randomforestclassifier__oob_score': True},\n",
       "  {'randomforestclassifier__ccp_alpha': 0.1,\n",
       "   'randomforestclassifier__max_depth': None,\n",
       "   'randomforestclassifier__min_samples_leaf': 2,\n",
       "   'randomforestclassifier__min_samples_split': 3,\n",
       "   'randomforestclassifier__n_estimators': 200,\n",
       "   'randomforestclassifier__oob_score': True},\n",
       "  {'randomforestclassifier__ccp_alpha': 0.1,\n",
       "   'randomforestclassifier__max_depth': None,\n",
       "   'randomforestclassifier__min_samples_leaf': 2,\n",
       "   'randomforestclassifier__min_samples_split': 3,\n",
       "   'randomforestclassifier__n_estimators': 500,\n",
       "   'randomforestclassifier__oob_score': True},\n",
       "  {'randomforestclassifier__ccp_alpha': 0.1,\n",
       "   'randomforestclassifier__max_depth': None,\n",
       "   'randomforestclassifier__min_samples_leaf': 2,\n",
       "   'randomforestclassifier__min_samples_split': 3,\n",
       "   'randomforestclassifier__n_estimators': 1000,\n",
       "   'randomforestclassifier__oob_score': True},\n",
       "  {'randomforestclassifier__ccp_alpha': 0.1,\n",
       "   'randomforestclassifier__max_depth': None,\n",
       "   'randomforestclassifier__min_samples_leaf': 2,\n",
       "   'randomforestclassifier__min_samples_split': 3,\n",
       "   'randomforestclassifier__n_estimators': 1500,\n",
       "   'randomforestclassifier__oob_score': True},\n",
       "  {'randomforestclassifier__ccp_alpha': 0.1,\n",
       "   'randomforestclassifier__max_depth': 3,\n",
       "   'randomforestclassifier__min_samples_leaf': 1,\n",
       "   'randomforestclassifier__min_samples_split': 2,\n",
       "   'randomforestclassifier__n_estimators': 200,\n",
       "   'randomforestclassifier__oob_score': True},\n",
       "  {'randomforestclassifier__ccp_alpha': 0.1,\n",
       "   'randomforestclassifier__max_depth': 3,\n",
       "   'randomforestclassifier__min_samples_leaf': 1,\n",
       "   'randomforestclassifier__min_samples_split': 2,\n",
       "   'randomforestclassifier__n_estimators': 500,\n",
       "   'randomforestclassifier__oob_score': True},\n",
       "  {'randomforestclassifier__ccp_alpha': 0.1,\n",
       "   'randomforestclassifier__max_depth': 3,\n",
       "   'randomforestclassifier__min_samples_leaf': 1,\n",
       "   'randomforestclassifier__min_samples_split': 2,\n",
       "   'randomforestclassifier__n_estimators': 1000,\n",
       "   'randomforestclassifier__oob_score': True},\n",
       "  {'randomforestclassifier__ccp_alpha': 0.1,\n",
       "   'randomforestclassifier__max_depth': 3,\n",
       "   'randomforestclassifier__min_samples_leaf': 1,\n",
       "   'randomforestclassifier__min_samples_split': 2,\n",
       "   'randomforestclassifier__n_estimators': 1500,\n",
       "   'randomforestclassifier__oob_score': True},\n",
       "  {'randomforestclassifier__ccp_alpha': 0.1,\n",
       "   'randomforestclassifier__max_depth': 3,\n",
       "   'randomforestclassifier__min_samples_leaf': 1,\n",
       "   'randomforestclassifier__min_samples_split': 3,\n",
       "   'randomforestclassifier__n_estimators': 200,\n",
       "   'randomforestclassifier__oob_score': True},\n",
       "  {'randomforestclassifier__ccp_alpha': 0.1,\n",
       "   'randomforestclassifier__max_depth': 3,\n",
       "   'randomforestclassifier__min_samples_leaf': 1,\n",
       "   'randomforestclassifier__min_samples_split': 3,\n",
       "   'randomforestclassifier__n_estimators': 500,\n",
       "   'randomforestclassifier__oob_score': True},\n",
       "  {'randomforestclassifier__ccp_alpha': 0.1,\n",
       "   'randomforestclassifier__max_depth': 3,\n",
       "   'randomforestclassifier__min_samples_leaf': 1,\n",
       "   'randomforestclassifier__min_samples_split': 3,\n",
       "   'randomforestclassifier__n_estimators': 1000,\n",
       "   'randomforestclassifier__oob_score': True},\n",
       "  {'randomforestclassifier__ccp_alpha': 0.1,\n",
       "   'randomforestclassifier__max_depth': 3,\n",
       "   'randomforestclassifier__min_samples_leaf': 1,\n",
       "   'randomforestclassifier__min_samples_split': 3,\n",
       "   'randomforestclassifier__n_estimators': 1500,\n",
       "   'randomforestclassifier__oob_score': True},\n",
       "  {'randomforestclassifier__ccp_alpha': 0.1,\n",
       "   'randomforestclassifier__max_depth': 3,\n",
       "   'randomforestclassifier__min_samples_leaf': 2,\n",
       "   'randomforestclassifier__min_samples_split': 2,\n",
       "   'randomforestclassifier__n_estimators': 200,\n",
       "   'randomforestclassifier__oob_score': True},\n",
       "  {'randomforestclassifier__ccp_alpha': 0.1,\n",
       "   'randomforestclassifier__max_depth': 3,\n",
       "   'randomforestclassifier__min_samples_leaf': 2,\n",
       "   'randomforestclassifier__min_samples_split': 2,\n",
       "   'randomforestclassifier__n_estimators': 500,\n",
       "   'randomforestclassifier__oob_score': True},\n",
       "  {'randomforestclassifier__ccp_alpha': 0.1,\n",
       "   'randomforestclassifier__max_depth': 3,\n",
       "   'randomforestclassifier__min_samples_leaf': 2,\n",
       "   'randomforestclassifier__min_samples_split': 2,\n",
       "   'randomforestclassifier__n_estimators': 1000,\n",
       "   'randomforestclassifier__oob_score': True},\n",
       "  {'randomforestclassifier__ccp_alpha': 0.1,\n",
       "   'randomforestclassifier__max_depth': 3,\n",
       "   'randomforestclassifier__min_samples_leaf': 2,\n",
       "   'randomforestclassifier__min_samples_split': 2,\n",
       "   'randomforestclassifier__n_estimators': 1500,\n",
       "   'randomforestclassifier__oob_score': True},\n",
       "  {'randomforestclassifier__ccp_alpha': 0.1,\n",
       "   'randomforestclassifier__max_depth': 3,\n",
       "   'randomforestclassifier__min_samples_leaf': 2,\n",
       "   'randomforestclassifier__min_samples_split': 3,\n",
       "   'randomforestclassifier__n_estimators': 200,\n",
       "   'randomforestclassifier__oob_score': True},\n",
       "  {'randomforestclassifier__ccp_alpha': 0.1,\n",
       "   'randomforestclassifier__max_depth': 3,\n",
       "   'randomforestclassifier__min_samples_leaf': 2,\n",
       "   'randomforestclassifier__min_samples_split': 3,\n",
       "   'randomforestclassifier__n_estimators': 500,\n",
       "   'randomforestclassifier__oob_score': True},\n",
       "  {'randomforestclassifier__ccp_alpha': 0.1,\n",
       "   'randomforestclassifier__max_depth': 3,\n",
       "   'randomforestclassifier__min_samples_leaf': 2,\n",
       "   'randomforestclassifier__min_samples_split': 3,\n",
       "   'randomforestclassifier__n_estimators': 1000,\n",
       "   'randomforestclassifier__oob_score': True},\n",
       "  {'randomforestclassifier__ccp_alpha': 0.1,\n",
       "   'randomforestclassifier__max_depth': 3,\n",
       "   'randomforestclassifier__min_samples_leaf': 2,\n",
       "   'randomforestclassifier__min_samples_split': 3,\n",
       "   'randomforestclassifier__n_estimators': 1500,\n",
       "   'randomforestclassifier__oob_score': True},\n",
       "  {'randomforestclassifier__ccp_alpha': 0.1,\n",
       "   'randomforestclassifier__max_depth': 5,\n",
       "   'randomforestclassifier__min_samples_leaf': 1,\n",
       "   'randomforestclassifier__min_samples_split': 2,\n",
       "   'randomforestclassifier__n_estimators': 200,\n",
       "   'randomforestclassifier__oob_score': True},\n",
       "  {'randomforestclassifier__ccp_alpha': 0.1,\n",
       "   'randomforestclassifier__max_depth': 5,\n",
       "   'randomforestclassifier__min_samples_leaf': 1,\n",
       "   'randomforestclassifier__min_samples_split': 2,\n",
       "   'randomforestclassifier__n_estimators': 500,\n",
       "   'randomforestclassifier__oob_score': True},\n",
       "  {'randomforestclassifier__ccp_alpha': 0.1,\n",
       "   'randomforestclassifier__max_depth': 5,\n",
       "   'randomforestclassifier__min_samples_leaf': 1,\n",
       "   'randomforestclassifier__min_samples_split': 2,\n",
       "   'randomforestclassifier__n_estimators': 1000,\n",
       "   'randomforestclassifier__oob_score': True},\n",
       "  {'randomforestclassifier__ccp_alpha': 0.1,\n",
       "   'randomforestclassifier__max_depth': 5,\n",
       "   'randomforestclassifier__min_samples_leaf': 1,\n",
       "   'randomforestclassifier__min_samples_split': 2,\n",
       "   'randomforestclassifier__n_estimators': 1500,\n",
       "   'randomforestclassifier__oob_score': True},\n",
       "  {'randomforestclassifier__ccp_alpha': 0.1,\n",
       "   'randomforestclassifier__max_depth': 5,\n",
       "   'randomforestclassifier__min_samples_leaf': 1,\n",
       "   'randomforestclassifier__min_samples_split': 3,\n",
       "   'randomforestclassifier__n_estimators': 200,\n",
       "   'randomforestclassifier__oob_score': True},\n",
       "  {'randomforestclassifier__ccp_alpha': 0.1,\n",
       "   'randomforestclassifier__max_depth': 5,\n",
       "   'randomforestclassifier__min_samples_leaf': 1,\n",
       "   'randomforestclassifier__min_samples_split': 3,\n",
       "   'randomforestclassifier__n_estimators': 500,\n",
       "   'randomforestclassifier__oob_score': True},\n",
       "  {'randomforestclassifier__ccp_alpha': 0.1,\n",
       "   'randomforestclassifier__max_depth': 5,\n",
       "   'randomforestclassifier__min_samples_leaf': 1,\n",
       "   'randomforestclassifier__min_samples_split': 3,\n",
       "   'randomforestclassifier__n_estimators': 1000,\n",
       "   'randomforestclassifier__oob_score': True},\n",
       "  {'randomforestclassifier__ccp_alpha': 0.1,\n",
       "   'randomforestclassifier__max_depth': 5,\n",
       "   'randomforestclassifier__min_samples_leaf': 1,\n",
       "   'randomforestclassifier__min_samples_split': 3,\n",
       "   'randomforestclassifier__n_estimators': 1500,\n",
       "   'randomforestclassifier__oob_score': True},\n",
       "  {'randomforestclassifier__ccp_alpha': 0.1,\n",
       "   'randomforestclassifier__max_depth': 5,\n",
       "   'randomforestclassifier__min_samples_leaf': 2,\n",
       "   'randomforestclassifier__min_samples_split': 2,\n",
       "   'randomforestclassifier__n_estimators': 200,\n",
       "   'randomforestclassifier__oob_score': True},\n",
       "  {'randomforestclassifier__ccp_alpha': 0.1,\n",
       "   'randomforestclassifier__max_depth': 5,\n",
       "   'randomforestclassifier__min_samples_leaf': 2,\n",
       "   'randomforestclassifier__min_samples_split': 2,\n",
       "   'randomforestclassifier__n_estimators': 500,\n",
       "   'randomforestclassifier__oob_score': True},\n",
       "  {'randomforestclassifier__ccp_alpha': 0.1,\n",
       "   'randomforestclassifier__max_depth': 5,\n",
       "   'randomforestclassifier__min_samples_leaf': 2,\n",
       "   'randomforestclassifier__min_samples_split': 2,\n",
       "   'randomforestclassifier__n_estimators': 1000,\n",
       "   'randomforestclassifier__oob_score': True},\n",
       "  {'randomforestclassifier__ccp_alpha': 0.1,\n",
       "   'randomforestclassifier__max_depth': 5,\n",
       "   'randomforestclassifier__min_samples_leaf': 2,\n",
       "   'randomforestclassifier__min_samples_split': 2,\n",
       "   'randomforestclassifier__n_estimators': 1500,\n",
       "   'randomforestclassifier__oob_score': True},\n",
       "  {'randomforestclassifier__ccp_alpha': 0.1,\n",
       "   'randomforestclassifier__max_depth': 5,\n",
       "   'randomforestclassifier__min_samples_leaf': 2,\n",
       "   'randomforestclassifier__min_samples_split': 3,\n",
       "   'randomforestclassifier__n_estimators': 200,\n",
       "   'randomforestclassifier__oob_score': True},\n",
       "  {'randomforestclassifier__ccp_alpha': 0.1,\n",
       "   'randomforestclassifier__max_depth': 5,\n",
       "   'randomforestclassifier__min_samples_leaf': 2,\n",
       "   'randomforestclassifier__min_samples_split': 3,\n",
       "   'randomforestclassifier__n_estimators': 500,\n",
       "   'randomforestclassifier__oob_score': True},\n",
       "  {'randomforestclassifier__ccp_alpha': 0.1,\n",
       "   'randomforestclassifier__max_depth': 5,\n",
       "   'randomforestclassifier__min_samples_leaf': 2,\n",
       "   'randomforestclassifier__min_samples_split': 3,\n",
       "   'randomforestclassifier__n_estimators': 1000,\n",
       "   'randomforestclassifier__oob_score': True},\n",
       "  {'randomforestclassifier__ccp_alpha': 0.1,\n",
       "   'randomforestclassifier__max_depth': 5,\n",
       "   'randomforestclassifier__min_samples_leaf': 2,\n",
       "   'randomforestclassifier__min_samples_split': 3,\n",
       "   'randomforestclassifier__n_estimators': 1500,\n",
       "   'randomforestclassifier__oob_score': True},\n",
       "  {'randomforestclassifier__ccp_alpha': 0.1,\n",
       "   'randomforestclassifier__max_depth': 7,\n",
       "   'randomforestclassifier__min_samples_leaf': 1,\n",
       "   'randomforestclassifier__min_samples_split': 2,\n",
       "   'randomforestclassifier__n_estimators': 200,\n",
       "   'randomforestclassifier__oob_score': True},\n",
       "  {'randomforestclassifier__ccp_alpha': 0.1,\n",
       "   'randomforestclassifier__max_depth': 7,\n",
       "   'randomforestclassifier__min_samples_leaf': 1,\n",
       "   'randomforestclassifier__min_samples_split': 2,\n",
       "   'randomforestclassifier__n_estimators': 500,\n",
       "   'randomforestclassifier__oob_score': True},\n",
       "  {'randomforestclassifier__ccp_alpha': 0.1,\n",
       "   'randomforestclassifier__max_depth': 7,\n",
       "   'randomforestclassifier__min_samples_leaf': 1,\n",
       "   'randomforestclassifier__min_samples_split': 2,\n",
       "   'randomforestclassifier__n_estimators': 1000,\n",
       "   'randomforestclassifier__oob_score': True},\n",
       "  {'randomforestclassifier__ccp_alpha': 0.1,\n",
       "   'randomforestclassifier__max_depth': 7,\n",
       "   'randomforestclassifier__min_samples_leaf': 1,\n",
       "   'randomforestclassifier__min_samples_split': 2,\n",
       "   'randomforestclassifier__n_estimators': 1500,\n",
       "   'randomforestclassifier__oob_score': True},\n",
       "  {'randomforestclassifier__ccp_alpha': 0.1,\n",
       "   'randomforestclassifier__max_depth': 7,\n",
       "   'randomforestclassifier__min_samples_leaf': 1,\n",
       "   'randomforestclassifier__min_samples_split': 3,\n",
       "   'randomforestclassifier__n_estimators': 200,\n",
       "   'randomforestclassifier__oob_score': True},\n",
       "  {'randomforestclassifier__ccp_alpha': 0.1,\n",
       "   'randomforestclassifier__max_depth': 7,\n",
       "   'randomforestclassifier__min_samples_leaf': 1,\n",
       "   'randomforestclassifier__min_samples_split': 3,\n",
       "   'randomforestclassifier__n_estimators': 500,\n",
       "   'randomforestclassifier__oob_score': True},\n",
       "  {'randomforestclassifier__ccp_alpha': 0.1,\n",
       "   'randomforestclassifier__max_depth': 7,\n",
       "   'randomforestclassifier__min_samples_leaf': 1,\n",
       "   'randomforestclassifier__min_samples_split': 3,\n",
       "   'randomforestclassifier__n_estimators': 1000,\n",
       "   'randomforestclassifier__oob_score': True},\n",
       "  {'randomforestclassifier__ccp_alpha': 0.1,\n",
       "   'randomforestclassifier__max_depth': 7,\n",
       "   'randomforestclassifier__min_samples_leaf': 1,\n",
       "   'randomforestclassifier__min_samples_split': 3,\n",
       "   'randomforestclassifier__n_estimators': 1500,\n",
       "   'randomforestclassifier__oob_score': True},\n",
       "  {'randomforestclassifier__ccp_alpha': 0.1,\n",
       "   'randomforestclassifier__max_depth': 7,\n",
       "   'randomforestclassifier__min_samples_leaf': 2,\n",
       "   'randomforestclassifier__min_samples_split': 2,\n",
       "   'randomforestclassifier__n_estimators': 200,\n",
       "   'randomforestclassifier__oob_score': True},\n",
       "  {'randomforestclassifier__ccp_alpha': 0.1,\n",
       "   'randomforestclassifier__max_depth': 7,\n",
       "   'randomforestclassifier__min_samples_leaf': 2,\n",
       "   'randomforestclassifier__min_samples_split': 2,\n",
       "   'randomforestclassifier__n_estimators': 500,\n",
       "   'randomforestclassifier__oob_score': True},\n",
       "  {'randomforestclassifier__ccp_alpha': 0.1,\n",
       "   'randomforestclassifier__max_depth': 7,\n",
       "   'randomforestclassifier__min_samples_leaf': 2,\n",
       "   'randomforestclassifier__min_samples_split': 2,\n",
       "   'randomforestclassifier__n_estimators': 1000,\n",
       "   'randomforestclassifier__oob_score': True},\n",
       "  {'randomforestclassifier__ccp_alpha': 0.1,\n",
       "   'randomforestclassifier__max_depth': 7,\n",
       "   'randomforestclassifier__min_samples_leaf': 2,\n",
       "   'randomforestclassifier__min_samples_split': 2,\n",
       "   'randomforestclassifier__n_estimators': 1500,\n",
       "   'randomforestclassifier__oob_score': True},\n",
       "  {'randomforestclassifier__ccp_alpha': 0.1,\n",
       "   'randomforestclassifier__max_depth': 7,\n",
       "   'randomforestclassifier__min_samples_leaf': 2,\n",
       "   'randomforestclassifier__min_samples_split': 3,\n",
       "   'randomforestclassifier__n_estimators': 200,\n",
       "   'randomforestclassifier__oob_score': True},\n",
       "  {'randomforestclassifier__ccp_alpha': 0.1,\n",
       "   'randomforestclassifier__max_depth': 7,\n",
       "   'randomforestclassifier__min_samples_leaf': 2,\n",
       "   'randomforestclassifier__min_samples_split': 3,\n",
       "   'randomforestclassifier__n_estimators': 500,\n",
       "   'randomforestclassifier__oob_score': True},\n",
       "  {'randomforestclassifier__ccp_alpha': 0.1,\n",
       "   'randomforestclassifier__max_depth': 7,\n",
       "   'randomforestclassifier__min_samples_leaf': 2,\n",
       "   'randomforestclassifier__min_samples_split': 3,\n",
       "   'randomforestclassifier__n_estimators': 1000,\n",
       "   'randomforestclassifier__oob_score': True},\n",
       "  {'randomforestclassifier__ccp_alpha': 0.1,\n",
       "   'randomforestclassifier__max_depth': 7,\n",
       "   'randomforestclassifier__min_samples_leaf': 2,\n",
       "   'randomforestclassifier__min_samples_split': 3,\n",
       "   'randomforestclassifier__n_estimators': 1500,\n",
       "   'randomforestclassifier__oob_score': True}],\n",
       " 'split0_test_score': array([0.79, 0.78, 0.78, 0.78, 0.79, 0.78, 0.78, 0.78, 0.75, 0.74, 0.75,\n",
       "        0.74, 0.71, 0.74, 0.74, 0.74, 0.68, 0.67, 0.71, 0.71, 0.67, 0.68,\n",
       "        0.67, 0.68, 0.68, 0.73, 0.65, 0.68, 0.69, 0.69, 0.69, 0.67, 0.69,\n",
       "        0.71, 0.66, 0.67, 0.66, 0.67, 0.66, 0.66, 0.71, 0.66, 0.68, 0.67,\n",
       "        0.68, 0.66, 0.71, 0.68, 0.72, 0.68, 0.68, 0.68, 0.68, 0.68, 0.67,\n",
       "        0.66, 0.65, 0.68, 0.66, 0.66, 0.69, 0.71, 0.67, 0.66, 0.52, 0.52,\n",
       "        0.52, 0.52, 0.52, 0.52, 0.52, 0.52, 0.52, 0.52, 0.52, 0.52, 0.52,\n",
       "        0.52, 0.52, 0.52, 0.52, 0.52, 0.52, 0.52, 0.52, 0.52, 0.52, 0.52,\n",
       "        0.52, 0.52, 0.52, 0.52, 0.52, 0.52, 0.52, 0.52, 0.52, 0.52, 0.52,\n",
       "        0.52, 0.52, 0.52, 0.52, 0.52, 0.52, 0.52, 0.52, 0.52, 0.52, 0.52,\n",
       "        0.52, 0.52, 0.52, 0.52, 0.52, 0.52, 0.52, 0.52, 0.52, 0.52, 0.52,\n",
       "        0.52, 0.52, 0.52, 0.52, 0.52, 0.52, 0.52]),\n",
       " 'split1_test_score': array([0.81, 0.82, 0.81, 0.81, 0.81, 0.81, 0.81, 0.81, 0.71, 0.73, 0.72,\n",
       "        0.73, 0.72, 0.71, 0.72, 0.72, 0.66, 0.64, 0.62, 0.68, 0.66, 0.61,\n",
       "        0.64, 0.66, 0.61, 0.65, 0.67, 0.64, 0.62, 0.64, 0.61, 0.65, 0.64,\n",
       "        0.64, 0.64, 0.61, 0.66, 0.62, 0.65, 0.64, 0.62, 0.65, 0.65, 0.64,\n",
       "        0.65, 0.65, 0.62, 0.64, 0.68, 0.65, 0.66, 0.66, 0.66, 0.66, 0.68,\n",
       "        0.68, 0.64, 0.68, 0.64, 0.65, 0.65, 0.65, 0.65, 0.65, 0.53, 0.53,\n",
       "        0.53, 0.53, 0.53, 0.53, 0.53, 0.53, 0.53, 0.53, 0.53, 0.53, 0.53,\n",
       "        0.53, 0.53, 0.53, 0.53, 0.53, 0.53, 0.53, 0.53, 0.53, 0.53, 0.53,\n",
       "        0.53, 0.53, 0.53, 0.53, 0.53, 0.53, 0.53, 0.53, 0.53, 0.53, 0.53,\n",
       "        0.53, 0.53, 0.53, 0.53, 0.53, 0.53, 0.53, 0.53, 0.53, 0.53, 0.53,\n",
       "        0.53, 0.53, 0.53, 0.53, 0.53, 0.53, 0.53, 0.53, 0.53, 0.53, 0.53,\n",
       "        0.53, 0.53, 0.53, 0.53, 0.53, 0.53, 0.53]),\n",
       " 'split2_test_score': array([0.81, 0.81, 0.82, 0.81, 0.81, 0.81, 0.81, 0.81, 0.77, 0.76, 0.76,\n",
       "        0.76, 0.77, 0.76, 0.77, 0.77, 0.71, 0.73, 0.73, 0.75, 0.71, 0.79,\n",
       "        0.76, 0.7 , 0.68, 0.74, 0.75, 0.74, 0.76, 0.73, 0.77, 0.76, 0.8 ,\n",
       "        0.76, 0.79, 0.77, 0.8 , 0.76, 0.77, 0.77, 0.77, 0.76, 0.76, 0.76,\n",
       "        0.77, 0.76, 0.76, 0.76, 0.77, 0.81, 0.79, 0.76, 0.77, 0.8 , 0.79,\n",
       "        0.77, 0.76, 0.77, 0.77, 0.77, 0.8 , 0.77, 0.77, 0.79, 0.52, 0.52,\n",
       "        0.52, 0.52, 0.52, 0.52, 0.52, 0.52, 0.52, 0.52, 0.52, 0.52, 0.52,\n",
       "        0.52, 0.52, 0.52, 0.52, 0.52, 0.52, 0.52, 0.52, 0.52, 0.52, 0.52,\n",
       "        0.52, 0.52, 0.52, 0.52, 0.52, 0.52, 0.52, 0.52, 0.52, 0.52, 0.52,\n",
       "        0.52, 0.52, 0.52, 0.52, 0.52, 0.52, 0.52, 0.52, 0.52, 0.52, 0.52,\n",
       "        0.52, 0.52, 0.52, 0.52, 0.52, 0.52, 0.52, 0.52, 0.52, 0.52, 0.52,\n",
       "        0.52, 0.52, 0.52, 0.52, 0.52, 0.52, 0.52]),\n",
       " 'split3_test_score': array([0.87, 0.87, 0.86, 0.87, 0.87, 0.87, 0.87, 0.87, 0.8 , 0.85, 0.85,\n",
       "        0.83, 0.82, 0.82, 0.85, 0.83, 0.61, 0.64, 0.64, 0.67, 0.71, 0.68,\n",
       "        0.65, 0.68, 0.65, 0.67, 0.67, 0.65, 0.68, 0.64, 0.64, 0.65, 0.69,\n",
       "        0.74, 0.71, 0.71, 0.7 , 0.73, 0.71, 0.73, 0.74, 0.71, 0.69, 0.71,\n",
       "        0.7 , 0.73, 0.7 , 0.7 , 0.81, 0.76, 0.76, 0.79, 0.76, 0.76, 0.76,\n",
       "        0.77, 0.77, 0.8 , 0.74, 0.77, 0.71, 0.76, 0.75, 0.75, 0.52, 0.52,\n",
       "        0.52, 0.52, 0.52, 0.52, 0.52, 0.52, 0.52, 0.52, 0.52, 0.52, 0.52,\n",
       "        0.52, 0.52, 0.52, 0.52, 0.52, 0.52, 0.52, 0.52, 0.52, 0.52, 0.52,\n",
       "        0.52, 0.52, 0.52, 0.52, 0.52, 0.52, 0.52, 0.52, 0.52, 0.52, 0.52,\n",
       "        0.52, 0.52, 0.52, 0.52, 0.52, 0.52, 0.52, 0.52, 0.52, 0.52, 0.52,\n",
       "        0.52, 0.52, 0.52, 0.52, 0.52, 0.52, 0.52, 0.52, 0.52, 0.52, 0.52,\n",
       "        0.52, 0.52, 0.52, 0.52, 0.52, 0.52, 0.52]),\n",
       " 'split4_test_score': array([0.93, 0.93, 0.93, 0.93, 0.93, 0.93, 0.93, 0.93, 0.82, 0.82, 0.82,\n",
       "        0.83, 0.83, 0.83, 0.82, 0.82, 0.82, 0.85, 0.82, 0.82, 0.77, 0.83,\n",
       "        0.81, 0.79, 0.77, 0.81, 0.77, 0.81, 0.81, 0.8 , 0.8 , 0.81, 0.8 ,\n",
       "        0.82, 0.83, 0.83, 0.81, 0.8 , 0.79, 0.85, 0.8 , 0.85, 0.8 , 0.82,\n",
       "        0.76, 0.79, 0.79, 0.8 , 0.81, 0.82, 0.82, 0.81, 0.8 , 0.81, 0.85,\n",
       "        0.83, 0.81, 0.8 , 0.81, 0.82, 0.81, 0.8 , 0.83, 0.83, 0.52, 0.52,\n",
       "        0.52, 0.52, 0.52, 0.52, 0.52, 0.52, 0.52, 0.52, 0.52, 0.52, 0.52,\n",
       "        0.52, 0.52, 0.52, 0.52, 0.52, 0.52, 0.52, 0.52, 0.52, 0.52, 0.52,\n",
       "        0.52, 0.52, 0.52, 0.52, 0.52, 0.52, 0.52, 0.52, 0.52, 0.52, 0.52,\n",
       "        0.52, 0.52, 0.52, 0.52, 0.52, 0.52, 0.52, 0.52, 0.52, 0.52, 0.52,\n",
       "        0.52, 0.52, 0.52, 0.52, 0.52, 0.52, 0.52, 0.52, 0.52, 0.52, 0.52,\n",
       "        0.52, 0.52, 0.52, 0.52, 0.52, 0.52, 0.52]),\n",
       " 'mean_test_score': array([0.84, 0.84, 0.84, 0.84, 0.84, 0.84, 0.84, 0.84, 0.77, 0.78, 0.78,\n",
       "        0.78, 0.77, 0.77, 0.78, 0.78, 0.7 , 0.7 , 0.7 , 0.73, 0.71, 0.72,\n",
       "        0.71, 0.7 , 0.68, 0.72, 0.7 , 0.7 , 0.71, 0.7 , 0.7 , 0.71, 0.72,\n",
       "        0.73, 0.73, 0.72, 0.73, 0.72, 0.72, 0.73, 0.73, 0.73, 0.72, 0.72,\n",
       "        0.71, 0.72, 0.72, 0.72, 0.76, 0.74, 0.74, 0.74, 0.73, 0.74, 0.75,\n",
       "        0.74, 0.73, 0.75, 0.72, 0.73, 0.73, 0.74, 0.73, 0.73, 0.52, 0.52,\n",
       "        0.52, 0.52, 0.52, 0.52, 0.52, 0.52, 0.52, 0.52, 0.52, 0.52, 0.52,\n",
       "        0.52, 0.52, 0.52, 0.52, 0.52, 0.52, 0.52, 0.52, 0.52, 0.52, 0.52,\n",
       "        0.52, 0.52, 0.52, 0.52, 0.52, 0.52, 0.52, 0.52, 0.52, 0.52, 0.52,\n",
       "        0.52, 0.52, 0.52, 0.52, 0.52, 0.52, 0.52, 0.52, 0.52, 0.52, 0.52,\n",
       "        0.52, 0.52, 0.52, 0.52, 0.52, 0.52, 0.52, 0.52, 0.52, 0.52, 0.52,\n",
       "        0.52, 0.52, 0.52, 0.52, 0.52, 0.52, 0.52]),\n",
       " 'std_test_score': array([0.05, 0.05, 0.05, 0.05, 0.05, 0.05, 0.05, 0.05, 0.04, 0.05, 0.05,\n",
       "        0.04, 0.05, 0.05, 0.05, 0.04, 0.07, 0.08, 0.07, 0.06, 0.04, 0.08,\n",
       "        0.07, 0.04, 0.05, 0.06, 0.05, 0.06, 0.07, 0.06, 0.07, 0.07, 0.06,\n",
       "        0.06, 0.07, 0.08, 0.07, 0.06, 0.06, 0.08, 0.06, 0.07, 0.06, 0.07,\n",
       "        0.05, 0.05, 0.06, 0.06, 0.05, 0.07, 0.06, 0.06, 0.05, 0.06, 0.07,\n",
       "        0.06, 0.07, 0.05, 0.07, 0.07, 0.06, 0.05, 0.07, 0.07, 0.  , 0.  ,\n",
       "        0.  , 0.  , 0.  , 0.  , 0.  , 0.  , 0.  , 0.  , 0.  , 0.  , 0.  ,\n",
       "        0.  , 0.  , 0.  , 0.  , 0.  , 0.  , 0.  , 0.  , 0.  , 0.  , 0.  ,\n",
       "        0.  , 0.  , 0.  , 0.  , 0.  , 0.  , 0.  , 0.  , 0.  , 0.  , 0.  ,\n",
       "        0.  , 0.  , 0.  , 0.  , 0.  , 0.  , 0.  , 0.  , 0.  , 0.  , 0.  ,\n",
       "        0.  , 0.  , 0.  , 0.  , 0.  , 0.  , 0.  , 0.  , 0.  , 0.  , 0.  ,\n",
       "        0.  , 0.  , 0.  , 0.  , 0.  , 0.  , 0.  ]),\n",
       " 'rank_test_score': array([ 1,  1,  4,  4,  1,  4,  4,  4, 16, 10, 10, 10, 15, 14,  9, 13, 63,\n",
       "        56, 59, 38, 55, 43, 54, 61, 64, 44, 60, 58, 51, 62, 56, 53, 40, 30,\n",
       "        35, 41, 37, 45, 46, 32, 33, 36, 49, 42, 52, 46, 49, 48, 17, 20, 22,\n",
       "        24, 29, 22, 18, 21, 34, 19, 39, 26, 30, 25, 28, 26, 65, 65, 65, 65,\n",
       "        65, 65, 65, 65, 65, 65, 65, 65, 65, 65, 65, 65, 65, 65, 65, 65, 65,\n",
       "        65, 65, 65, 65, 65, 65, 65, 65, 65, 65, 65, 65, 65, 65, 65, 65, 65,\n",
       "        65, 65, 65, 65, 65, 65, 65, 65, 65, 65, 65, 65, 65, 65, 65, 65, 65,\n",
       "        65, 65, 65, 65, 65, 65, 65, 65, 65], dtype=int32)}"
      ]
     },
     "execution_count": 1415,
     "metadata": {},
     "output_type": "execute_result"
    }
   ],
   "source": [
    "gs_rfc.cv_results_"
   ]
  },
  {
   "cell_type": "code",
   "execution_count": 1416,
   "metadata": {},
   "outputs": [
    {
     "data": {
      "text/html": [
       "<div>\n",
       "<style scoped>\n",
       "    .dataframe tbody tr th:only-of-type {\n",
       "        vertical-align: middle;\n",
       "    }\n",
       "\n",
       "    .dataframe tbody tr th {\n",
       "        vertical-align: top;\n",
       "    }\n",
       "\n",
       "    .dataframe thead th {\n",
       "        text-align: right;\n",
       "    }\n",
       "</style>\n",
       "<table border=\"1\" class=\"dataframe\">\n",
       "  <thead>\n",
       "    <tr style=\"text-align: right;\">\n",
       "      <th></th>\n",
       "      <th>mean_fit_time</th>\n",
       "      <th>std_fit_time</th>\n",
       "      <th>mean_score_time</th>\n",
       "      <th>std_score_time</th>\n",
       "      <th>param_randomforestclassifier__ccp_alpha</th>\n",
       "      <th>param_randomforestclassifier__max_depth</th>\n",
       "      <th>param_randomforestclassifier__min_samples_leaf</th>\n",
       "      <th>param_randomforestclassifier__min_samples_split</th>\n",
       "      <th>param_randomforestclassifier__n_estimators</th>\n",
       "      <th>param_randomforestclassifier__oob_score</th>\n",
       "      <th>params</th>\n",
       "      <th>split0_test_score</th>\n",
       "      <th>split1_test_score</th>\n",
       "      <th>split2_test_score</th>\n",
       "      <th>split3_test_score</th>\n",
       "      <th>split4_test_score</th>\n",
       "      <th>mean_test_score</th>\n",
       "      <th>std_test_score</th>\n",
       "      <th>rank_test_score</th>\n",
       "    </tr>\n",
       "  </thead>\n",
       "  <tbody>\n",
       "    <tr>\n",
       "      <th>0</th>\n",
       "      <td>0.495392</td>\n",
       "      <td>0.062609</td>\n",
       "      <td>0.033904</td>\n",
       "      <td>0.000719</td>\n",
       "      <td>0</td>\n",
       "      <td>None</td>\n",
       "      <td>1</td>\n",
       "      <td>2</td>\n",
       "      <td>200</td>\n",
       "      <td>True</td>\n",
       "      <td>{'randomforestclassifier__ccp_alpha': 0.0, 'ra...</td>\n",
       "      <td>0.788235</td>\n",
       "      <td>0.811765</td>\n",
       "      <td>0.809524</td>\n",
       "      <td>0.869048</td>\n",
       "      <td>0.928571</td>\n",
       "      <td>0.841429</td>\n",
       "      <td>0.051155</td>\n",
       "      <td>1</td>\n",
       "    </tr>\n",
       "    <tr>\n",
       "      <th>1</th>\n",
       "      <td>1.034668</td>\n",
       "      <td>0.053026</td>\n",
       "      <td>0.082248</td>\n",
       "      <td>0.005561</td>\n",
       "      <td>0</td>\n",
       "      <td>None</td>\n",
       "      <td>1</td>\n",
       "      <td>2</td>\n",
       "      <td>500</td>\n",
       "      <td>True</td>\n",
       "      <td>{'randomforestclassifier__ccp_alpha': 0.0, 'ra...</td>\n",
       "      <td>0.776471</td>\n",
       "      <td>0.823529</td>\n",
       "      <td>0.809524</td>\n",
       "      <td>0.869048</td>\n",
       "      <td>0.928571</td>\n",
       "      <td>0.841429</td>\n",
       "      <td>0.052753</td>\n",
       "      <td>1</td>\n",
       "    </tr>\n",
       "    <tr>\n",
       "      <th>2</th>\n",
       "      <td>2.154588</td>\n",
       "      <td>0.049849</td>\n",
       "      <td>0.155178</td>\n",
       "      <td>0.012790</td>\n",
       "      <td>0</td>\n",
       "      <td>None</td>\n",
       "      <td>1</td>\n",
       "      <td>2</td>\n",
       "      <td>1000</td>\n",
       "      <td>True</td>\n",
       "      <td>{'randomforestclassifier__ccp_alpha': 0.0, 'ra...</td>\n",
       "      <td>0.776471</td>\n",
       "      <td>0.811765</td>\n",
       "      <td>0.821429</td>\n",
       "      <td>0.857143</td>\n",
       "      <td>0.928571</td>\n",
       "      <td>0.839076</td>\n",
       "      <td>0.051600</td>\n",
       "      <td>4</td>\n",
       "    </tr>\n",
       "    <tr>\n",
       "      <th>3</th>\n",
       "      <td>3.103280</td>\n",
       "      <td>0.117102</td>\n",
       "      <td>0.220428</td>\n",
       "      <td>0.025663</td>\n",
       "      <td>0</td>\n",
       "      <td>None</td>\n",
       "      <td>1</td>\n",
       "      <td>2</td>\n",
       "      <td>1500</td>\n",
       "      <td>True</td>\n",
       "      <td>{'randomforestclassifier__ccp_alpha': 0.0, 'ra...</td>\n",
       "      <td>0.776471</td>\n",
       "      <td>0.811765</td>\n",
       "      <td>0.809524</td>\n",
       "      <td>0.869048</td>\n",
       "      <td>0.928571</td>\n",
       "      <td>0.839076</td>\n",
       "      <td>0.053752</td>\n",
       "      <td>4</td>\n",
       "    </tr>\n",
       "    <tr>\n",
       "      <th>4</th>\n",
       "      <td>0.392474</td>\n",
       "      <td>0.026453</td>\n",
       "      <td>0.032702</td>\n",
       "      <td>0.003774</td>\n",
       "      <td>0</td>\n",
       "      <td>None</td>\n",
       "      <td>1</td>\n",
       "      <td>3</td>\n",
       "      <td>200</td>\n",
       "      <td>True</td>\n",
       "      <td>{'randomforestclassifier__ccp_alpha': 0.0, 'ra...</td>\n",
       "      <td>0.788235</td>\n",
       "      <td>0.811765</td>\n",
       "      <td>0.809524</td>\n",
       "      <td>0.869048</td>\n",
       "      <td>0.928571</td>\n",
       "      <td>0.841429</td>\n",
       "      <td>0.051155</td>\n",
       "      <td>1</td>\n",
       "    </tr>\n",
       "  </tbody>\n",
       "</table>\n",
       "</div>"
      ],
      "text/plain": [
       "   mean_fit_time  std_fit_time  mean_score_time  std_score_time  \\\n",
       "0       0.495392      0.062609         0.033904        0.000719   \n",
       "1       1.034668      0.053026         0.082248        0.005561   \n",
       "2       2.154588      0.049849         0.155178        0.012790   \n",
       "3       3.103280      0.117102         0.220428        0.025663   \n",
       "4       0.392474      0.026453         0.032702        0.003774   \n",
       "\n",
       "  param_randomforestclassifier__ccp_alpha  \\\n",
       "0                                       0   \n",
       "1                                       0   \n",
       "2                                       0   \n",
       "3                                       0   \n",
       "4                                       0   \n",
       "\n",
       "  param_randomforestclassifier__max_depth  \\\n",
       "0                                    None   \n",
       "1                                    None   \n",
       "2                                    None   \n",
       "3                                    None   \n",
       "4                                    None   \n",
       "\n",
       "  param_randomforestclassifier__min_samples_leaf  \\\n",
       "0                                              1   \n",
       "1                                              1   \n",
       "2                                              1   \n",
       "3                                              1   \n",
       "4                                              1   \n",
       "\n",
       "  param_randomforestclassifier__min_samples_split  \\\n",
       "0                                               2   \n",
       "1                                               2   \n",
       "2                                               2   \n",
       "3                                               2   \n",
       "4                                               3   \n",
       "\n",
       "  param_randomforestclassifier__n_estimators  \\\n",
       "0                                        200   \n",
       "1                                        500   \n",
       "2                                       1000   \n",
       "3                                       1500   \n",
       "4                                        200   \n",
       "\n",
       "  param_randomforestclassifier__oob_score  \\\n",
       "0                                    True   \n",
       "1                                    True   \n",
       "2                                    True   \n",
       "3                                    True   \n",
       "4                                    True   \n",
       "\n",
       "                                              params  split0_test_score  \\\n",
       "0  {'randomforestclassifier__ccp_alpha': 0.0, 'ra...           0.788235   \n",
       "1  {'randomforestclassifier__ccp_alpha': 0.0, 'ra...           0.776471   \n",
       "2  {'randomforestclassifier__ccp_alpha': 0.0, 'ra...           0.776471   \n",
       "3  {'randomforestclassifier__ccp_alpha': 0.0, 'ra...           0.776471   \n",
       "4  {'randomforestclassifier__ccp_alpha': 0.0, 'ra...           0.788235   \n",
       "\n",
       "   split1_test_score  split2_test_score  split3_test_score  split4_test_score  \\\n",
       "0           0.811765           0.809524           0.869048           0.928571   \n",
       "1           0.823529           0.809524           0.869048           0.928571   \n",
       "2           0.811765           0.821429           0.857143           0.928571   \n",
       "3           0.811765           0.809524           0.869048           0.928571   \n",
       "4           0.811765           0.809524           0.869048           0.928571   \n",
       "\n",
       "   mean_test_score  std_test_score  rank_test_score  \n",
       "0         0.841429        0.051155                1  \n",
       "1         0.841429        0.052753                1  \n",
       "2         0.839076        0.051600                4  \n",
       "3         0.839076        0.053752                4  \n",
       "4         0.841429        0.051155                1  "
      ]
     },
     "execution_count": 1416,
     "metadata": {},
     "output_type": "execute_result"
    }
   ],
   "source": [
    "cv_scores = pd.DataFrame(gs_rfc.cv_results_)\n",
    "cv_scores.head()"
   ]
  },
  {
   "cell_type": "code",
   "execution_count": 1417,
   "metadata": {},
   "outputs": [],
   "source": [
    "top_scorer = cv_scores[cv_scores.rank_test_score==1]"
   ]
  },
  {
   "cell_type": "code",
   "execution_count": 1418,
   "metadata": {},
   "outputs": [
    {
     "data": {
      "text/plain": [
       "[0.788235294117647,\n",
       " 0.8117647058823529,\n",
       " 0.8095238095238095,\n",
       " 0.8690476190476191,\n",
       " 0.9285714285714286]"
      ]
     },
     "execution_count": 1418,
     "metadata": {},
     "output_type": "execute_result"
    }
   ],
   "source": [
    "top_scorer_cvs = []\n",
    "\n",
    "for col in ['split0_test_score', 'split1_test_score', 'split2_test_score', 'split3_test_score', 'split4_test_score']:\n",
    "    top_scorer_cvs.append(pd.DataFrame(top_scorer[col]).iloc[0, 0])\n",
    "\n",
    "top_scorer_cvs"
   ]
  },
  {
   "cell_type": "code",
   "execution_count": 1439,
   "metadata": {},
   "outputs": [
    {
     "data": {
      "text/plain": [
       "0.8414285714285714"
      ]
     },
     "execution_count": 1439,
     "metadata": {},
     "output_type": "execute_result"
    }
   ],
   "source": [
    "top_scorer_cvs_mean = np.array(top_scorer_cvs).mean()\n",
    "top_scorer_cvs_mean"
   ]
  },
  {
   "cell_type": "code",
   "execution_count": 1440,
   "metadata": {},
   "outputs": [],
   "source": [
    "y_pred_test = rfc_best.predict(X_test)"
   ]
  },
  {
   "cell_type": "code",
   "execution_count": 1441,
   "metadata": {},
   "outputs": [
    {
     "data": {
      "text/plain": [
       "array([[43, 13],\n",
       "       [ 5, 45]])"
      ]
     },
     "execution_count": 1441,
     "metadata": {},
     "output_type": "execute_result"
    }
   ],
   "source": [
    "confusion_matrix(y_test, y_pred_test)"
   ]
  },
  {
   "cell_type": "code",
   "execution_count": 1442,
   "metadata": {},
   "outputs": [
    {
     "name": "stdout",
     "output_type": "stream",
     "text": [
      "              precision    recall  f1-score   support\n",
      "\n",
      "        high       0.90      0.77      0.83        56\n",
      "         low       0.78      0.90      0.83        50\n",
      "\n",
      "    accuracy                           0.83       106\n",
      "   macro avg       0.84      0.83      0.83       106\n",
      "weighted avg       0.84      0.83      0.83       106\n",
      "\n"
     ]
    }
   ],
   "source": [
    "print(classification_report(y_test, y_pred_test))"
   ]
  },
  {
   "cell_type": "markdown",
   "metadata": {},
   "source": [
    "The precision, recall and accuracy scores are reasonably high, justifying a strong level of confidence in the model predictions."
   ]
  },
  {
   "cell_type": "code",
   "execution_count": 1443,
   "metadata": {},
   "outputs": [],
   "source": [
    "tn, fp, fn, tp = confusion_matrix(y_test, y_pred_test).ravel()"
   ]
  },
  {
   "cell_type": "code",
   "execution_count": 1467,
   "metadata": {},
   "outputs": [
    {
     "data": {
      "text/plain": [
       "array([43, 13,  5, 45])"
      ]
     },
     "execution_count": 1467,
     "metadata": {},
     "output_type": "execute_result"
    }
   ],
   "source": [
    "confusion_matrix(y_test, y_pred_test).ravel()"
   ]
  },
  {
   "cell_type": "code",
   "execution_count": 1459,
   "metadata": {},
   "outputs": [],
   "source": [
    "true = tp + tn"
   ]
  },
  {
   "cell_type": "code",
   "execution_count": 1461,
   "metadata": {},
   "outputs": [],
   "source": [
    "false = fp + fn"
   ]
  },
  {
   "cell_type": "code",
   "execution_count": 1446,
   "metadata": {},
   "outputs": [
    {
     "name": "stdout",
     "output_type": "stream",
     "text": [
      "The model correctly predicted 88 salaries and falsely predicted 18 salaries.\n"
     ]
    }
   ],
   "source": [
    "print(f'The model correctly predicted {true} salaries and falsely predicted {false} salaries.')"
   ]
  },
  {
   "cell_type": "code",
   "execution_count": 1466,
   "metadata": {},
   "outputs": [
    {
     "data": {
      "image/png": "[encoded data removed]",
      "text/plain": [
       "<Figure size 432x288 with 2 Axes>"
      ]
     },
     "metadata": {
      "needs_background": "light"
     },
     "output_type": "display_data"
    }
   ],
   "source": [
    "import matplotlib.pyplot as plt\n",
    "import itertools\n",
    "\n",
    "def plot_confusion_matrix(cm, classes,\n",
    "                          title='Confusion matrix',\n",
    "                          cmap=plt.cm.Blues):\n",
    "\n",
    "    plt.imshow(cm, interpolation='nearest', cmap=cmap)\n",
    "    plt.title(title)\n",
    "    plt.colorbar()\n",
    "    tick_marks = np.arange(len(classes))\n",
    "    plt.xticks(tick_marks, classes, rotation=45)\n",
    "    plt.yticks(tick_marks, classes)\n",
    "\n",
    "    fmt = 'd'\n",
    "    thresh = cm.max() / 2.\n",
    "    for i, j in itertools.product(range(cm.shape[0]), range(cm.shape[1])):\n",
    "        plt.text(j, i, format(cm[i, j], fmt),\n",
    "                 horizontalalignment=\"center\",\n",
    "                 color=\"white\" if cm[i, j] > thresh else \"black\")\n",
    "\n",
    "    plt.ylabel('True label')\n",
    "    plt.xlabel('Predicted label')\n",
    "    plt.tight_layout()\n",
    "\n",
    "\n",
    "cnf_matrix = confusion_matrix(y_test, y_pred_test)\n",
    "np.set_printoptions(precision=2)\n",
    "\n",
    "plt.figure()\n",
    "plot_confusion_matrix(cnf_matrix, classes=['High','Low'],\n",
    "                      title='Confusion matrix')"
   ]
  },
  {
   "cell_type": "code",
   "execution_count": 1448,
   "metadata": {},
   "outputs": [
    {
     "name": "stdout",
     "output_type": "stream",
     "text": [
      "False Positives: 13, False Negatives: 5\n"
     ]
    }
   ],
   "source": [
    "print(f'False Positives: {fp}, False Negatives: {fn}')"
   ]
  },
  {
   "cell_type": "code",
   "execution_count": 1455,
   "metadata": {},
   "outputs": [
    {
     "data": {
      "text/plain": [
       "high    56\n",
       "low     50\n",
       "Name: true, dtype: int64"
      ]
     },
     "execution_count": 1455,
     "metadata": {},
     "output_type": "execute_result"
    }
   ],
   "source": [
    "pred_compare = pd.DataFrame(zip(y_test, y_pred_test), columns=['true', 'pred'])\n",
    "pred_compare.true.value_counts()"
   ]
  },
  {
   "cell_type": "code",
   "execution_count": 1456,
   "metadata": {},
   "outputs": [
    {
     "data": {
      "text/plain": [
       "low     58\n",
       "high    48\n",
       "Name: pred, dtype: int64"
      ]
     },
     "execution_count": 1456,
     "metadata": {},
     "output_type": "execute_result"
    }
   ],
   "source": [
    "pred_compare.pred.value_counts()"
   ]
  },
  {
   "cell_type": "code",
   "execution_count": 1506,
   "metadata": {},
   "outputs": [
    {
     "data": {
      "text/plain": [
       "(43, 45)"
      ]
     },
     "execution_count": 1506,
     "metadata": {},
     "output_type": "execute_result"
    }
   ],
   "source": [
    "tn, tp"
   ]
  },
  {
   "cell_type": "markdown",
   "metadata": {},
   "source": [
    "Looking at the confusion matrix, it is apparent that the model is more likely to wrongly predict a high-paying job as offering a low salary than vice versa.\n",
    "\n",
    "Issues with making predictions on high a low salaries rather than more complex classifications or even attempting to predict the salary amount is that the accuracy of the predictions is greater, meaning that any information passed to clients is less likely to cause embarrassment or confusion. However, the high and low salary classifications are very broad and may not match up well with an amount that the client considers to be a high or a low salary. Therefore, there could still be some inadequacy to the model.\n",
    "\n",
    "Regardless, if a client were to be told that the job they were interviewing for was a low paying role, there can't be any upset if they were to find that the salary was higher than expected, however it may damage the boss' relationship with the client if they believe they have been misinformed and that the salary offering renders the role unsuitable."
   ]
  },
  {
   "cell_type": "code",
   "execution_count": 1428,
   "metadata": {},
   "outputs": [
    {
     "data": {
      "text/plain": [
       "{'columntransformer': ColumnTransformer(remainder='passthrough',\n",
       "                   transformers=[('title', CountVectorizer(stop_words='english'),\n",
       "                                  'title'),\n",
       "                                 ('company',\n",
       "                                  CountVectorizer(stop_words='english'),\n",
       "                                  'company'),\n",
       "                                 ('location',\n",
       "                                  CountVectorizer(max_df=0.9,\n",
       "                                                  stop_words='english'),\n",
       "                                  'location'),\n",
       "                                 ('country',\n",
       "                                  OneHotEncoder(handle_unknown='ignore'),\n",
       "                                  ['country'])]),\n",
       " 'randomforestclassifier': RandomForestClassifier(n_estimators=200, n_jobs=-2, oob_score=True)}"
      ]
     },
     "execution_count": 1428,
     "metadata": {},
     "output_type": "execute_result"
    }
   ],
   "source": [
    "rfc_best.named_steps"
   ]
  },
  {
   "cell_type": "code",
   "execution_count": 1493,
   "metadata": {},
   "outputs": [],
   "source": [
    "importances = rfc_best['randomforestclassifier'].feature_importances_"
   ]
  },
  {
   "cell_type": "code",
   "execution_count": 1494,
   "metadata": {},
   "outputs": [],
   "source": [
    "names = rfc_best['columntransformer'].get_feature_names()"
   ]
  },
  {
   "cell_type": "code",
   "execution_count": 1495,
   "metadata": {},
   "outputs": [],
   "source": [
    "features_df = pd.DataFrame(importances, index=names, columns=['coef'])"
   ]
  },
  {
   "cell_type": "code",
   "execution_count": 1496,
   "metadata": {},
   "outputs": [],
   "source": [
    "feats = features_df.coef.sort_values(ascending=False)"
   ]
  },
  {
   "cell_type": "code",
   "execution_count": 1497,
   "metadata": {},
   "outputs": [
    {
     "data": {
      "text/plain": [
       "title__lead            0.039922\n",
       "country__x0_usa        0.036042\n",
       "title__analyst         0.023918\n",
       "title__senior          0.022123\n",
       "country__x0_england    0.021505\n",
       "title__scientist       0.018656\n",
       "company__harnham       0.014582\n",
       "title__data            0.014287\n",
       "title__head            0.013405\n",
       "title__manager         0.012456\n",
       "Name: coef, dtype: float64"
      ]
     },
     "execution_count": 1497,
     "metadata": {},
     "output_type": "execute_result"
    }
   ],
   "source": [
    "feats.head(10)"
   ]
  },
  {
   "cell_type": "code",
   "execution_count": 1435,
   "metadata": {},
   "outputs": [
    {
     "data": {
      "text/html": [
       "<div>\n",
       "<style scoped>\n",
       "    .dataframe tbody tr th:only-of-type {\n",
       "        vertical-align: middle;\n",
       "    }\n",
       "\n",
       "    .dataframe tbody tr th {\n",
       "        vertical-align: top;\n",
       "    }\n",
       "\n",
       "    .dataframe thead th {\n",
       "        text-align: right;\n",
       "    }\n",
       "</style>\n",
       "<table border=\"1\" class=\"dataframe\">\n",
       "  <thead>\n",
       "    <tr style=\"text-align: right;\">\n",
       "      <th></th>\n",
       "      <th>coef</th>\n",
       "    </tr>\n",
       "  </thead>\n",
       "  <tbody>\n",
       "    <tr>\n",
       "      <th>title__creative</th>\n",
       "      <td>0.0</td>\n",
       "    </tr>\n",
       "    <tr>\n",
       "      <th>title__decision</th>\n",
       "      <td>0.0</td>\n",
       "    </tr>\n",
       "    <tr>\n",
       "      <th>location__santa</th>\n",
       "      <td>0.0</td>\n",
       "    </tr>\n",
       "  </tbody>\n",
       "</table>\n",
       "</div>"
      ],
      "text/plain": [
       "                 coef\n",
       "title__creative   0.0\n",
       "title__decision   0.0\n",
       "location__santa   0.0"
      ]
     },
     "execution_count": 1435,
     "metadata": {},
     "output_type": "execute_result"
    }
   ],
   "source": [
    "features_df[features_df.coef==0]"
   ]
  },
  {
   "cell_type": "markdown",
   "metadata": {
    "focus": false,
    "id": "4fb29de2-5b98-474c-a4ad-5170b72b9aea"
   },
   "source": [
    "### The Salary Discussion\n",
    "\n",
    "- What are the tradeoffs between detecting high vs low salary?\n",
    "- What are the differences and when do you want a high-recall or a high-precision model in this scenario.\n",
    "- How do the ROC and precision-recall curves look for the prevailing model?"
   ]
  },
  {
   "cell_type": "markdown",
   "metadata": {},
   "source": [
    "It could be said that the ideal score would be to achieve a high Recall score, since you would want to minimise the number of false negatives, thus reducing the number of predictions that falsely predict a high salary for the role.\n",
    "If the features of the model held opposite importances and therefore the positive and negative assignments of high and low were reversed (i.e. correctly predicted high salaries were considered true positives rather than true negatives) we would rather have a high precision score, since the label of a false negative would become a false positive."
   ]
  },
  {
   "cell_type": "code",
   "execution_count": 1483,
   "metadata": {},
   "outputs": [],
   "source": [
    "from sklearn import metrics\n",
    "import seaborn as sns\n",
    "import scikitplot as skplt\n",
    "from matplotlib.colors import ListedColormap\n",
    "cmap = ListedColormap(sns.color_palette(\"husl\", 3))"
   ]
  },
  {
   "cell_type": "code",
   "execution_count": 1474,
   "metadata": {},
   "outputs": [],
   "source": [
    "def plot_f1_lines(figsize=(8,6),fontsize=16):\n",
    "\n",
    "    fig, ax = plt.subplots(figsize=figsize)\n",
    "    \n",
    "    for const in np.linspace(0.2,0.9,8):\n",
    "        x_vals = np.linspace(0.001, 0.999, 100)\n",
    "        y_vals = 1./(2./const-1./x_vals)\n",
    "        ax.plot(x_vals[y_vals > 0], y_vals[y_vals > 0],\n",
    "                 color='lightblue', ls='--', alpha=0.9)\n",
    "        ax.set_ylim([0, 1])\n",
    "        ax.annotate('f1={0:0.1f}'.format(const),\n",
    "                     xy=(x_vals[-10], y_vals[-2]+0.0), fontsize=fontsize)\n",
    "\n",
    "    return fig, ax"
   ]
  },
  {
   "cell_type": "code",
   "execution_count": 1480,
   "metadata": {},
   "outputs": [
    {
     "data": {
      "image/png": "[encoded data removed]",
      "text/plain": [
       "<Figure size 576x432 with 1 Axes>"
      ]
     },
     "metadata": {
      "needs_background": "light"
     },
     "output_type": "display_data"
    }
   ],
   "source": [
    "fig, ax = plot_f1_lines()\n",
    "skplt.metrics.plot_precision_recall(y_test, rfc_best.predict_proba(X_test), \n",
    "                       plot_micro=True, \n",
    "                       title_fontsize=20, text_fontsize=16, cmap=cmap, ax=ax)\n",
    "ax.legend(loc=[1.1,0])\n",
    "plt.show()"
   ]
  },
  {
   "cell_type": "code",
   "execution_count": 1487,
   "metadata": {},
   "outputs": [
    {
     "name": "stdout",
     "output_type": "stream",
     "text": [
      "Area under precision-recall curve:\n",
      "Class high: 0.9879\n",
      "Class low: 0.9785\n"
     ]
    }
   ],
   "source": [
    "print('Area under precision-recall curve:')\n",
    "for i, class_ in enumerate(rfc_best.classes_):\n",
    "    print('Class {}:'.format(class_), \n",
    "          round(metrics.average_precision_score(y==class_, rfc_best.predict_proba(X)[:,i]), 4))"
   ]
  },
  {
   "cell_type": "code",
   "execution_count": 1488,
   "metadata": {},
   "outputs": [
    {
     "data": {
      "image/png": "[encoded data removed]",
      "text/plain": [
       "<Figure size 576x432 with 1 Axes>"
      ]
     },
     "metadata": {
      "needs_background": "light"
     },
     "output_type": "display_data"
    }
   ],
   "source": [
    "skplt.metrics.plot_roc(y_test, rfc_best.predict_proba(X_test), plot_micro=True, plot_macro=True, \n",
    "                       title_fontsize=20, text_fontsize=16, figsize=(8,6), cmap=cmap)\n",
    "plt.show()"
   ]
  },
  {
   "cell_type": "code",
   "execution_count": 1492,
   "metadata": {},
   "outputs": [
    {
     "name": "stdout",
     "output_type": "stream",
     "text": [
      "Area under ROC curve (ROC-AUC):\n",
      "Class high: 0.99\n",
      "Class low: 0.99\n"
     ]
    }
   ],
   "source": [
    "print('Area under ROC curve (ROC-AUC):')\n",
    "for i, class_ in enumerate(rfc_best.classes_):\n",
    "    print('Class {}:'.format(class_), \n",
    "          round(metrics.roc_auc_score(y==class_, rfc_best.predict_proba(X)[:, i]), 2))"
   ]
  },
  {
   "cell_type": "markdown",
   "metadata": {},
   "source": [
    "Both ROC Curve and Precision-Recall have high area under the curve, showing high performance across the classification thresholds."
   ]
  },
  {
   "cell_type": "markdown",
   "metadata": {},
   "source": [
    "### Executive Summary (non-technical audience)."
   ]
  },
  {
   "cell_type": "markdown",
   "metadata": {},
   "source": [
    "##### The Data:\n",
    "In order to collect the data, I used scraping techniques, whereby the data was collated using job postings on the indeed.com websites for Singapore, UK and USA. Reaching just over 500 instances of unique data, I decided this was enough to begin building the model with.\n",
    "Currencies and countries of each of the unique instances were recorded along with the data so that salary amounts could be standardised across the dataset, and so that the country could be passed into the model in addition to other location data to see whether predictive accuracy was affected positively. Data ranges were averaged, taking the mid-range value as the salary offer, and the median was used to establish a label for each datapoint indicating whether it was above the median or below.\n",
    "\n",
    "##### Risks & Limitations:\n",
    "With only just over 500 data points and an imbalance in the number of datapoints per country, it's difficult to know how accurately the model will predict on new data for Singaporean job listings compared with English job listings since there is so much more England-based data to train the model with than there is Singapore-based.\n",
    "\n",
    "The model also has few features prior to feature extraction, the process of extracting detailed information from, for example, the non-standardised data presented in the job title which is subject to unregulated user input. For this reason, much of the accuracy of predictions falls down to how appropriately the feature extraction is conducted.\n",
    "\n",
    "##### Feature Extraction & Considerations:\n",
    "For feature extraction, certain keywords within the title such as senior, lead, managing, manager, junior, entry and others denoting levels of seniority were extracted using Natural Language Processing (NLP). NLP works by separating out the components in the text and indicating to the model what is contained within the title, thus allowing the model to establish trends in salary given keyword presence as stated above, as well as in the sense of the industry of application of the role.\n",
    "\n",
    "The same NLP techniques were used on the location column, in order to give extra consideration to elements such as 'tx', indicating the State in which the job is offered (in this case, Texas).\n",
    "\n",
    "It was considered that, for the job listing company data, a One Hot Encoder (OHE), which takes the entire company name and only considers trends with exact matches, might have been an ideal method of feature extraction given that the company names had well-regulated input; however, it was decided that trends amongst related establishments such as universities could be too valuable to lose, and therefore NLP was used again for the company data. After testing both, it was concluded that scores were improved when harnessing the company data via NLP.\n",
    "\n",
    "\n",
    "##### Results:\n",
    "Upon review of the final model results, the model appears to perform with a relatively high level of accuracy when applied to the defined train and test sets. Looking at the individual influence of the specific features taken in by the model, it is clear that jobs containing keywords denoting high responsibility and skill such as head, lead, analyst, manager and senior have great effect on classification of High salary to the job listings, with 'analyst' and 'scientist' roles bearing the highest probability of drawing a High salary.\n",
    "Further investigation reveals that those jobs in the USA, and in England are likely to be higher paid than those in Singapore. Given that the data for Singapore is sparse, it is possible that these features have become more significant in predicting salary because the salaries in Singapore are generally lower than the median, despite Singapore being a highly expensive place to live.\n",
    "Finally, it appears that the company offering the best salaries for data science roles in a recriutment company called Harnham, ranking higher than any other keyword in the companies column.\n",
    "\n",
    "\n",
    "##### Recommendation for Future Improvements:\n",
    "Improvements to the accuracy of the model may be possible through collection of further data, particularly many more from Singapore and addional datapoints from the USA. The inclusion of more countries would also be taken into consideration upon future amendment.\n",
    "\n",
    "\n",
    "\n",
    "Features with High Absolute Importance:\n",
    "title__lead            0.039922\n",
    "country__x0_usa        0.036042\n",
    "title__analyst         0.023918\n",
    "title__senior          0.022123\n",
    "country__x0_england    0.021505\n",
    "title__scientist       0.018656\n",
    "company__harnham       0.014582\n",
    "title__data            0.014287\n",
    "title__head            0.013405\n",
    "title__manager         0.012456"
   ]
  },
  {
   "cell_type": "markdown",
   "metadata": {},
   "source": [
    "### Blog Post"
   ]
  },
  {
   "cell_type": "markdown",
   "metadata": {},
   "source": [
    "https://willsdatascienceblog.wordpress.com/2021/05/24/project-4-indeed-data-science-job-salary-predictor/"
   ]
  }
 ],
 "metadata": {
  "kernelspec": {
   "display_name": "Python 3",
   "language": "python",
   "name": "python3"
  },
  "language_info": {
   "codemirror_mode": {
    "name": "ipython",
    "version": 3
   },
   "file_extension": ".py",
   "mimetype": "text/x-python",
   "name": "python",
   "nbconvert_exporter": "python",
   "pygments_lexer": "ipython3",
   "version": "3.8.5"
  },
  "toc": {
   "base_numbering": 1,
   "nav_menu": {},
   "number_sections": false,
   "sideBar": true,
   "skip_h1_title": true,
   "title_cell": "Table of Contents",
   "title_sidebar": "Contents",
   "toc_cell": false,
   "toc_position": {},
   "toc_section_display": "block",
   "toc_window_display": false
  }
 },
 "nbformat": 4,
 "nbformat_minor": 1
}
